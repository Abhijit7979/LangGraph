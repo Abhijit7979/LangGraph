{
 "cells": [
  {
   "cell_type": "markdown",
   "id": "5e39c2d4",
   "metadata": {},
   "source": [
    "### Streaming \n",
    "\n",
    "Methods : stream() and astream()\n",
    "- these methods are sync and async methods for straming back results. \n",
    "\n",
    "Additional parameters in streaming modes for graph state. \n",
    "\n",
    "- **values** : this streams the full state of the graph after each node is called.\n",
    "- **update** : this streams updates to the state of the graph after each node is called."
   ]
  },
  {
   "cell_type": "markdown",
   "id": "5b5f6d11",
   "metadata": {},
   "source": [
    "![](../images/img3.png)"
   ]
  },
  {
   "cell_type": "code",
   "execution_count": 1,
   "id": "b81213ed",
   "metadata": {},
   "outputs": [],
   "source": [
    "from typing_extensions import TypedDict\n",
    "from langgraph.graph import START,END,StateGraph\n",
    "\n",
    "## reducers \n",
    "from langgraph.graph.message import add_messages\n",
    "from typing import Annotated \n"
   ]
  },
  {
   "cell_type": "code",
   "execution_count": 2,
   "id": "6b484cb8",
   "metadata": {},
   "outputs": [],
   "source": [
    "class State(TypedDict):\n",
    "    messages: Annotated[list,add_messages]"
   ]
  },
  {
   "cell_type": "code",
   "execution_count": 7,
   "id": "9653f885",
   "metadata": {},
   "outputs": [],
   "source": [
    "import os \n",
    "from dotenv import load_dotenv \n",
    "from rich import print\n",
    "load_dotenv()\n",
    "\n",
    "from langchain_groq import ChatGroq\n",
    "\n",
    "os.environ[\"GROQ_API_KEY\"] = os.getenv(\"GROQ_API\")\n"
   ]
  },
  {
   "cell_type": "code",
   "execution_count": 5,
   "id": "c389adef",
   "metadata": {},
   "outputs": [],
   "source": [
    "llm=ChatGroq(model=\"openai/gpt-oss-120b\")"
   ]
  },
  {
   "cell_type": "code",
   "execution_count": 9,
   "id": "16975e90",
   "metadata": {},
   "outputs": [
    {
     "data": {
      "text/html": [
       "<pre style=\"white-space:pre;overflow-x:auto;line-height:normal;font-family:Menlo,'DejaVu Sans Mono',consolas,'Courier New',monospace\">Hey Abhi! 👋 Nice to meet you.\n",
       "\n",
       "I’m here to help with a wide range of things, such as:\n",
       "\n",
       "- **Answering questions** – from science, history, tech, pop culture, and more.\n",
       "- **Explaining concepts** – break down complex ideas into easy‑to‑understand explanations.\n",
       "- **Writing assistance** – drafts, edits, brainstorming, creative stories, emails, resumes, etc.\n",
       "- **Learning &amp; tutoring** – step‑by‑step problem solving, language practice, study tips.\n",
       "- **Programming help** – code snippets, debugging, algorithm explanations, best practices.\n",
       "- **Planning &amp; organization** – to‑do lists, schedules, project outlines, travel itineraries.\n",
       "- **Fun &amp; creativity** – jokes, riddles, puzzles, role‑playing scenarios, brainstorming ideas.\n",
       "\n",
       "Just let me know what you’re looking for or what you’d like to work on, and we’ll dive right in! 🚀\n",
       "</pre>\n"
      ],
      "text/plain": [
       "Hey Abhi! 👋 Nice to meet you.\n",
       "\n",
       "I’m here to help with a wide range of things, such as:\n",
       "\n",
       "- **Answering questions** – from science, history, tech, pop culture, and more.\n",
       "- **Explaining concepts** – break down complex ideas into easy‑to‑understand explanations.\n",
       "- **Writing assistance** – drafts, edits, brainstorming, creative stories, emails, resumes, etc.\n",
       "- **Learning & tutoring** – step‑by‑step problem solving, language practice, study tips.\n",
       "- **Programming help** – code snippets, debugging, algorithm explanations, best practices.\n",
       "- **Planning & organization** – to‑do lists, schedules, project outlines, travel itineraries.\n",
       "- **Fun & creativity** – jokes, riddles, puzzles, role‑playing scenarios, brainstorming ideas.\n",
       "\n",
       "Just let me know what you’re looking for or what you’d like to work on, and we’ll dive right in! 🚀\n"
      ]
     },
     "metadata": {},
     "output_type": "display_data"
    }
   ],
   "source": [
    "print(llm.invoke(\"hi my name is abhi , how can you help me \").content)"
   ]
  },
  {
   "cell_type": "markdown",
   "id": "d04ebd67",
   "metadata": {},
   "source": [
    "#### We will start with creating nodes "
   ]
  },
  {
   "cell_type": "code",
   "execution_count": 10,
   "id": "e71def56",
   "metadata": {},
   "outputs": [],
   "source": [
    "from langgraph.checkpoint.memory import MemorySaver \n",
    "memory=MemorySaver()\n",
    "\n",
    "def superbot(state:State):\n",
    "    return {\"messages\":[llm.invoke(state[\"messages\"])]}"
   ]
  },
  {
   "cell_type": "code",
   "execution_count": 15,
   "id": "5295705a",
   "metadata": {},
   "outputs": [
    {
     "data": {
      "image/png": "[encoded data removed]",
      "text/plain": [
       "<IPython.core.display.Image object>"
      ]
     },
     "metadata": {},
     "output_type": "display_data"
    }
   ],
   "source": [
    "builder=StateGraph(State)\n",
    "\n",
    "## adding nodes \n",
    "\n",
    "builder.add_node(\"superbot\",superbot)\n",
    "\n",
    "\n",
    "## adding edges \n",
    "\n",
    "builder.add_edge(START,\"superbot\")\n",
    "builder.add_edge(\"superbot\",END)\n",
    "\n",
    "\n",
    "## lets build a graph \n",
    "\n",
    "graph=builder.compile(checkpointer=memory)\n",
    "# graph=builder.compile()\n",
    "\n",
    "from IPython.display import Image,display\n",
    "\n",
    "display(Image(graph.get_graph().draw_mermaid_png()))"
   ]
  },
  {
   "cell_type": "code",
   "execution_count": 18,
   "id": "662798ff",
   "metadata": {},
   "outputs": [
    {
     "data": {
      "text/html": [
       "<pre style=\"white-space:pre;overflow-x:auto;line-height:normal;font-family:Menlo,'DejaVu Sans Mono',consolas,'Courier New',monospace\"><span style=\"font-weight: bold\">{</span>\n",
       "    <span style=\"color: #008000; text-decoration-color: #008000\">'messages'</span>: <span style=\"font-weight: bold\">[</span>\n",
       "        <span style=\"color: #800080; text-decoration-color: #800080; font-weight: bold\">HumanMessage</span><span style=\"font-weight: bold\">(</span>\n",
       "            <span style=\"color: #808000; text-decoration-color: #808000\">content</span>=<span style=\"color: #008000; text-decoration-color: #008000\">'hi, my name is abhijit and i like to play cricket.'</span>,\n",
       "            <span style=\"color: #808000; text-decoration-color: #808000\">additional_kwargs</span>=<span style=\"font-weight: bold\">{}</span>,\n",
       "            <span style=\"color: #808000; text-decoration-color: #808000\">response_metadata</span>=<span style=\"font-weight: bold\">{}</span>,\n",
       "            <span style=\"color: #808000; text-decoration-color: #808000\">id</span>=<span style=\"color: #008000; text-decoration-color: #008000\">'0094031e-f4d1-4473-bc32-24525144fc87'</span>\n",
       "        <span style=\"font-weight: bold\">)</span>,\n",
       "        <span style=\"color: #800080; text-decoration-color: #800080; font-weight: bold\">AIMessage</span><span style=\"font-weight: bold\">(</span>\n",
       "            <span style=\"color: #808000; text-decoration-color: #808000\">content</span>=<span style=\"color: #008000; text-decoration-color: #008000\">\"Hey Abhijit! Great to meet you. Cricket is such an exciting sport—whether you’re batting, </span>\n",
       "<span style=\"color: #008000; text-decoration-color: #008000\">bowling, or just cheering from the stands, there’s always something thrilling happening. Do you have a favorite </span>\n",
       "<span style=\"color: #008000; text-decoration-color: #008000\">team or player? Or maybe you enjoy playing a particular role on the field? I'd love to hear more!\"</span>,\n",
       "            <span style=\"color: #808000; text-decoration-color: #808000\">additional_kwargs</span>=<span style=\"font-weight: bold\">{</span>\n",
       "                <span style=\"color: #008000; text-decoration-color: #008000\">'reasoning_content'</span>: <span style=\"color: #008000; text-decoration-color: #008000\">'The user says hi, introduces themselves. We respond friendly. No disallowed </span>\n",
       "<span style=\"color: #008000; text-decoration-color: #008000\">content.'</span>\n",
       "            <span style=\"font-weight: bold\">}</span>,\n",
       "            <span style=\"color: #808000; text-decoration-color: #808000\">response_metadata</span>=<span style=\"font-weight: bold\">{</span>\n",
       "                <span style=\"color: #008000; text-decoration-color: #008000\">'token_usage'</span>: <span style=\"font-weight: bold\">{</span>\n",
       "                    <span style=\"color: #008000; text-decoration-color: #008000\">'completion_tokens'</span>: <span style=\"color: #008080; text-decoration-color: #008080; font-weight: bold\">93</span>,\n",
       "                    <span style=\"color: #008000; text-decoration-color: #008000\">'prompt_tokens'</span>: <span style=\"color: #008080; text-decoration-color: #008080; font-weight: bold\">86</span>,\n",
       "                    <span style=\"color: #008000; text-decoration-color: #008000\">'total_tokens'</span>: <span style=\"color: #008080; text-decoration-color: #008080; font-weight: bold\">179</span>,\n",
       "                    <span style=\"color: #008000; text-decoration-color: #008000\">'completion_time'</span>: <span style=\"color: #008080; text-decoration-color: #008080; font-weight: bold\">0.184845217</span>,\n",
       "                    <span style=\"color: #008000; text-decoration-color: #008000\">'prompt_time'</span>: <span style=\"color: #008080; text-decoration-color: #008080; font-weight: bold\">0.003091451</span>,\n",
       "                    <span style=\"color: #008000; text-decoration-color: #008000\">'queue_time'</span>: <span style=\"color: #008080; text-decoration-color: #008080; font-weight: bold\">0.043731159</span>,\n",
       "                    <span style=\"color: #008000; text-decoration-color: #008000\">'total_time'</span>: <span style=\"color: #008080; text-decoration-color: #008080; font-weight: bold\">0.187936668</span>\n",
       "                <span style=\"font-weight: bold\">}</span>,\n",
       "                <span style=\"color: #008000; text-decoration-color: #008000\">'model_name'</span>: <span style=\"color: #008000; text-decoration-color: #008000\">'openai/gpt-oss-120b'</span>,\n",
       "                <span style=\"color: #008000; text-decoration-color: #008000\">'system_fingerprint'</span>: <span style=\"color: #008000; text-decoration-color: #008000\">'fp_3a688838c3'</span>,\n",
       "                <span style=\"color: #008000; text-decoration-color: #008000\">'service_tier'</span>: <span style=\"color: #008000; text-decoration-color: #008000\">'on_demand'</span>,\n",
       "                <span style=\"color: #008000; text-decoration-color: #008000\">'finish_reason'</span>: <span style=\"color: #008000; text-decoration-color: #008000\">'stop'</span>,\n",
       "                <span style=\"color: #008000; text-decoration-color: #008000\">'logprobs'</span>: <span style=\"color: #800080; text-decoration-color: #800080; font-style: italic\">None</span>\n",
       "            <span style=\"font-weight: bold\">}</span>,\n",
       "            <span style=\"color: #808000; text-decoration-color: #808000\">id</span>=<span style=\"color: #008000; text-decoration-color: #008000\">'run--e80554d1-4c10-4f46-99e3-15e977e4bf37-0'</span>,\n",
       "            <span style=\"color: #808000; text-decoration-color: #808000\">usage_metadata</span>=<span style=\"font-weight: bold\">{</span><span style=\"color: #008000; text-decoration-color: #008000\">'input_tokens'</span>: <span style=\"color: #008080; text-decoration-color: #008080; font-weight: bold\">86</span>, <span style=\"color: #008000; text-decoration-color: #008000\">'output_tokens'</span>: <span style=\"color: #008080; text-decoration-color: #008080; font-weight: bold\">93</span>, <span style=\"color: #008000; text-decoration-color: #008000\">'total_tokens'</span>: <span style=\"color: #008080; text-decoration-color: #008080; font-weight: bold\">179</span><span style=\"font-weight: bold\">}</span>\n",
       "        <span style=\"font-weight: bold\">)</span>,\n",
       "        <span style=\"color: #800080; text-decoration-color: #800080; font-weight: bold\">HumanMessage</span><span style=\"font-weight: bold\">(</span>\n",
       "            <span style=\"color: #808000; text-decoration-color: #808000\">content</span>=<span style=\"color: #008000; text-decoration-color: #008000\">'hi, my name is abhijit and i like to play cricket.'</span>,\n",
       "            <span style=\"color: #808000; text-decoration-color: #808000\">additional_kwargs</span>=<span style=\"font-weight: bold\">{}</span>,\n",
       "            <span style=\"color: #808000; text-decoration-color: #808000\">response_metadata</span>=<span style=\"font-weight: bold\">{}</span>,\n",
       "            <span style=\"color: #808000; text-decoration-color: #808000\">id</span>=<span style=\"color: #008000; text-decoration-color: #008000\">'d676ab1a-effc-455c-8f14-3031dd106558'</span>\n",
       "        <span style=\"font-weight: bold\">)</span>,\n",
       "        <span style=\"color: #800080; text-decoration-color: #800080; font-weight: bold\">AIMessage</span><span style=\"font-weight: bold\">(</span>\n",
       "            <span style=\"color: #808000; text-decoration-color: #808000\">content</span>=<span style=\"color: #008000; text-decoration-color: #008000\">\"Hey Abhijit! Nice to meet you. 🎉  \\n\\nCricket is such a fun game—whether you’re out on the </span>\n",
       "<span style=\"color: #008000; text-decoration-color: #008000\">pitch or cheering from the stands. Do you have a favorite format (Test, ODI, T20) or a team you root for? And what </span>\n",
       "<span style=\"color: #008000; text-decoration-color: #008000\">role do you enjoy most when you play—batting, bowling, fielding, or maybe keeping wickets? I'd love to hear more </span>\n",
       "<span style=\"color: #008000; text-decoration-color: #008000\">about your cricket adventures!\"</span>,\n",
       "            <span style=\"color: #808000; text-decoration-color: #808000\">additional_kwargs</span>=<span style=\"font-weight: bold\">{</span>\n",
       "                <span style=\"color: #008000; text-decoration-color: #008000\">'reasoning_content'</span>: <span style=\"color: #008000; text-decoration-color: #008000\">'The user repeated greeting. We should respond politely, continue </span>\n",
       "<span style=\"color: #008000; text-decoration-color: #008000\">conversation, maybe ask about cricket preferences. No disallowed content.'</span>\n",
       "            <span style=\"font-weight: bold\">}</span>,\n",
       "            <span style=\"color: #808000; text-decoration-color: #808000\">response_metadata</span>=<span style=\"font-weight: bold\">{</span>\n",
       "                <span style=\"color: #008000; text-decoration-color: #008000\">'token_usage'</span>: <span style=\"font-weight: bold\">{</span>\n",
       "                    <span style=\"color: #008000; text-decoration-color: #008000\">'completion_tokens'</span>: <span style=\"color: #008080; text-decoration-color: #008080; font-weight: bold\">124</span>,\n",
       "                    <span style=\"color: #008000; text-decoration-color: #008000\">'prompt_tokens'</span>: <span style=\"color: #008080; text-decoration-color: #008080; font-weight: bold\">177</span>,\n",
       "                    <span style=\"color: #008000; text-decoration-color: #008000\">'total_tokens'</span>: <span style=\"color: #008080; text-decoration-color: #008080; font-weight: bold\">301</span>,\n",
       "                    <span style=\"color: #008000; text-decoration-color: #008000\">'completion_time'</span>: <span style=\"color: #008080; text-decoration-color: #008080; font-weight: bold\">0.256893027</span>,\n",
       "                    <span style=\"color: #008000; text-decoration-color: #008000\">'prompt_time'</span>: <span style=\"color: #008080; text-decoration-color: #008080; font-weight: bold\">0.00662896</span>,\n",
       "                    <span style=\"color: #008000; text-decoration-color: #008000\">'queue_time'</span>: <span style=\"color: #008080; text-decoration-color: #008080; font-weight: bold\">0.043076589</span>,\n",
       "                    <span style=\"color: #008000; text-decoration-color: #008000\">'total_time'</span>: <span style=\"color: #008080; text-decoration-color: #008080; font-weight: bold\">0.263521987</span>\n",
       "                <span style=\"font-weight: bold\">}</span>,\n",
       "                <span style=\"color: #008000; text-decoration-color: #008000\">'model_name'</span>: <span style=\"color: #008000; text-decoration-color: #008000\">'openai/gpt-oss-120b'</span>,\n",
       "                <span style=\"color: #008000; text-decoration-color: #008000\">'system_fingerprint'</span>: <span style=\"color: #008000; text-decoration-color: #008000\">'fp_ed9190d8b7'</span>,\n",
       "                <span style=\"color: #008000; text-decoration-color: #008000\">'service_tier'</span>: <span style=\"color: #008000; text-decoration-color: #008000\">'on_demand'</span>,\n",
       "                <span style=\"color: #008000; text-decoration-color: #008000\">'finish_reason'</span>: <span style=\"color: #008000; text-decoration-color: #008000\">'stop'</span>,\n",
       "                <span style=\"color: #008000; text-decoration-color: #008000\">'logprobs'</span>: <span style=\"color: #800080; text-decoration-color: #800080; font-style: italic\">None</span>\n",
       "            <span style=\"font-weight: bold\">}</span>,\n",
       "            <span style=\"color: #808000; text-decoration-color: #808000\">id</span>=<span style=\"color: #008000; text-decoration-color: #008000\">'run--1aaf8ebc-4009-4dbe-99fc-92f4ba575fc0-0'</span>,\n",
       "            <span style=\"color: #808000; text-decoration-color: #808000\">usage_metadata</span>=<span style=\"font-weight: bold\">{</span><span style=\"color: #008000; text-decoration-color: #008000\">'input_tokens'</span>: <span style=\"color: #008080; text-decoration-color: #008080; font-weight: bold\">177</span>, <span style=\"color: #008000; text-decoration-color: #008000\">'output_tokens'</span>: <span style=\"color: #008080; text-decoration-color: #008080; font-weight: bold\">124</span>, <span style=\"color: #008000; text-decoration-color: #008000\">'total_tokens'</span>: <span style=\"color: #008080; text-decoration-color: #008080; font-weight: bold\">301</span><span style=\"font-weight: bold\">}</span>\n",
       "        <span style=\"font-weight: bold\">)</span>\n",
       "    <span style=\"font-weight: bold\">]</span>\n",
       "<span style=\"font-weight: bold\">}</span>\n",
       "</pre>\n"
      ],
      "text/plain": [
       "\u001b[1m{\u001b[0m\n",
       "    \u001b[32m'messages'\u001b[0m: \u001b[1m[\u001b[0m\n",
       "        \u001b[1;35mHumanMessage\u001b[0m\u001b[1m(\u001b[0m\n",
       "            \u001b[33mcontent\u001b[0m=\u001b[32m'hi, my name is abhijit and i like to play cricket.'\u001b[0m,\n",
       "            \u001b[33madditional_kwargs\u001b[0m=\u001b[1m{\u001b[0m\u001b[1m}\u001b[0m,\n",
       "            \u001b[33mresponse_metadata\u001b[0m=\u001b[1m{\u001b[0m\u001b[1m}\u001b[0m,\n",
       "            \u001b[33mid\u001b[0m=\u001b[32m'0094031e-f4d1-4473-bc32-24525144fc87'\u001b[0m\n",
       "        \u001b[1m)\u001b[0m,\n",
       "        \u001b[1;35mAIMessage\u001b[0m\u001b[1m(\u001b[0m\n",
       "            \u001b[33mcontent\u001b[0m=\u001b[32m\"Hey\u001b[0m\u001b[32m Abhijit! Great to meet you. Cricket is such an exciting sport—whether you’re batting, \u001b[0m\n",
       "\u001b[32mbowling, or just cheering from the stands, there’s always something thrilling happening. Do you have a favorite \u001b[0m\n",
       "\u001b[32mteam or player? Or maybe you enjoy playing a particular role on the field? I'd love to hear more!\"\u001b[0m,\n",
       "            \u001b[33madditional_kwargs\u001b[0m=\u001b[1m{\u001b[0m\n",
       "                \u001b[32m'reasoning_content'\u001b[0m: \u001b[32m'The user says hi, introduces themselves. We respond friendly. No disallowed \u001b[0m\n",
       "\u001b[32mcontent.'\u001b[0m\n",
       "            \u001b[1m}\u001b[0m,\n",
       "            \u001b[33mresponse_metadata\u001b[0m=\u001b[1m{\u001b[0m\n",
       "                \u001b[32m'token_usage'\u001b[0m: \u001b[1m{\u001b[0m\n",
       "                    \u001b[32m'completion_tokens'\u001b[0m: \u001b[1;36m93\u001b[0m,\n",
       "                    \u001b[32m'prompt_tokens'\u001b[0m: \u001b[1;36m86\u001b[0m,\n",
       "                    \u001b[32m'total_tokens'\u001b[0m: \u001b[1;36m179\u001b[0m,\n",
       "                    \u001b[32m'completion_time'\u001b[0m: \u001b[1;36m0.184845217\u001b[0m,\n",
       "                    \u001b[32m'prompt_time'\u001b[0m: \u001b[1;36m0.003091451\u001b[0m,\n",
       "                    \u001b[32m'queue_time'\u001b[0m: \u001b[1;36m0.043731159\u001b[0m,\n",
       "                    \u001b[32m'total_time'\u001b[0m: \u001b[1;36m0.187936668\u001b[0m\n",
       "                \u001b[1m}\u001b[0m,\n",
       "                \u001b[32m'model_name'\u001b[0m: \u001b[32m'openai/gpt-oss-120b'\u001b[0m,\n",
       "                \u001b[32m'system_fingerprint'\u001b[0m: \u001b[32m'fp_3a688838c3'\u001b[0m,\n",
       "                \u001b[32m'service_tier'\u001b[0m: \u001b[32m'on_demand'\u001b[0m,\n",
       "                \u001b[32m'finish_reason'\u001b[0m: \u001b[32m'stop'\u001b[0m,\n",
       "                \u001b[32m'logprobs'\u001b[0m: \u001b[3;35mNone\u001b[0m\n",
       "            \u001b[1m}\u001b[0m,\n",
       "            \u001b[33mid\u001b[0m=\u001b[32m'run--e80554d1-4c10-4f46-99e3-15e977e4bf37-0'\u001b[0m,\n",
       "            \u001b[33musage_metadata\u001b[0m=\u001b[1m{\u001b[0m\u001b[32m'input_tokens'\u001b[0m: \u001b[1;36m86\u001b[0m, \u001b[32m'output_tokens'\u001b[0m: \u001b[1;36m93\u001b[0m, \u001b[32m'total_tokens'\u001b[0m: \u001b[1;36m179\u001b[0m\u001b[1m}\u001b[0m\n",
       "        \u001b[1m)\u001b[0m,\n",
       "        \u001b[1;35mHumanMessage\u001b[0m\u001b[1m(\u001b[0m\n",
       "            \u001b[33mcontent\u001b[0m=\u001b[32m'hi, my name is abhijit and i like to play cricket.'\u001b[0m,\n",
       "            \u001b[33madditional_kwargs\u001b[0m=\u001b[1m{\u001b[0m\u001b[1m}\u001b[0m,\n",
       "            \u001b[33mresponse_metadata\u001b[0m=\u001b[1m{\u001b[0m\u001b[1m}\u001b[0m,\n",
       "            \u001b[33mid\u001b[0m=\u001b[32m'd676ab1a-effc-455c-8f14-3031dd106558'\u001b[0m\n",
       "        \u001b[1m)\u001b[0m,\n",
       "        \u001b[1;35mAIMessage\u001b[0m\u001b[1m(\u001b[0m\n",
       "            \u001b[33mcontent\u001b[0m=\u001b[32m\"Hey\u001b[0m\u001b[32m Abhijit! Nice to meet you. 🎉  \\n\\nCricket is such a fun game—whether you’re out on the \u001b[0m\n",
       "\u001b[32mpitch or cheering from the stands. Do you have a favorite format \u001b[0m\u001b[32m(\u001b[0m\u001b[32mTest, ODI, T20\u001b[0m\u001b[32m)\u001b[0m\u001b[32m or a team you root for? And what \u001b[0m\n",
       "\u001b[32mrole do you enjoy most when you play—batting, bowling, fielding, or maybe keeping wickets? I'd love to hear more \u001b[0m\n",
       "\u001b[32mabout your cricket adventures!\"\u001b[0m,\n",
       "            \u001b[33madditional_kwargs\u001b[0m=\u001b[1m{\u001b[0m\n",
       "                \u001b[32m'reasoning_content'\u001b[0m: \u001b[32m'The user repeated greeting. We should respond politely, continue \u001b[0m\n",
       "\u001b[32mconversation, maybe ask about cricket preferences. No disallowed content.'\u001b[0m\n",
       "            \u001b[1m}\u001b[0m,\n",
       "            \u001b[33mresponse_metadata\u001b[0m=\u001b[1m{\u001b[0m\n",
       "                \u001b[32m'token_usage'\u001b[0m: \u001b[1m{\u001b[0m\n",
       "                    \u001b[32m'completion_tokens'\u001b[0m: \u001b[1;36m124\u001b[0m,\n",
       "                    \u001b[32m'prompt_tokens'\u001b[0m: \u001b[1;36m177\u001b[0m,\n",
       "                    \u001b[32m'total_tokens'\u001b[0m: \u001b[1;36m301\u001b[0m,\n",
       "                    \u001b[32m'completion_time'\u001b[0m: \u001b[1;36m0.256893027\u001b[0m,\n",
       "                    \u001b[32m'prompt_time'\u001b[0m: \u001b[1;36m0.00662896\u001b[0m,\n",
       "                    \u001b[32m'queue_time'\u001b[0m: \u001b[1;36m0.043076589\u001b[0m,\n",
       "                    \u001b[32m'total_time'\u001b[0m: \u001b[1;36m0.263521987\u001b[0m\n",
       "                \u001b[1m}\u001b[0m,\n",
       "                \u001b[32m'model_name'\u001b[0m: \u001b[32m'openai/gpt-oss-120b'\u001b[0m,\n",
       "                \u001b[32m'system_fingerprint'\u001b[0m: \u001b[32m'fp_ed9190d8b7'\u001b[0m,\n",
       "                \u001b[32m'service_tier'\u001b[0m: \u001b[32m'on_demand'\u001b[0m,\n",
       "                \u001b[32m'finish_reason'\u001b[0m: \u001b[32m'stop'\u001b[0m,\n",
       "                \u001b[32m'logprobs'\u001b[0m: \u001b[3;35mNone\u001b[0m\n",
       "            \u001b[1m}\u001b[0m,\n",
       "            \u001b[33mid\u001b[0m=\u001b[32m'run--1aaf8ebc-4009-4dbe-99fc-92f4ba575fc0-0'\u001b[0m,\n",
       "            \u001b[33musage_metadata\u001b[0m=\u001b[1m{\u001b[0m\u001b[32m'input_tokens'\u001b[0m: \u001b[1;36m177\u001b[0m, \u001b[32m'output_tokens'\u001b[0m: \u001b[1;36m124\u001b[0m, \u001b[32m'total_tokens'\u001b[0m: \u001b[1;36m301\u001b[0m\u001b[1m}\u001b[0m\n",
       "        \u001b[1m)\u001b[0m\n",
       "    \u001b[1m]\u001b[0m\n",
       "\u001b[1m}\u001b[0m\n"
      ]
     },
     "metadata": {},
     "output_type": "display_data"
    }
   ],
   "source": [
    "## invocation\n",
    "\n",
    "config={\"configurable\":{\"thread_id\":\"1\"}}\n",
    "\n",
    "print(graph.invoke({'messages':\"hi, my name is abhijit and i like to play cricket.\"},config=config))"
   ]
  },
  {
   "cell_type": "markdown",
   "id": "f7c7118a",
   "metadata": {},
   "source": [
    "#### Streaming the responses with Stream Method."
   ]
  },
  {
   "cell_type": "code",
   "execution_count": null,
   "id": "84f7d9f7",
   "metadata": {},
   "outputs": [],
   "source": []
  }
 ],
 "metadata": {
  "kernelspec": {
   "display_name": "Python 3",
   "language": "python",
   "name": "python3"
  },
  "language_info": {
   "codemirror_mode": {
    "name": "ipython",
    "version": 3
   },
   "file_extension": ".py",
   "mimetype": "text/x-python",
   "name": "python",
   "nbconvert_exporter": "python",
   "pygments_lexer": "ipython3",
   "version": "3.12.0"
  }
 },
 "nbformat": 4,
 "nbformat_minor": 5
}
