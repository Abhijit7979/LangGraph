{
 "cells": [
  {
   "cell_type": "markdown",
   "id": "5e39c2d4",
   "metadata": {},
   "source": [
    "### Streaming \n",
    "\n",
    "Methods : stream() and astream()\n",
    "- these methods are sync and async methods for straming back results. \n",
    "\n",
    "Additional parameters in streaming modes for graph state. \n",
    "\n",
    "- **values** : this streams the full state of the graph after each node is called.\n",
    "- **update** : this streams updates to the state of the graph after each node is called."
   ]
  },
  {
   "cell_type": "markdown",
   "id": "5b5f6d11",
   "metadata": {},
   "source": [
    "![](../images/img3.png)"
   ]
  },
  {
   "cell_type": "markdown",
   "id": "bd4bcca3",
   "metadata": {},
   "source": []
  }
 ],
 "metadata": {
  "language_info": {
   "name": "python"
  }
 },
 "nbformat": 4,
 "nbformat_minor": 5
}
