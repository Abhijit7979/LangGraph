{
 "cells": [
  {
   "cell_type": "markdown",
   "id": "e42fb25f",
   "metadata": {},
   "source": [
    "### Chain Using LangGraph \n",
    "\n",
    "In this section we will see how we can build a simple chain using LangGraph that uses 4 important concepts \n",
    "\n",
    "- how to use chat messages as out graph state\n",
    "- how to use chat models in graph nodes \n",
    "- how to bind tools to our llm in chat models \n",
    "- how to execute the tools call in our graph nodes"
   ]
  },
  {
   "cell_type": "code",
   "execution_count": 4,
   "id": "f4fe3412",
   "metadata": {},
   "outputs": [],
   "source": [
    "from dotenv import load_dotenv\n",
    "import os \n",
    "load_dotenv(dotenv_path=\"../.env\")\n",
    "\n",
    "from langchain_groq import ChatGroq \n",
    "\n",
    "os.environ[\"GROQ_API_KEY\"]=os.getenv(\"GROQ_API\")\n"
   ]
  },
  {
   "cell_type": "markdown",
   "id": "38d46a2b",
   "metadata": {},
   "source": [
    "### How to use chat messages as our graph state \n",
    "\n",
    "#### Messages \n",
    "\n",
    "we can use messages which can be used to capture different roles within a conversation. LangChain has variour messages types including HumanMessage, AlMessage , SystemMessage and toolMessage. These represent a messages from the user , from chat model, for the chat model to instruct behavior , and from a tool call.\n",
    "\n",
    "Every message have these important components \n",
    "\n",
    "- content - content of the message \n",
    "- name - specify the name of author \n",
    "- response_metadata - optionally , a dict of metadata(eg: often populated by model provider for AlMessages)\n",
    "\n"
   ]
  },
  {
   "cell_type": "code",
   "execution_count": null,
   "id": "84fad257",
   "metadata": {},
   "outputs": [
    {
     "data": {
      "text/html": [
       "<pre style=\"white-space:pre;overflow-x:auto;line-height:normal;font-family:Menlo,'DejaVu Sans Mono',consolas,'Courier New',monospace\"><span style=\"font-weight: bold\">[</span>\n",
       "    <span style=\"color: #800080; text-decoration-color: #800080; font-weight: bold\">AIMessage</span><span style=\"font-weight: bold\">(</span><span style=\"color: #808000; text-decoration-color: #808000\">content</span>=<span style=\"color: #008000; text-decoration-color: #008000\">'please tell me how can i help.'</span>, <span style=\"color: #808000; text-decoration-color: #808000\">additional_kwargs</span>=<span style=\"font-weight: bold\">{}</span>, <span style=\"color: #808000; text-decoration-color: #808000\">response_metadata</span>=<span style=\"font-weight: bold\">{}</span>, <span style=\"color: #808000; text-decoration-color: #808000\">name</span>=<span style=\"color: #008000; text-decoration-color: #008000\">'LLM'</span><span style=\"font-weight: bold\">)</span>,\n",
       "    <span style=\"color: #800080; text-decoration-color: #800080; font-weight: bold\">HumanMessage</span><span style=\"font-weight: bold\">(</span><span style=\"color: #808000; text-decoration-color: #808000\">content</span>=<span style=\"color: #008000; text-decoration-color: #008000\">'I want to learn coding'</span>, <span style=\"color: #808000; text-decoration-color: #808000\">additional_kwargs</span>=<span style=\"font-weight: bold\">{}</span>, <span style=\"color: #808000; text-decoration-color: #808000\">response_metadata</span>=<span style=\"font-weight: bold\">{}</span>, <span style=\"color: #808000; text-decoration-color: #808000\">name</span>=<span style=\"color: #008000; text-decoration-color: #008000\">'abhijit'</span><span style=\"font-weight: bold\">)</span>,\n",
       "    <span style=\"color: #800080; text-decoration-color: #800080; font-weight: bold\">AIMessage</span><span style=\"font-weight: bold\">(</span>\n",
       "        <span style=\"color: #808000; text-decoration-color: #808000\">content</span>=<span style=\"color: #008000; text-decoration-color: #008000\">'tell me which programming language you want to learn ? '</span>,\n",
       "        <span style=\"color: #808000; text-decoration-color: #808000\">additional_kwargs</span>=<span style=\"font-weight: bold\">{}</span>,\n",
       "        <span style=\"color: #808000; text-decoration-color: #808000\">response_metadata</span>=<span style=\"font-weight: bold\">{}</span>,\n",
       "        <span style=\"color: #808000; text-decoration-color: #808000\">name</span>=<span style=\"color: #008000; text-decoration-color: #008000\">'LLM'</span>\n",
       "    <span style=\"font-weight: bold\">)</span>,\n",
       "    <span style=\"color: #800080; text-decoration-color: #800080; font-weight: bold\">HumanMessage</span><span style=\"font-weight: bold\">(</span>\n",
       "        <span style=\"color: #808000; text-decoration-color: #808000\">content</span>=<span style=\"color: #008000; text-decoration-color: #008000\">'I want to learn python programming language.'</span>,\n",
       "        <span style=\"color: #808000; text-decoration-color: #808000\">additional_kwargs</span>=<span style=\"font-weight: bold\">{}</span>,\n",
       "        <span style=\"color: #808000; text-decoration-color: #808000\">response_metadata</span>=<span style=\"font-weight: bold\">{}</span>,\n",
       "        <span style=\"color: #808000; text-decoration-color: #808000\">name</span>=<span style=\"color: #008000; text-decoration-color: #008000\">'abhijit'</span>\n",
       "    <span style=\"font-weight: bold\">)</span>\n",
       "<span style=\"font-weight: bold\">]</span>\n",
       "</pre>\n"
      ],
      "text/plain": [
       "\u001b[1m[\u001b[0m\n",
       "    \u001b[1;35mAIMessage\u001b[0m\u001b[1m(\u001b[0m\u001b[33mcontent\u001b[0m=\u001b[32m'please tell me how can i help.'\u001b[0m, \u001b[33madditional_kwargs\u001b[0m=\u001b[1m{\u001b[0m\u001b[1m}\u001b[0m, \u001b[33mresponse_metadata\u001b[0m=\u001b[1m{\u001b[0m\u001b[1m}\u001b[0m, \u001b[33mname\u001b[0m=\u001b[32m'LLM'\u001b[0m\u001b[1m)\u001b[0m,\n",
       "    \u001b[1;35mHumanMessage\u001b[0m\u001b[1m(\u001b[0m\u001b[33mcontent\u001b[0m=\u001b[32m'I want to learn coding'\u001b[0m, \u001b[33madditional_kwargs\u001b[0m=\u001b[1m{\u001b[0m\u001b[1m}\u001b[0m, \u001b[33mresponse_metadata\u001b[0m=\u001b[1m{\u001b[0m\u001b[1m}\u001b[0m, \u001b[33mname\u001b[0m=\u001b[32m'abhijit'\u001b[0m\u001b[1m)\u001b[0m,\n",
       "    \u001b[1;35mAIMessage\u001b[0m\u001b[1m(\u001b[0m\n",
       "        \u001b[33mcontent\u001b[0m=\u001b[32m'tell me which programming language you want to learn ? '\u001b[0m,\n",
       "        \u001b[33madditional_kwargs\u001b[0m=\u001b[1m{\u001b[0m\u001b[1m}\u001b[0m,\n",
       "        \u001b[33mresponse_metadata\u001b[0m=\u001b[1m{\u001b[0m\u001b[1m}\u001b[0m,\n",
       "        \u001b[33mname\u001b[0m=\u001b[32m'LLM'\u001b[0m\n",
       "    \u001b[1m)\u001b[0m,\n",
       "    \u001b[1;35mHumanMessage\u001b[0m\u001b[1m(\u001b[0m\n",
       "        \u001b[33mcontent\u001b[0m=\u001b[32m'I want to learn python programming language.'\u001b[0m,\n",
       "        \u001b[33madditional_kwargs\u001b[0m=\u001b[1m{\u001b[0m\u001b[1m}\u001b[0m,\n",
       "        \u001b[33mresponse_metadata\u001b[0m=\u001b[1m{\u001b[0m\u001b[1m}\u001b[0m,\n",
       "        \u001b[33mname\u001b[0m=\u001b[32m'abhijit'\u001b[0m\n",
       "    \u001b[1m)\u001b[0m\n",
       "\u001b[1m]\u001b[0m\n"
      ]
     },
     "metadata": {},
     "output_type": "display_data"
    }
   ],
   "source": [
    "from langchain_core.messages import AIMessage,HumanMessage\n",
    "from pprint import pprint\n",
    "from rich import print\n",
    "\n",
    "messages=[AIMessage(content=f\"please tell me how can i help.\",name=\"LLM\")]\n",
    "messages.append(HumanMessage(content=f\"I want to learn coding\",name=\"abhijit\"))\n",
    "messages.append(AIMessage(content=f\"tell me which programming language you want to learn ? \",name=\"LLM\"))\n",
    "messages.append(HumanMessage(content=\"I want to learn python programming language.\",name=\"abhijit\"))\n",
    "print(messages)\n"
   ]
  },
  {
   "cell_type": "code",
   "execution_count": 6,
   "id": "045da752",
   "metadata": {},
   "outputs": [
    {
     "name": "stdout",
     "output_type": "stream",
     "text": [
      "==================================\u001b[1m Ai Message \u001b[0m==================================\n",
      "Name: LLM\n",
      "\n",
      "please tell me how can i help.\n",
      "================================\u001b[1m Human Message \u001b[0m=================================\n",
      "Name: abhijit\n",
      "\n",
      "I want to learn coding\n",
      "==================================\u001b[1m Ai Message \u001b[0m==================================\n",
      "Name: LLM\n",
      "\n",
      "tell me which programming language you want to learn ?\n",
      "================================\u001b[1m Human Message \u001b[0m=================================\n",
      "Name: abhijit\n",
      "\n",
      "I want to learn python programming language.\n"
     ]
    }
   ],
   "source": [
    "for message in messages:\n",
    "    message.pretty_print()"
   ]
  },
  {
   "cell_type": "markdown",
   "id": "49e3a89b",
   "metadata": {},
   "source": [
    "#### Chat Models \n",
    "\n",
    "we can use the sequence of messages as input with the chatmodels using LLM's and Openai "
   ]
  },
  {
   "cell_type": "code",
   "execution_count": 7,
   "id": "2dc7d7c3",
   "metadata": {},
   "outputs": [],
   "source": [
    "from langchain_groq import ChatGroq\n",
    "\n",
    "llm=ChatGroq(model=\"openai/gpt-oss-120b\")"
   ]
  },
  {
   "cell_type": "code",
   "execution_count": 13,
   "id": "93ff3bb6",
   "metadata": {},
   "outputs": [],
   "source": [
    "result=llm.invoke(messages)"
   ]
  },
  {
   "cell_type": "code",
   "execution_count": 19,
   "id": "3e80cdf8",
   "metadata": {},
   "outputs": [
    {
     "name": "stdout",
     "output_type": "stream",
     "text": [
      "('Great choice! Python is one of the most beginner‑friendly languages and it’s '\n",
      " 'also incredibly powerful for everything from web development to data '\n",
      " 'science, automation, AI, and more. Below is a **structured learning '\n",
      " 'roadmap** you can follow, along with **free resources**, **hands‑on '\n",
      " 'exercises**, and **mini‑projects** to keep you motivated.\\n'\n",
      " '\\n'\n",
      " '---\\n'\n",
      " '\\n'\n",
      " '## 1️⃣ Foundations (Weeks\\u202f1‑2)\\n'\n",
      " '\\n'\n",
      " '| Topic | What to Learn | Quick Exercise | Free Resources |\\n'\n",
      " '|-------|---------------|----------------|----------------|\\n'\n",
      " '| **Python installation & IDE** | Install Python 3.x, set up a code editor '\n",
      " '(VS\\u202fCode, PyCharm Community, or even Jupyter Notebook) | Run '\n",
      " '`print(\"Hello, world!\")` in a new file | '\n",
      " '<ul><li>python.org/downloads</li><li>VS\\u202fCode Python extension</li></ul> '\n",
      " '|\\n'\n",
      " '| **Basic syntax** | `print`, comments, variables, naming conventions | '\n",
      " 'Create variables for your name, age, and favorite color, then print a '\n",
      " 'sentence using them. | <ul><li>Automate the Boring Stuff – Chapter\\u202f1 '\n",
      " '(free online)</li></ul> |\\n'\n",
      " '| **Data types** | `int`, `float`, `str`, `bool`, `list`, `tuple`, `dict`, '\n",
      " '`set` | Build a list of your favorite movies, then add/remove one item. | '\n",
      " '<ul><li>Python Docs – Data Types</li></ul> |\\n'\n",
      " '| **Operators** | Arithmetic, comparison, logical, membership (`in`) | Write '\n",
      " 'a small “grade calculator” that converts a numeric score to a letter grade. '\n",
      " '| <ul><li>W3Schools Python Operators</li></ul> |\\n'\n",
      " '| **Control flow** | `if/elif/else`, `for` loops, `while` loops, '\n",
      " '`break/continue` | Print the numbers 1‑20, but skip multiples of 3. | '\n",
      " '<ul><li>Real Python – Control Flow</li></ul> |\\n'\n",
      " '| **Functions** | Defining with `def`, parameters, return values, default '\n",
      " 'args, `*args`/`**kwargs` | Write a function `is_palindrome(s)` that returns '\n",
      " '`True` if `s` reads the same backward. | <ul><li>Python Docs – Defining '\n",
      " 'Functions</li></ul> |\\n'\n",
      " '\\n'\n",
      " '### Mini‑Project #1: **Guess the Number**\\n'\n",
      " '- Write a program that picks a random integer between 1‑100.  \\n'\n",
      " '- Prompt the user to guess; tell them “too high”, “too low”, or '\n",
      " '“correct”.  \\n'\n",
      " '- Keep track of attempts and display the count when they win.\\n'\n",
      " '\\n'\n",
      " '---\\n'\n",
      " '\\n'\n",
      " '## 2️⃣ Core Python Skills (Weeks\\u202f3‑5)\\n'\n",
      " '\\n'\n",
      " '| Topic | What to Learn | Quick Exercise | Free Resources |\\n'\n",
      " '|-------|---------------|----------------|----------------|\\n'\n",
      " '| **Modules & Packages** | `import`, standard library (`math`, `random`, '\n",
      " '`datetime`, `os`, `sys`) | Use `datetime` to print the current date and time '\n",
      " 'in a friendly format. | <ul><li>Python Docs – The Python Standard '\n",
      " 'Library</li></ul> |\\n'\n",
      " '| **File I/O** | Reading/writing text files, `with` statement, handling CSV '\n",
      " '| Write a script that reads a CSV of contacts and prints all email '\n",
      " 'addresses. | <ul><li>Automate the Boring Stuff – Chapter\\u202f9</li></ul> |\\n'\n",
      " '| **Error handling** | `try/except`, `else/finally`, raising custom '\n",
      " 'exceptions | Safely convert user input to an integer; handle non‑numeric '\n",
      " 'input gracefully. | <ul><li>Real Python – Exceptions</li></ul> |\\n'\n",
      " '| **List comprehensions & generator expressions** | Concise data '\n",
      " 'transformations | Create a list of squares for numbers 1‑20 using a list '\n",
      " 'comprehension. | <ul><li>Python Docs – List Comprehensions</li></ul> |\\n'\n",
      " '| **Working with JSON** | `json` module, `load`/`dump` | Load a JSON file of '\n",
      " 'movie data and print titles released after 2015. | <ul><li>W3Schools – JSON '\n",
      " 'in Python</li></ul> |\\n'\n",
      " '| **Virtual environments & pip** | `venv`, `pip install`, `requirements.txt` '\n",
      " '| Create a virtual env, install `requests`, and freeze dependencies. | '\n",
      " '<ul><li>Python Docs – Virtual Environments</li></ul> |\\n'\n",
      " '\\n'\n",
      " '### Mini‑Project #2: **Contact Book CLI**\\n'\n",
      " '- Store contacts (name, phone, email) in a JSON file.  \\n'\n",
      " '- Implement commands: `add`, `list`, `search <name>`, `delete <name>`.  \\n'\n",
      " '- Use `argparse` for command‑line parsing (optional but great practice).\\n'\n",
      " '\\n'\n",
      " '---\\n'\n",
      " '\\n'\n",
      " '## 3️⃣ Intermediate Topics (Weeks\\u202f6‑9)\\n'\n",
      " '\\n'\n",
      " '| Topic | What to Learn | Quick Exercise | Free Resources |\\n'\n",
      " '|-------|---------------|----------------|----------------|\\n'\n",
      " '| **Object‑Oriented Programming (OOP)** | Classes, `__init__`, instance vs. '\n",
      " 'class attributes, inheritance, polymorphism, dunder methods (`__str__`, '\n",
      " '`__repr__`, `__len__`) | Model a `BankAccount` class with deposit, withdraw, '\n",
      " 'and balance methods. | <ul><li>Real Python – OOP</li></ul> |\\n'\n",
      " '| **Regular expressions** | `re` module, pattern syntax, `search`, `match`, '\n",
      " '`findall`, `sub` | Validate an email address format. | <ul><li>RegexOne '\n",
      " '(interactive)</li></ul> |\\n'\n",
      " '| **Testing** | `unittest`, `pytest`, writing test cases, test‑driven '\n",
      " 'development (TDD) basics | Write tests for the `BankAccount` class (deposit '\n",
      " 'can’t be negative, withdraw can’t exceed balance). | <ul><li>pytest '\n",
      " 'documentation</li></ul> |\\n'\n",
      " '| **Logging** | `logging` module, log levels, configuring handlers | Replace '\n",
      " '`print` statements with proper logging in a script. | <ul><li>Python Docs – '\n",
      " 'Logging</li></ul> |\\n'\n",
      " '| **Iterators & Generators** | `__iter__`, `__next__`, `yield`, generator '\n",
      " 'pipelines | Write a generator that yields Fibonacci numbers up to a limit. | '\n",
      " '<ul><li>Real Python – Generators</li></ul> |\\n'\n",
      " '| **Decorators** | Function decorators, `@wraps`, simple class decorators | '\n",
      " 'Create a `@timer` decorator that prints execution time of a function. | '\n",
      " '<ul><li>Python Docs – Decorators</li></ul> |\\n'\n",
      " '\\n'\n",
      " '### Mini‑Project #3: **Simple Todo App (CLI)**\\n'\n",
      " '- Use OOP: a `Task` class and a `TodoList` manager.  \\n'\n",
      " '- Persist tasks in a JSON file.  \\n'\n",
      " '- Add features: mark as done, list pending/completed, delete, edit.  \\n'\n",
      " '- Write unit tests for the core functionality.\\n'\n",
      " '\\n'\n",
      " '---\\n'\n",
      " '\\n'\n",
      " '## 4️⃣ Choose a Specialization (Weeks\\u202f10‑16)\\n'\n",
      " '\\n'\n",
      " 'Pick **one** (or more) of the following tracks based on your interests. Each '\n",
      " 'track lists the core libraries/frameworks you’ll need and a capstone project '\n",
      " 'idea.\\n'\n",
      " '\\n'\n",
      " '| Track | Core Libraries/Frameworks | Suggested Capstone |\\n'\n",
      " '|-------|---------------------------|--------------------|\\n'\n",
      " '| **Web Development** | `Flask` or `Django`, `Jinja2`, `SQLAlchemy` (ORM), '\n",
      " '`requests` | Build a personal blog with user authentication, CRUD posts, and '\n",
      " 'comment system. |\\n'\n",
      " '| **Data Analysis / Visualization** | `pandas`, `numpy`, `matplotlib`, '\n",
      " '`seaborn`, `jupyter` | Analyze a public dataset (e.g., COVID‑19 stats) and '\n",
      " 'create an interactive dashboard with `plotly`. |\\n'\n",
      " '| **Automation / Scripting** | `pyautogui`, `selenium`, `beautifulsoup4`, '\n",
      " '`requests` | Write a script that scrapes product prices from an e‑commerce '\n",
      " 'site and emails you when a price drops. |\\n'\n",
      " '| **Machine Learning / AI** | `scikit‑learn`, `tensorflow`/`pytorch`, '\n",
      " '`pandas`, `numpy` | Build a simple image classifier (e.g., cats vs. dogs) '\n",
      " 'using a pre‑trained model and fine‑tune it. |\\n'\n",
      " '| **Game Development** | `pygame`, `arcade` | Create a 2‑player Pong game '\n",
      " 'with scoring and sound effects. |\\n'\n",
      " '| **DevOps / Cloud** | `docker`, `boto3` (AWS SDK), `fabric`, `ansible` | '\n",
      " 'Containerize a Flask app and deploy it to AWS Elastic Beanstalk or a free '\n",
      " 'Heroku dyno. |\\n'\n",
      " '\\n'\n",
      " '> **Tip:** Start with a **small MVP** (minimum viable product) and iterate. '\n",
      " 'The goal is to apply what you’ve learned, not to build a production‑ready '\n",
      " 'system right away.\\n'\n",
      " '\\n'\n",
      " '---\\n'\n",
      " '\\n'\n",
      " '## 5️⃣ Learning Strategies & Tips\\n'\n",
      " '\\n'\n",
      " '1. **Code daily, even if it’s 15\\u202fminutes.** Consistency beats marathon '\n",
      " 'sessions.\\n'\n",
      " '2. **Explain concepts to yourself (or a rubber duck).** Teaching forces you '\n",
      " 'to clarify your mental model.\\n'\n",
      " '3. **Read other people’s code.** Browse GitHub repos tagged '\n",
      " '“beginner‑python” or explore open‑source projects you find interesting.\\n'\n",
      " '4. **Use version control from the start.** Initialize a Git repo for each '\n",
      " 'project; push to GitHub or GitLab. This also builds a portfolio.\\n'\n",
      " '5. **Join a community.**  \\n'\n",
      " '   - **Discord/Slack:** *Python Discord* (large, friendly).  \\n'\n",
      " '   - **Reddit:** r/learnpython, r/Python.  \\n'\n",
      " '   - **Stack Overflow:** Search before asking; when you do ask, include a '\n",
      " 'minimal reproducible example.\\n'\n",
      " '6. **Practice with coding challenges.**  \\n'\n",
      " '   - *LeetCode* (Easy/Medium).  \\n'\n",
      " '   - *HackerRank* (Python domain).  \\n'\n",
      " '   - *Advent of Code* (fun puzzles in December).  \\n'\n",
      " '   Aim for 2–3 problems per week after you finish the basics.\\n'\n",
      " '\\n'\n",
      " '---\\n'\n",
      " '\\n'\n",
      " '## 6️⃣ Quick Reference Cheat Sheet (for the first few weeks)\\n'\n",
      " '\\n'\n",
      " '```python\\n'\n",
      " '# Variables & Types\\n'\n",
      " 'name = \"Alice\"          # str\\n'\n",
      " 'age = 30                # int\\n'\n",
      " 'height = 1.68           # float\\n'\n",
      " 'is_student = True      # bool\\n'\n",
      " 'colors = [\"red\",\"blue\"] # list\\n'\n",
      " 'coords = (10, 20)       # tuple\\n'\n",
      " 'profile = {\"email\":\"a@example.com\", \"city\":\"NY\"} # dict\\n'\n",
      " '\\n'\n",
      " '# Control Flow\\n'\n",
      " 'if age > 18:\\n'\n",
      " '    print(\"Adult\")\\n'\n",
      " 'elif age == 18:\\n'\n",
      " '    print(\"Just turned adult\")\\n'\n",
      " 'else:\\n'\n",
      " '    print(\"Minor\")\\n'\n",
      " '\\n'\n",
      " 'for i in range(1, 6):\\n'\n",
      " '    print(i)           # 1 2 3 4 5\\n'\n",
      " '\\n'\n",
      " '# Functions\\n'\n",
      " 'def greet(person, loud=False):\\n'\n",
      " '    msg = f\"Hello, {person}!\"\\n'\n",
      " '    return msg.upper() if loud else msg\\n'\n",
      " '\\n'\n",
      " 'print(greet(\"Bob\"))          # Hello, Bob!\\n'\n",
      " 'print(greet(\"Bob\", True))    # HELLO, BOB!\\n'\n",
      " '\\n'\n",
      " '# List Comprehension\\n'\n",
      " 'squares = [x*x for x in range(1, 11)]  # [1,4,9,...,100]\\n'\n",
      " '\\n'\n",
      " '# File I/O\\n'\n",
      " 'with open(\"data.txt\", \"w\") as f:\\n'\n",
      " '    f.write(\"Hello file!\\\\n\")\\n'\n",
      " '\\n'\n",
      " 'with open(\"data.txt\") as f:\\n'\n",
      " '    content = f.read()\\n'\n",
      " 'print(content)\\n'\n",
      " '\\n'\n",
      " '# Exception handling\\n'\n",
      " 'try:\\n'\n",
      " '    val = int(input(\"Enter a number: \"))\\n'\n",
      " 'except ValueError:\\n'\n",
      " '    print(\"That wasn\\'t a number!\")\\n'\n",
      " 'else:\\n'\n",
      " '    print(f\"You entered {val}\")\\n'\n",
      " 'finally:\\n'\n",
      " '    print(\"Done.\")\\n'\n",
      " '```\\n'\n",
      " '\\n'\n",
      " '---\\n'\n",
      " '\\n'\n",
      " '## 7️⃣ Your First Action Plan (Next 48\\u202fhours)\\n'\n",
      " '\\n'\n",
      " '1. **Install Python 3.12+** (if you haven’t). Verify with `python '\n",
      " '--version`.\\n'\n",
      " '2. **Set up VS\\u202fCode** (or your preferred editor) and install the Python '\n",
      " 'extension.\\n'\n",
      " '3. **Create a folder** `python‑learning` and inside it a file `hello.py` '\n",
      " 'with:\\n'\n",
      " '   ```python\\n'\n",
      " '   print(\"Hello, Python learner!\")\\n'\n",
      " '   ```\\n'\n",
      " '   Run it: `python hello.py`.\\n'\n",
      " '4. **Complete Mini‑Project #1 (Guess the Number).**  \\n'\n",
      " '   - Use `random.randint`, a `while` loop, and keep a counter.  \\n'\n",
      " '   - Push the code to a new GitHub repo named `guess-number`.\\n'\n",
      " '5. **Spend 30\\u202fminutes on a tutorial** (e.g., “Automate the Boring Stuff '\n",
      " '– Chapter\\u202f1”) and take notes.\\n'\n",
      " '\\n'\n",
      " 'Once you finish those steps, let me know how it went and which '\n",
      " 'specialization you feel most excited about. I’ll then tailor the next set of '\n",
      " 'resources and projects for you! 🚀')\n"
     ]
    }
   ],
   "source": [
    "pprint(result.content)"
   ]
  },
  {
   "cell_type": "markdown",
   "id": "f3f1b076",
   "metadata": {},
   "source": [
    "### Tools \n",
    "\n",
    "Tools can be integrated with the llm models to interact with external systems. External system can be API's , third party tools. \n",
    "\n",
    "Whenever a query is asked the model can choose to call the tool and this query is based on the natural language input and this will return an output that matches the tool's schema."
   ]
  },
  {
   "cell_type": "code",
   "execution_count": 90,
   "id": "c9538f0e",
   "metadata": {},
   "outputs": [],
   "source": [
    "def add(a:int,b:int)->int:\n",
    "    \"\"\" gives answer for a plus b\n",
    "    Args:\n",
    "    a (int): first int\n",
    "    a (int): second int\n",
    "    returns:\n",
    "    str\n",
    "    \"\"\"\n",
    "\n",
    "    return f\"{a+b} Great Question ! \""
   ]
  },
  {
   "cell_type": "code",
   "execution_count": 91,
   "id": "7a032976",
   "metadata": {},
   "outputs": [
    {
     "data": {
      "text/plain": [
       "ChatGroq(client=<groq.resources.chat.completions.Completions object at 0x10f18a510>, async_client=<groq.resources.chat.completions.AsyncCompletions object at 0x10f2cdbe0>, model_name='openai/gpt-oss-120b', model_kwargs={}, groq_api_key=SecretStr('**********'))"
      ]
     },
     "execution_count": 91,
     "metadata": {},
     "output_type": "execute_result"
    }
   ],
   "source": [
    "llm"
   ]
  },
  {
   "cell_type": "code",
   "execution_count": 92,
   "id": "79e5c633",
   "metadata": {},
   "outputs": [],
   "source": [
    "### Blinding tool with llm \n",
    "\n",
    "llm_with_tools=llm.bind_tools([add])"
   ]
  },
  {
   "cell_type": "code",
   "execution_count": 93,
   "id": "d7a31e84",
   "metadata": {},
   "outputs": [
    {
     "data": {
      "text/html": [
       "<pre style=\"white-space:pre;overflow-x:auto;line-height:normal;font-family:Menlo,'DejaVu Sans Mono',consolas,'Courier New',monospace\"><span style=\"color: #800080; text-decoration-color: #800080; font-weight: bold\">AIMessage</span><span style=\"font-weight: bold\">(</span>\n",
       "    <span style=\"color: #808000; text-decoration-color: #808000\">content</span>=<span style=\"color: #008000; text-decoration-color: #008000\">''</span>,\n",
       "    <span style=\"color: #808000; text-decoration-color: #808000\">additional_kwargs</span>=<span style=\"font-weight: bold\">{</span>\n",
       "        <span style=\"color: #008000; text-decoration-color: #008000\">'reasoning_content'</span>: <span style=\"color: #008000; text-decoration-color: #008000\">'User asks: \"What is 2 plus 2\". Simple addition. Could compute directly, but we have a</span>\n",
       "<span style=\"color: #008000; text-decoration-color: #008000\">function add. Use it.'</span>,\n",
       "        <span style=\"color: #008000; text-decoration-color: #008000\">'tool_calls'</span>: <span style=\"font-weight: bold\">[</span>\n",
       "            <span style=\"font-weight: bold\">{</span>\n",
       "                <span style=\"color: #008000; text-decoration-color: #008000\">'id'</span>: <span style=\"color: #008000; text-decoration-color: #008000\">'fc_54986b83-cd09-4aae-9d1e-15cb70c4685e'</span>,\n",
       "                <span style=\"color: #008000; text-decoration-color: #008000\">'function'</span>: <span style=\"font-weight: bold\">{</span><span style=\"color: #008000; text-decoration-color: #008000\">'arguments'</span>: <span style=\"color: #008000; text-decoration-color: #008000\">'{\"a\":2,\"b\":2}'</span>, <span style=\"color: #008000; text-decoration-color: #008000\">'name'</span>: <span style=\"color: #008000; text-decoration-color: #008000\">'add'</span><span style=\"font-weight: bold\">}</span>,\n",
       "                <span style=\"color: #008000; text-decoration-color: #008000\">'type'</span>: <span style=\"color: #008000; text-decoration-color: #008000\">'function'</span>\n",
       "            <span style=\"font-weight: bold\">}</span>\n",
       "        <span style=\"font-weight: bold\">]</span>\n",
       "    <span style=\"font-weight: bold\">}</span>,\n",
       "    <span style=\"color: #808000; text-decoration-color: #808000\">response_metadata</span>=<span style=\"font-weight: bold\">{</span>\n",
       "        <span style=\"color: #008000; text-decoration-color: #008000\">'token_usage'</span>: <span style=\"font-weight: bold\">{</span>\n",
       "            <span style=\"color: #008000; text-decoration-color: #008000\">'completion_tokens'</span>: <span style=\"color: #008080; text-decoration-color: #008080; font-weight: bold\">63</span>,\n",
       "            <span style=\"color: #008000; text-decoration-color: #008000\">'prompt_tokens'</span>: <span style=\"color: #008080; text-decoration-color: #008080; font-weight: bold\">153</span>,\n",
       "            <span style=\"color: #008000; text-decoration-color: #008000\">'total_tokens'</span>: <span style=\"color: #008080; text-decoration-color: #008080; font-weight: bold\">216</span>,\n",
       "            <span style=\"color: #008000; text-decoration-color: #008000\">'completion_time'</span>: <span style=\"color: #008080; text-decoration-color: #008080; font-weight: bold\">0.125500612</span>,\n",
       "            <span style=\"color: #008000; text-decoration-color: #008000\">'prompt_time'</span>: <span style=\"color: #008080; text-decoration-color: #008080; font-weight: bold\">0.005654748</span>,\n",
       "            <span style=\"color: #008000; text-decoration-color: #008000\">'queue_time'</span>: <span style=\"color: #008080; text-decoration-color: #008080; font-weight: bold\">0.051530312</span>,\n",
       "            <span style=\"color: #008000; text-decoration-color: #008000\">'total_time'</span>: <span style=\"color: #008080; text-decoration-color: #008080; font-weight: bold\">0.13115536</span>\n",
       "        <span style=\"font-weight: bold\">}</span>,\n",
       "        <span style=\"color: #008000; text-decoration-color: #008000\">'model_name'</span>: <span style=\"color: #008000; text-decoration-color: #008000\">'openai/gpt-oss-120b'</span>,\n",
       "        <span style=\"color: #008000; text-decoration-color: #008000\">'system_fingerprint'</span>: <span style=\"color: #008000; text-decoration-color: #008000\">'fp_82669fd91d'</span>,\n",
       "        <span style=\"color: #008000; text-decoration-color: #008000\">'service_tier'</span>: <span style=\"color: #008000; text-decoration-color: #008000\">'on_demand'</span>,\n",
       "        <span style=\"color: #008000; text-decoration-color: #008000\">'finish_reason'</span>: <span style=\"color: #008000; text-decoration-color: #008000\">'tool_calls'</span>,\n",
       "        <span style=\"color: #008000; text-decoration-color: #008000\">'logprobs'</span>: <span style=\"color: #800080; text-decoration-color: #800080; font-style: italic\">None</span>\n",
       "    <span style=\"font-weight: bold\">}</span>,\n",
       "    <span style=\"color: #808000; text-decoration-color: #808000\">id</span>=<span style=\"color: #008000; text-decoration-color: #008000\">'run--7545efce-fb59-4d44-8c3b-7aa8ff435cfb-0'</span>,\n",
       "    <span style=\"color: #808000; text-decoration-color: #808000\">tool_calls</span>=<span style=\"font-weight: bold\">[</span>\n",
       "        <span style=\"font-weight: bold\">{</span>\n",
       "            <span style=\"color: #008000; text-decoration-color: #008000\">'name'</span>: <span style=\"color: #008000; text-decoration-color: #008000\">'add'</span>,\n",
       "            <span style=\"color: #008000; text-decoration-color: #008000\">'args'</span>: <span style=\"font-weight: bold\">{</span><span style=\"color: #008000; text-decoration-color: #008000\">'a'</span>: <span style=\"color: #008080; text-decoration-color: #008080; font-weight: bold\">2</span>, <span style=\"color: #008000; text-decoration-color: #008000\">'b'</span>: <span style=\"color: #008080; text-decoration-color: #008080; font-weight: bold\">2</span><span style=\"font-weight: bold\">}</span>,\n",
       "            <span style=\"color: #008000; text-decoration-color: #008000\">'id'</span>: <span style=\"color: #008000; text-decoration-color: #008000\">'fc_54986b83-cd09-4aae-9d1e-15cb70c4685e'</span>,\n",
       "            <span style=\"color: #008000; text-decoration-color: #008000\">'type'</span>: <span style=\"color: #008000; text-decoration-color: #008000\">'tool_call'</span>\n",
       "        <span style=\"font-weight: bold\">}</span>\n",
       "    <span style=\"font-weight: bold\">]</span>,\n",
       "    <span style=\"color: #808000; text-decoration-color: #808000\">usage_metadata</span>=<span style=\"font-weight: bold\">{</span><span style=\"color: #008000; text-decoration-color: #008000\">'input_tokens'</span>: <span style=\"color: #008080; text-decoration-color: #008080; font-weight: bold\">153</span>, <span style=\"color: #008000; text-decoration-color: #008000\">'output_tokens'</span>: <span style=\"color: #008080; text-decoration-color: #008080; font-weight: bold\">63</span>, <span style=\"color: #008000; text-decoration-color: #008000\">'total_tokens'</span>: <span style=\"color: #008080; text-decoration-color: #008080; font-weight: bold\">216</span><span style=\"font-weight: bold\">}</span>\n",
       "<span style=\"font-weight: bold\">)</span>\n",
       "</pre>\n"
      ],
      "text/plain": [
       "\u001b[1;35mAIMessage\u001b[0m\u001b[1m(\u001b[0m\n",
       "    \u001b[33mcontent\u001b[0m=\u001b[32m''\u001b[0m,\n",
       "    \u001b[33madditional_kwargs\u001b[0m=\u001b[1m{\u001b[0m\n",
       "        \u001b[32m'reasoning_content'\u001b[0m: \u001b[32m'User asks: \"What is 2 plus 2\". Simple addition. Could compute directly, but we have a\u001b[0m\n",
       "\u001b[32mfunction add. Use it.'\u001b[0m,\n",
       "        \u001b[32m'tool_calls'\u001b[0m: \u001b[1m[\u001b[0m\n",
       "            \u001b[1m{\u001b[0m\n",
       "                \u001b[32m'id'\u001b[0m: \u001b[32m'fc_54986b83-cd09-4aae-9d1e-15cb70c4685e'\u001b[0m,\n",
       "                \u001b[32m'function'\u001b[0m: \u001b[1m{\u001b[0m\u001b[32m'arguments'\u001b[0m: \u001b[32m'\u001b[0m\u001b[32m{\u001b[0m\u001b[32m\"a\":2,\"b\":2\u001b[0m\u001b[32m}\u001b[0m\u001b[32m'\u001b[0m, \u001b[32m'name'\u001b[0m: \u001b[32m'add'\u001b[0m\u001b[1m}\u001b[0m,\n",
       "                \u001b[32m'type'\u001b[0m: \u001b[32m'function'\u001b[0m\n",
       "            \u001b[1m}\u001b[0m\n",
       "        \u001b[1m]\u001b[0m\n",
       "    \u001b[1m}\u001b[0m,\n",
       "    \u001b[33mresponse_metadata\u001b[0m=\u001b[1m{\u001b[0m\n",
       "        \u001b[32m'token_usage'\u001b[0m: \u001b[1m{\u001b[0m\n",
       "            \u001b[32m'completion_tokens'\u001b[0m: \u001b[1;36m63\u001b[0m,\n",
       "            \u001b[32m'prompt_tokens'\u001b[0m: \u001b[1;36m153\u001b[0m,\n",
       "            \u001b[32m'total_tokens'\u001b[0m: \u001b[1;36m216\u001b[0m,\n",
       "            \u001b[32m'completion_time'\u001b[0m: \u001b[1;36m0.125500612\u001b[0m,\n",
       "            \u001b[32m'prompt_time'\u001b[0m: \u001b[1;36m0.005654748\u001b[0m,\n",
       "            \u001b[32m'queue_time'\u001b[0m: \u001b[1;36m0.051530312\u001b[0m,\n",
       "            \u001b[32m'total_time'\u001b[0m: \u001b[1;36m0.13115536\u001b[0m\n",
       "        \u001b[1m}\u001b[0m,\n",
       "        \u001b[32m'model_name'\u001b[0m: \u001b[32m'openai/gpt-oss-120b'\u001b[0m,\n",
       "        \u001b[32m'system_fingerprint'\u001b[0m: \u001b[32m'fp_82669fd91d'\u001b[0m,\n",
       "        \u001b[32m'service_tier'\u001b[0m: \u001b[32m'on_demand'\u001b[0m,\n",
       "        \u001b[32m'finish_reason'\u001b[0m: \u001b[32m'tool_calls'\u001b[0m,\n",
       "        \u001b[32m'logprobs'\u001b[0m: \u001b[3;35mNone\u001b[0m\n",
       "    \u001b[1m}\u001b[0m,\n",
       "    \u001b[33mid\u001b[0m=\u001b[32m'run--7545efce-fb59-4d44-8c3b-7aa8ff435cfb-0'\u001b[0m,\n",
       "    \u001b[33mtool_calls\u001b[0m=\u001b[1m[\u001b[0m\n",
       "        \u001b[1m{\u001b[0m\n",
       "            \u001b[32m'name'\u001b[0m: \u001b[32m'add'\u001b[0m,\n",
       "            \u001b[32m'args'\u001b[0m: \u001b[1m{\u001b[0m\u001b[32m'a'\u001b[0m: \u001b[1;36m2\u001b[0m, \u001b[32m'b'\u001b[0m: \u001b[1;36m2\u001b[0m\u001b[1m}\u001b[0m,\n",
       "            \u001b[32m'id'\u001b[0m: \u001b[32m'fc_54986b83-cd09-4aae-9d1e-15cb70c4685e'\u001b[0m,\n",
       "            \u001b[32m'type'\u001b[0m: \u001b[32m'tool_call'\u001b[0m\n",
       "        \u001b[1m}\u001b[0m\n",
       "    \u001b[1m]\u001b[0m,\n",
       "    \u001b[33musage_metadata\u001b[0m=\u001b[1m{\u001b[0m\u001b[32m'input_tokens'\u001b[0m: \u001b[1;36m153\u001b[0m, \u001b[32m'output_tokens'\u001b[0m: \u001b[1;36m63\u001b[0m, \u001b[32m'total_tokens'\u001b[0m: \u001b[1;36m216\u001b[0m\u001b[1m}\u001b[0m\n",
       "\u001b[1m)\u001b[0m\n"
      ]
     },
     "metadata": {},
     "output_type": "display_data"
    }
   ],
   "source": [
    "print(llm_with_tools.invoke([HumanMessage(content=f\"What is 2 plus 2\",name=\"abhi\")]))"
   ]
  },
  {
   "cell_type": "code",
   "execution_count": 94,
   "id": "0fbf7a8d",
   "metadata": {},
   "outputs": [],
   "source": [
    "### using messages as State \n",
    "\n",
    "from typing_extensions import TypedDict\n",
    "from langchain_core.messages import AnyMessage\n",
    "\n",
    "class Stare(TypedDict):\n",
    "    message:list[AnyMessage]\n",
    "    "
   ]
  },
  {
   "cell_type": "markdown",
   "id": "dafb3c9f",
   "metadata": {},
   "source": [
    "### Reducers \n",
    "\n",
    "- Now, me have a minor problem! \n",
    "\n",
    "- as we discussed , each node will return a new value for our state key messages.\n",
    "\n",
    "- but, this new value will override the prior messages value. \n",
    "\n",
    "- as our graph runs, we want to append messages to our messages state key \n",
    "\n",
    "- we can use reducer function to address this.\n",
    "\n",
    "- reducers allow us to specify how state updates are performed.\n",
    "\n",
    "- if no reducer function is specified, then it is assumed that updates to the key should override it as we saw before.\n",
    "\n",
    "- but, to append messages, we can use the pre-built add_messages reducer.\n",
    "\n",
    "- this ensures that any messages are appended to the existing list of messages \n",
    "\n",
    "- we simply need to annotate our messages key with the add messages reducer function as metadata.\n",
    "\n"
   ]
  },
  {
   "cell_type": "code",
   "execution_count": 95,
   "id": "b0df88aa",
   "metadata": {},
   "outputs": [],
   "source": [
    "from langgraph.graph.message import add_messages\n",
    "from typing_extensions import TypedDict\n",
    "from typing import Annotated\n",
    "from langchain_core.messages import AnyMessage\n",
    "\n",
    "class state(TypedDict):\n",
    "    messages:Annotated[list[AnyMessage],add_messages]"
   ]
  },
  {
   "cell_type": "markdown",
   "id": "b3a8bdc6",
   "metadata": {},
   "source": [
    "### Reducers wit add_messages "
   ]
  },
  {
   "cell_type": "code",
   "execution_count": 96,
   "id": "44b35adb",
   "metadata": {},
   "outputs": [
    {
     "data": {
      "text/plain": [
       "[AIMessage(content='tell me which programming language you want to learn ? ', additional_kwargs={}, response_metadata={}, name='LLM')]"
      ]
     },
     "execution_count": 96,
     "metadata": {},
     "output_type": "execute_result"
    }
   ],
   "source": [
    "initial_messages=[AIMessage(content=f\"please tell me how can i help.\",name=\"LLM\")]\n",
    "initial_messages.append(HumanMessage(content=f\"I want to learn coding\",name=\"abhijit\"))\n",
    "\n",
    "ai_messages=[AIMessage(content=f\"tell me which programming language you want to learn ? \",name=\"LLM\")]\n",
    "ai_messages"
   ]
  },
  {
   "cell_type": "code",
   "execution_count": 97,
   "id": "9564ee14",
   "metadata": {},
   "outputs": [
    {
     "data": {
      "text/plain": [
       "[AIMessage(content='please tell me how can i help.', additional_kwargs={}, response_metadata={}, name='LLM'),\n",
       " HumanMessage(content='I want to learn coding', additional_kwargs={}, response_metadata={}, name='abhijit')]"
      ]
     },
     "execution_count": 97,
     "metadata": {},
     "output_type": "execute_result"
    }
   ],
   "source": [
    "initial_messages"
   ]
  },
  {
   "cell_type": "code",
   "execution_count": 98,
   "id": "4f6f03da",
   "metadata": {},
   "outputs": [
    {
     "data": {
      "text/html": [
       "<pre style=\"white-space:pre;overflow-x:auto;line-height:normal;font-family:Menlo,'DejaVu Sans Mono',consolas,'Courier New',monospace\"><span style=\"font-weight: bold\">[</span>\n",
       "    <span style=\"color: #800080; text-decoration-color: #800080; font-weight: bold\">AIMessage</span><span style=\"font-weight: bold\">(</span>\n",
       "        <span style=\"color: #808000; text-decoration-color: #808000\">content</span>=<span style=\"color: #008000; text-decoration-color: #008000\">'please tell me how can i help.'</span>,\n",
       "        <span style=\"color: #808000; text-decoration-color: #808000\">additional_kwargs</span>=<span style=\"font-weight: bold\">{}</span>,\n",
       "        <span style=\"color: #808000; text-decoration-color: #808000\">response_metadata</span>=<span style=\"font-weight: bold\">{}</span>,\n",
       "        <span style=\"color: #808000; text-decoration-color: #808000\">name</span>=<span style=\"color: #008000; text-decoration-color: #008000\">'LLM'</span>,\n",
       "        <span style=\"color: #808000; text-decoration-color: #808000\">id</span>=<span style=\"color: #008000; text-decoration-color: #008000\">'b10d92a7-d108-4e85-8e36-5543c545b886'</span>\n",
       "    <span style=\"font-weight: bold\">)</span>,\n",
       "    <span style=\"color: #800080; text-decoration-color: #800080; font-weight: bold\">HumanMessage</span><span style=\"font-weight: bold\">(</span>\n",
       "        <span style=\"color: #808000; text-decoration-color: #808000\">content</span>=<span style=\"color: #008000; text-decoration-color: #008000\">'I want to learn coding'</span>,\n",
       "        <span style=\"color: #808000; text-decoration-color: #808000\">additional_kwargs</span>=<span style=\"font-weight: bold\">{}</span>,\n",
       "        <span style=\"color: #808000; text-decoration-color: #808000\">response_metadata</span>=<span style=\"font-weight: bold\">{}</span>,\n",
       "        <span style=\"color: #808000; text-decoration-color: #808000\">name</span>=<span style=\"color: #008000; text-decoration-color: #008000\">'abhijit'</span>,\n",
       "        <span style=\"color: #808000; text-decoration-color: #808000\">id</span>=<span style=\"color: #008000; text-decoration-color: #008000\">'d989af61-c264-4209-9d42-1ebe724dc044'</span>\n",
       "    <span style=\"font-weight: bold\">)</span>,\n",
       "    <span style=\"color: #800080; text-decoration-color: #800080; font-weight: bold\">AIMessage</span><span style=\"font-weight: bold\">(</span>\n",
       "        <span style=\"color: #808000; text-decoration-color: #808000\">content</span>=<span style=\"color: #008000; text-decoration-color: #008000\">'tell me which programming language you want to learn ? '</span>,\n",
       "        <span style=\"color: #808000; text-decoration-color: #808000\">additional_kwargs</span>=<span style=\"font-weight: bold\">{}</span>,\n",
       "        <span style=\"color: #808000; text-decoration-color: #808000\">response_metadata</span>=<span style=\"font-weight: bold\">{}</span>,\n",
       "        <span style=\"color: #808000; text-decoration-color: #808000\">name</span>=<span style=\"color: #008000; text-decoration-color: #008000\">'LLM'</span>,\n",
       "        <span style=\"color: #808000; text-decoration-color: #808000\">id</span>=<span style=\"color: #008000; text-decoration-color: #008000\">'1d2e9fb6-bf3b-4e86-af33-1f9ac69ce98e'</span>\n",
       "    <span style=\"font-weight: bold\">)</span>\n",
       "<span style=\"font-weight: bold\">]</span>\n",
       "</pre>\n"
      ],
      "text/plain": [
       "\u001b[1m[\u001b[0m\n",
       "    \u001b[1;35mAIMessage\u001b[0m\u001b[1m(\u001b[0m\n",
       "        \u001b[33mcontent\u001b[0m=\u001b[32m'please tell me how can i help.'\u001b[0m,\n",
       "        \u001b[33madditional_kwargs\u001b[0m=\u001b[1m{\u001b[0m\u001b[1m}\u001b[0m,\n",
       "        \u001b[33mresponse_metadata\u001b[0m=\u001b[1m{\u001b[0m\u001b[1m}\u001b[0m,\n",
       "        \u001b[33mname\u001b[0m=\u001b[32m'LLM'\u001b[0m,\n",
       "        \u001b[33mid\u001b[0m=\u001b[32m'b10d92a7-d108-4e85-8e36-5543c545b886'\u001b[0m\n",
       "    \u001b[1m)\u001b[0m,\n",
       "    \u001b[1;35mHumanMessage\u001b[0m\u001b[1m(\u001b[0m\n",
       "        \u001b[33mcontent\u001b[0m=\u001b[32m'I want to learn coding'\u001b[0m,\n",
       "        \u001b[33madditional_kwargs\u001b[0m=\u001b[1m{\u001b[0m\u001b[1m}\u001b[0m,\n",
       "        \u001b[33mresponse_metadata\u001b[0m=\u001b[1m{\u001b[0m\u001b[1m}\u001b[0m,\n",
       "        \u001b[33mname\u001b[0m=\u001b[32m'abhijit'\u001b[0m,\n",
       "        \u001b[33mid\u001b[0m=\u001b[32m'd989af61-c264-4209-9d42-1ebe724dc044'\u001b[0m\n",
       "    \u001b[1m)\u001b[0m,\n",
       "    \u001b[1;35mAIMessage\u001b[0m\u001b[1m(\u001b[0m\n",
       "        \u001b[33mcontent\u001b[0m=\u001b[32m'tell me which programming language you want to learn ? '\u001b[0m,\n",
       "        \u001b[33madditional_kwargs\u001b[0m=\u001b[1m{\u001b[0m\u001b[1m}\u001b[0m,\n",
       "        \u001b[33mresponse_metadata\u001b[0m=\u001b[1m{\u001b[0m\u001b[1m}\u001b[0m,\n",
       "        \u001b[33mname\u001b[0m=\u001b[32m'LLM'\u001b[0m,\n",
       "        \u001b[33mid\u001b[0m=\u001b[32m'1d2e9fb6-bf3b-4e86-af33-1f9ac69ce98e'\u001b[0m\n",
       "    \u001b[1m)\u001b[0m\n",
       "\u001b[1m]\u001b[0m\n"
      ]
     },
     "metadata": {},
     "output_type": "display_data"
    }
   ],
   "source": [
    "# Reducers add_messages is to append instead of override \n",
    "\n",
    "print(add_messages(initial_messages,ai_messages))"
   ]
  },
  {
   "cell_type": "code",
   "execution_count": 99,
   "id": "71a70482",
   "metadata": {},
   "outputs": [],
   "source": [
    "# lets build state graph \n",
    "## chat bot node functionality\n",
    "def llm_tool(state:state):\n",
    "    return{\"messages\":[llm_with_tools.invoke(state[\"messages\"])]}"
   ]
  },
  {
   "cell_type": "code",
   "execution_count": 100,
   "id": "8479880a",
   "metadata": {},
   "outputs": [],
   "source": [
    "from IPython.display import display , Image\n",
    "from langgraph.graph import StateGraph, START,END\n",
    "\n",
    "builder=StateGraph(state)\n",
    "\n",
    "builder.add_node(\"llm_tool\",llm_tool)\n",
    "\n",
    "builder.add_edge(START,\"llm_tool\")\n",
    "builder.add_edge(\"llm_tool\",END)\n",
    "\n",
    "\n",
    "graph=builder.compile()"
   ]
  },
  {
   "cell_type": "code",
   "execution_count": 101,
   "id": "ef88082b",
   "metadata": {},
   "outputs": [
    {
     "data": {
      "image/png": "[encoded data removed]",
      "text/plain": [
       "<IPython.core.display.Image object>"
      ]
     },
     "metadata": {},
     "output_type": "display_data"
    }
   ],
   "source": [
    "display(Image(graph.get_graph().draw_mermaid_png()))"
   ]
  },
  {
   "cell_type": "code",
   "execution_count": 102,
   "id": "0c103a9d",
   "metadata": {},
   "outputs": [],
   "source": [
    "message=graph.invoke({\"messages\":\"what is 2 plus 2\"})"
   ]
  },
  {
   "cell_type": "code",
   "execution_count": 104,
   "id": "5d935ccb",
   "metadata": {},
   "outputs": [
    {
     "name": "stdout",
     "output_type": "stream",
     "text": [
      "================================\u001b[1m Human Message \u001b[0m=================================\n",
      "\n",
      "what is 2 plus 2\n",
      "==================================\u001b[1m Ai Message \u001b[0m==================================\n",
      "\n",
      "2 + 2 = 4.\n"
     ]
    }
   ],
   "source": [
    "for i in message[\"messages\"]:\n",
    "    i.pretty_print()\n"
   ]
  },
  {
   "cell_type": "code",
   "execution_count": 105,
   "id": "e04de816",
   "metadata": {},
   "outputs": [
    {
     "data": {
      "text/plain": [
       "<langgraph.graph.state.StateGraph at 0x11a7c41a0>"
      ]
     },
     "execution_count": 105,
     "metadata": {},
     "output_type": "execute_result"
    }
   ],
   "source": [
    "from langgraph.prebuilt import ToolNode \n",
    "from langgraph.prebuilt import tools_condition \n",
    "\n",
    "# if the latest message (result) from assistant is a tool call -> tools_condition routers to tools \n",
    "# if the latest message (result) from assistant is a not a tool call -> tools_condition routes to end\n",
    "tools=[add]\n",
    "\n",
    "builder=StateGraph(state)\n",
    "\n",
    "builder.add_node(\"llm_tool\",llm_tool)\n",
    "\n",
    "\n",
    "builder.add_node(\"tools\",ToolNode(tools))\n",
    "\n",
    "\n",
    "builder.add_edge(START,\"llm_tool\")\n",
    "builder.add_conditional_edges(\n",
    "    \"llm_tool\",tools_condition\n",
    ")\n",
    "\n",
    "builder.add_edge(\"tools\",\"llm_tool\")\n",
    "builder.add_edge(\"llm_tool\",END)\n",
    "\n",
    "# graph=builder.compile()"
   ]
  },
  {
   "cell_type": "code",
   "execution_count": 106,
   "id": "1bcbc9da",
   "metadata": {},
   "outputs": [],
   "source": [
    "graph=builder.compile()"
   ]
  },
  {
   "cell_type": "code",
   "execution_count": 107,
   "id": "912c86e8",
   "metadata": {},
   "outputs": [
    {
     "data": {
      "image/png": "[encoded data removed]",
      "text/plain": [
       "<IPython.core.display.Image object>"
      ]
     },
     "metadata": {},
     "output_type": "display_data"
    }
   ],
   "source": [
    "display(Image(graph.get_graph().draw_mermaid_png()))"
   ]
  },
  {
   "cell_type": "code",
   "execution_count": 108,
   "id": "98bf54fc",
   "metadata": {},
   "outputs": [],
   "source": [
    "message=graph.invoke({\"messages\":\"what is 2 plus 2\"})"
   ]
  },
  {
   "cell_type": "code",
   "execution_count": 109,
   "id": "de434b88",
   "metadata": {},
   "outputs": [
    {
     "name": "stdout",
     "output_type": "stream",
     "text": [
      "================================\u001b[1m Human Message \u001b[0m=================================\n",
      "\n",
      "what is 2 plus 2\n",
      "==================================\u001b[1m Ai Message \u001b[0m==================================\n",
      "Tool Calls:\n",
      "  add (fc_a86b9e20-1788-4aa0-a55a-d1cdaed929a0)\n",
      " Call ID: fc_a86b9e20-1788-4aa0-a55a-d1cdaed929a0\n",
      "  Args:\n",
      "    a: 2\n",
      "    b: 2\n",
      "=================================\u001b[1m Tool Message \u001b[0m=================================\n",
      "Name: add\n",
      "\n",
      "4 Great Question ! \n",
      "==================================\u001b[1m Ai Message \u001b[0m==================================\n",
      "\n",
      "2 + 2 = 4.\n"
     ]
    }
   ],
   "source": [
    "for i in message[\"messages\"]:\n",
    "    i.pretty_print()"
   ]
  },
  {
   "cell_type": "code",
   "execution_count": null,
   "id": "e6007dc4",
   "metadata": {},
   "outputs": [],
   "source": []
  }
 ],
 "metadata": {
  "kernelspec": {
   "display_name": "Python 3",
   "language": "python",
   "name": "python3"
  },
  "language_info": {
   "codemirror_mode": {
    "name": "ipython",
    "version": 3
   },
   "file_extension": ".py",
   "mimetype": "text/x-python",
   "name": "python",
   "nbconvert_exporter": "python",
   "pygments_lexer": "ipython3",
   "version": "3.12.0"
  }
 },
 "nbformat": 4,
 "nbformat_minor": 5
}
