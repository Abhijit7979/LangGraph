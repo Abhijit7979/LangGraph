{
 "cells": [
  {
   "cell_type": "markdown",
   "id": "44ce4df9",
   "metadata": {},
   "source": [
    "### Human in the loop \n",
    "\n",
    "Review for human in the loop, we often want to see our graph outputs as its running.\n",
    "\n",
    "we laid the foundations for this with streaming. \n",
    "\n",
    "Goals now , lets talk about the motivations for human in the loop:\n",
    "\n",
    "1. Approval : we can interrupt out agent, surface state to a user , and allow the user to accept an action\n",
    "\n",
    "2. debugging : we can rewind the graph to reproduce or avoid issues. \n",
    "\n",
    "3. editing : you can modify the state\n",
    "\n",
    "LangGraph offers several ways to get or update agent state to support various human in the loop workflows."
   ]
  },
  {
   "cell_type": "code",
   "execution_count": 1,
   "id": "80f9f903",
   "metadata": {},
   "outputs": [],
   "source": [
    "from dotenv import load_dotenv\n",
    "load_dotenv()\n",
    "\n",
    "import os \n",
    "\n",
    "from langchain_groq import ChatGroq\n",
    "\n",
    "os.environ[\"GROQ_API_KEY\"] = os.getenv(\"GROQ_API\")"
   ]
  },
  {
   "cell_type": "code",
   "execution_count": 2,
   "id": "a54fca87",
   "metadata": {},
   "outputs": [],
   "source": [
    "llm=ChatGroq(model=\"openai/gpt-oss-20b\")"
   ]
  },
  {
   "cell_type": "code",
   "execution_count": 3,
   "id": "8d5dd46d",
   "metadata": {},
   "outputs": [
    {
     "data": {
      "text/plain": [
       "[<function __main__.add(a: int, b: int) -> int>,\n",
       " <function __main__.subtract(a: int, b: int) -> int>,\n",
       " <function __main__.multiply(a: int, b: int) -> int>,\n",
       " <function __main__.divide(a: int, b: int) -> float>]"
      ]
     },
     "execution_count": 3,
     "metadata": {},
     "output_type": "execute_result"
    }
   ],
   "source": [
    "### custom tools \n",
    "\n",
    "def multiply(a: int,b:int) -> int:\n",
    "    \"\"\"Multiply a and b\n",
    "    Args:\n",
    "        a (int): first number\n",
    "        b (int): second number\n",
    "    Returns:\n",
    "        int: product of a and b\n",
    "    \"\"\"\n",
    "    return a*b\n",
    "def add(a: int,b:int) -> int:\n",
    "    \"\"\"Add a and b\n",
    "    Args:\n",
    "        a (int): first number\n",
    "        b (int): second number\n",
    "    Returns:\n",
    "        int: sum of a and b\n",
    "    \"\"\"\n",
    "    return a+b\n",
    "def subtract(a: int,b:int) -> int:\n",
    "    \"\"\"Subtract b from a\n",
    "    Args:\n",
    "        a (int): first number\n",
    "        b (int): second number\n",
    "    Returns:\n",
    "        int: difference of a and b\n",
    "    \"\"\"\n",
    "    return a-b\n",
    "def divide(a: int,b:int) -> float:\n",
    "    \"\"\"Divide a by b\n",
    "    Args:\n",
    "        a (int): first number\n",
    "        b (int): second number\n",
    "    Returns:\n",
    "        float: quotient of a and b\n",
    "    \"\"\"\n",
    "    if b==0:\n",
    "        return \"Division by zero is not allowed\"\n",
    "    return a/b\n",
    "\n",
    "tools=[add,subtract,multiply,divide]\n",
    "tools"
   ]
  },
  {
   "cell_type": "code",
   "execution_count": 5,
   "id": "3d3fe5a3",
   "metadata": {},
   "outputs": [],
   "source": [
    "## integrate tools with llm \n",
    "\n",
    "llm_with_tools=llm.bind_tools(tools)"
   ]
  },
  {
   "cell_type": "code",
   "execution_count": 6,
   "id": "2a336f54",
   "metadata": {},
   "outputs": [],
   "source": [
    "### workflow with LangGraph\n",
    "\n",
    "from IPython.display import Image,display\n",
    "\n",
    "from langgraph.checkpoint.memory import MemorySaver\n",
    "from langgraph.graph import MessagesState\n",
    "from langgraph.graph import StateGraph,START,END\n",
    "from langgraph.prebuilt import tools_condition,ToolNode\n",
    "from langchain_core.messages import AIMessage,HumanMessage,SystemMessage\n",
    "\n",
    "\n",
    "### system message \n",
    "\n",
    "sys_msg=SystemMessage(content=\"you are a helpful assistant tasked with performing arithmetic on a set of inputs.\")"
   ]
  },
  {
   "cell_type": "code",
   "execution_count": 7,
   "id": "303650c3",
   "metadata": {},
   "outputs": [],
   "source": [
    "## nodes \n",
    "\n",
    "def assistant(state:MessagesState):\n",
    "    return{\"messages\":[llm_with_tools.invoke([sys_msg]+state[\"messages\"])]}\n",
    "\n"
   ]
  },
  {
   "cell_type": "code",
   "execution_count": 10,
   "id": "51ac6a29",
   "metadata": {},
   "outputs": [],
   "source": [
    "builder=StateGraph(MessagesState)\n",
    "\n",
    "builder.add_node(\"assistant\",assistant)\n",
    "builder.add_node(\"tools\",ToolNode(tools))\n",
    "\n",
    "builder.add_edge(START,\"assistant\")\n",
    "builder.add_conditional_edges(\"assistant\",tools_condition,)\n",
    "builder.add_edge(\"tools\",\"assistant\")\n",
    "\n",
    "memory=MemorySaver()\n",
    "\n",
    "## human in the loop\n",
    "\n",
    "graph=builder.compile(interrupt_before=[\"assistant\"],checkpointer=memory)\n",
    "\n"
   ]
  },
  {
   "cell_type": "code",
   "execution_count": 11,
   "id": "4a247c6a",
   "metadata": {},
   "outputs": [
    {
     "data": {
      "image/png": "[encoded data removed]",
      "text/plain": [
       "<IPython.core.display.Image object>"
      ]
     },
     "metadata": {},
     "output_type": "display_data"
    }
   ],
   "source": [
    "display(Image(graph.get_graph().draw_mermaid_png()))"
   ]
  },
  {
   "cell_type": "code",
   "execution_count": null,
   "id": "83a38bd4",
   "metadata": {},
   "outputs": [],
   "source": [
    "thread={\"configurable\":{\"thread_id\":\"123\"}}\n",
    "\n",
    "initial_input={\"messages\":HumanMessage(content=\"Multiply 2 and 3\")}\n",
    " \n"
   ]
  },
  {
   "cell_type": "code",
   "execution_count": 13,
   "id": "5b4e6219",
   "metadata": {},
   "outputs": [
    {
     "name": "stdout",
     "output_type": "stream",
     "text": [
      "================================\u001b[1m Human Message \u001b[0m=================================\n",
      "\n",
      "Multiply 2 and 3\n"
     ]
    }
   ],
   "source": [
    "for event in graph.stream(initial_input,thread,stream_mode=\"values\"):\n",
    "    event['messages'][-1].pretty_print()"
   ]
  },
  {
   "cell_type": "code",
   "execution_count": null,
   "id": "f6fcdcb4",
   "metadata": {},
   "outputs": [],
   "source": []
  }
 ],
 "metadata": {
  "kernelspec": {
   "display_name": "Python 3",
   "language": "python",
   "name": "python3"
  },
  "language_info": {
   "codemirror_mode": {
    "name": "ipython",
    "version": 3
   },
   "file_extension": ".py",
   "mimetype": "text/x-python",
   "name": "python",
   "nbconvert_exporter": "python",
   "pygments_lexer": "ipython3",
   "version": "3.12.0"
  }
 },
 "nbformat": 4,
 "nbformat_minor": 5
}
