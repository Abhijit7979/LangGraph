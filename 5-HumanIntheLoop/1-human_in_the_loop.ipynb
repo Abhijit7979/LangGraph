{
 "cells": [
  {
   "cell_type": "markdown",
   "id": "44ce4df9",
   "metadata": {},
   "source": [
    "### Human in the loop \n",
    "\n",
    "Review for human in the loop, we often want to see our graph outputs as its running.\n",
    "\n",
    "we laid the foundations for this with streaming. \n",
    "\n",
    "Goals now , lets talk about the motivations for human in the loop:\n",
    "\n",
    "1. Approval : we can interrupt out agent, surface state to a user , and allow the user to accept an action\n",
    "\n",
    "2. debugging : we can rewind the graph to reproduce or avoid issues. \n",
    "\n",
    "3. editing : you can modify the state\n",
    "\n",
    "LangGraph offers several ways to get or update agent state to support various human in the loop workflows."
   ]
  },
  {
   "cell_type": "code",
   "execution_count": 1,
   "id": "80f9f903",
   "metadata": {},
   "outputs": [],
   "source": [
    "from dotenv import load_dotenv\n",
    "load_dotenv()\n",
    "\n",
    "import os \n",
    "\n",
    "from langchain_groq import ChatGroq\n",
    "\n",
    "os.environ[\"GROQ_API_KEY\"] = os.getenv(\"GROQ_API\")"
   ]
  },
  {
   "cell_type": "code",
   "execution_count": 2,
   "id": "a54fca87",
   "metadata": {},
   "outputs": [],
   "source": [
    "llm=ChatGroq(model=\"openai/gpt-oss-20b\")"
   ]
  },
  {
   "cell_type": "code",
   "execution_count": 3,
   "id": "8d5dd46d",
   "metadata": {},
   "outputs": [
    {
     "data": {
      "text/plain": [
       "[<function __main__.add(a: int, b: int) -> int>,\n",
       " <function __main__.subtract(a: int, b: int) -> int>,\n",
       " <function __main__.multiply(a: int, b: int) -> int>,\n",
       " <function __main__.divide(a: int, b: int) -> float>]"
      ]
     },
     "execution_count": 3,
     "metadata": {},
     "output_type": "execute_result"
    }
   ],
   "source": [
    "### custom tools \n",
    "\n",
    "def multiply(a: int,b:int) -> int:\n",
    "    \"\"\"Multiply a and b\n",
    "    Args:\n",
    "        a (int): first number\n",
    "        b (int): second number\n",
    "    Returns:\n",
    "        int: product of a and b\n",
    "    \"\"\"\n",
    "    return a*b\n",
    "def add(a: int,b:int) -> int:\n",
    "    \"\"\"Add a and b\n",
    "    Args:\n",
    "        a (int): first number\n",
    "        b (int): second number\n",
    "    Returns:\n",
    "        int: sum of a and b\n",
    "    \"\"\"\n",
    "    return a+b\n",
    "def subtract(a: int,b:int) -> int:\n",
    "    \"\"\"Subtract b from a\n",
    "    Args:\n",
    "        a (int): first number\n",
    "        b (int): second number\n",
    "    Returns:\n",
    "        int: difference of a and b\n",
    "    \"\"\"\n",
    "    return a-b\n",
    "def divide(a: int,b:int) -> float:\n",
    "    \"\"\"Divide a by b\n",
    "    Args:\n",
    "        a (int): first number\n",
    "        b (int): second number\n",
    "    Returns:\n",
    "        float: quotient of a and b\n",
    "    \"\"\"\n",
    "    if b==0:\n",
    "        return \"Division by zero is not allowed\"\n",
    "    return a/b\n",
    "\n",
    "tools=[add,subtract,multiply,divide]\n",
    "tools"
   ]
  },
  {
   "cell_type": "code",
   "execution_count": 5,
   "id": "3d3fe5a3",
   "metadata": {},
   "outputs": [],
   "source": [
    "## integrate tools with llm \n",
    "\n",
    "llm_with_tools=llm.bind_tools(tools)"
   ]
  },
  {
   "cell_type": "code",
   "execution_count": 6,
   "id": "2a336f54",
   "metadata": {},
   "outputs": [],
   "source": [
    "### workflow with LangGraph\n",
    "\n",
    "from IPython.display import Image,display\n",
    "\n",
    "from langgraph.checkpoint.memory import MemorySaver\n",
    "from langgraph.graph import MessagesState\n",
    "from langgraph.graph import StateGraph,START,END\n",
    "from langgraph.prebuilt import tools_condition,ToolNode\n",
    "from langchain_core.messages import AIMessage,HumanMessage,SystemMessage\n",
    "\n",
    "\n",
    "### system message \n",
    "\n",
    "sys_msg=SystemMessage(content=\"you are a helpful assistant tasked with performing arithmetic on a set of inputs.\")"
   ]
  },
  {
   "cell_type": "code",
   "execution_count": 7,
   "id": "303650c3",
   "metadata": {},
   "outputs": [],
   "source": [
    "## nodes \n",
    "\n",
    "def assistant(state:MessagesState):\n",
    "    return{\"messages\":[llm_with_tools.invoke([sys_msg]+state[\"messages\"])]}\n",
    "\n"
   ]
  },
  {
   "cell_type": "code",
   "execution_count": 10,
   "id": "51ac6a29",
   "metadata": {},
   "outputs": [],
   "source": [
    "builder=StateGraph(MessagesState)\n",
    "\n",
    "builder.add_node(\"assistant\",assistant)\n",
    "builder.add_node(\"tools\",ToolNode(tools))\n",
    "\n",
    "builder.add_edge(START,\"assistant\")\n",
    "builder.add_conditional_edges(\"assistant\",tools_condition,)\n",
    "builder.add_edge(\"tools\",\"assistant\")\n",
    "\n",
    "memory=MemorySaver()\n",
    "\n",
    "## human in the loop\n",
    "\n",
    "graph=builder.compile(interrupt_before=[\"assistant\"],checkpointer=memory)\n",
    "\n"
   ]
  },
  {
   "cell_type": "code",
   "execution_count": 11,
   "id": "4a247c6a",
   "metadata": {},
   "outputs": [
    {
     "data": {
      "image/png": "[encoded data removed]",
      "text/plain": [
       "<IPython.core.display.Image object>"
      ]
     },
     "metadata": {},
     "output_type": "display_data"
    }
   ],
   "source": [
    "display(Image(graph.get_graph().draw_mermaid_png()))"
   ]
  },
  {
   "cell_type": "code",
   "execution_count": null,
   "id": "83a38bd4",
   "metadata": {},
   "outputs": [],
   "source": [
    "thread={\"configurable\":{\"thread_id\":\"123\"}}\n",
    "\n",
    "initial_input={\"messages\":HumanMessage(content=\"Multiply 2 and 3\")}\n",
    " \n"
   ]
  },
  {
   "cell_type": "code",
   "execution_count": 13,
   "id": "5b4e6219",
   "metadata": {},
   "outputs": [
    {
     "name": "stdout",
     "output_type": "stream",
     "text": [
      "================================\u001b[1m Human Message \u001b[0m=================================\n",
      "\n",
      "Multiply 2 and 3\n"
     ]
    }
   ],
   "source": [
    "for event in graph.stream(initial_input,thread,stream_mode=\"values\"):\n",
    "    event['messages'][-1].pretty_print()"
   ]
  },
  {
   "cell_type": "code",
   "execution_count": 16,
   "id": "8f4420bb",
   "metadata": {},
   "outputs": [
    {
     "data": {
      "text/plain": [
       "StateSnapshot(values={'messages': [HumanMessage(content='Multiply 2 and 3', additional_kwargs={}, response_metadata={}, id='a7761a99-a03d-45fa-9dc0-61f5092a866a')]}, next=('assistant',), config={'configurable': {'thread_id': '123', 'checkpoint_ns': '', 'checkpoint_id': '1f0a0e88-58e6-640c-8000-403ccd209100'}}, metadata={'source': 'loop', 'step': 0, 'parents': {}}, created_at='2025-10-04T06:08:18.204356+00:00', parent_config={'configurable': {'thread_id': '123', 'checkpoint_ns': '', 'checkpoint_id': '1f0a0e88-58e0-67e6-bfff-f602528f4dc1'}}, tasks=(PregelTask(id='052dbce5-1781-2485-86a9-807181d2dfa7', name='assistant', path=('__pregel_pull', 'assistant'), error=None, interrupts=(), state=None, result=None),), interrupts=())"
      ]
     },
     "execution_count": 16,
     "metadata": {},
     "output_type": "execute_result"
    }
   ],
   "source": [
    "graph.get_state(thread)"
   ]
  },
  {
   "cell_type": "code",
   "execution_count": 17,
   "id": "79a6d82d",
   "metadata": {},
   "outputs": [
    {
     "data": {
      "text/plain": [
       "<generator object Pregel.get_state_history at 0x125fc4720>"
      ]
     },
     "execution_count": 17,
     "metadata": {},
     "output_type": "execute_result"
    }
   ],
   "source": [
    "graph.get_state_history(thread)"
   ]
  },
  {
   "cell_type": "markdown",
   "id": "01d5b4bf",
   "metadata": {},
   "source": [
    "![to understant threads ](../images/img8.png)"
   ]
  },
  {
   "cell_type": "code",
   "execution_count": 18,
   "id": "e1df21ad",
   "metadata": {},
   "outputs": [
    {
     "name": "stdout",
     "output_type": "stream",
     "text": [
      "================================\u001b[1m Human Message \u001b[0m=================================\n",
      "\n",
      "Multiply 2 and 3\n",
      "==================================\u001b[1m Ai Message \u001b[0m==================================\n",
      "Tool Calls:\n",
      "  multiply (fc_64ee69f0-efb0-48e9-a52f-fee1c398a1d3)\n",
      " Call ID: fc_64ee69f0-efb0-48e9-a52f-fee1c398a1d3\n",
      "  Args:\n",
      "    a: 2\n",
      "    b: 3\n",
      "=================================\u001b[1m Tool Message \u001b[0m=================================\n",
      "Name: multiply\n",
      "\n",
      "6\n"
     ]
    }
   ],
   "source": [
    "for event in graph.stream(None,thread,stream_mode=\"values\"):\n",
    "    event['messages'][-1].pretty_print()"
   ]
  },
  {
   "cell_type": "code",
   "execution_count": 19,
   "id": "268c70fe",
   "metadata": {},
   "outputs": [],
   "source": [
    "state=graph.get_state(thread)"
   ]
  },
  {
   "cell_type": "code",
   "execution_count": 20,
   "id": "8b0e850f",
   "metadata": {},
   "outputs": [
    {
     "data": {
      "text/plain": [
       "('assistant',)"
      ]
     },
     "execution_count": 20,
     "metadata": {},
     "output_type": "execute_result"
    }
   ],
   "source": [
    "state.next"
   ]
  },
  {
   "cell_type": "code",
   "execution_count": 21,
   "id": "0cabd067",
   "metadata": {},
   "outputs": [
    {
     "name": "stdout",
     "output_type": "stream",
     "text": [
      "=================================\u001b[1m Tool Message \u001b[0m=================================\n",
      "Name: multiply\n",
      "\n",
      "6\n",
      "==================================\u001b[1m Ai Message \u001b[0m==================================\n",
      "\n",
      "6\n"
     ]
    }
   ],
   "source": [
    "for event in graph.stream(None,thread,stream_mode=\"values\"):\n",
    "    event['messages'][-1].pretty_print()"
   ]
  },
  {
   "cell_type": "markdown",
   "id": "165f3f9c",
   "metadata": {},
   "source": [
    "#### Edit human feedback"
   ]
  },
  {
   "cell_type": "code",
   "execution_count": 22,
   "id": "79276ef1",
   "metadata": {},
   "outputs": [
    {
     "name": "stdout",
     "output_type": "stream",
     "text": [
      "================================\u001b[1m Human Message \u001b[0m=================================\n",
      "\n",
      "Add 10 and 5\n"
     ]
    }
   ],
   "source": [
    "initial_input={\"messages\":HumanMessage(content=\"Add 10 and 5\")}\n",
    "\n",
    "thread={\"configurable\":{\"thread_id\":\"1\"}}\n",
    "\n",
    "for event in graph.stream(initial_input,thread,stream_mode=\"values\"):\n",
    "    event['messages'][-1].pretty_print()"
   ]
  },
  {
   "cell_type": "code",
   "execution_count": 23,
   "id": "65769e5e",
   "metadata": {},
   "outputs": [
    {
     "data": {
      "text/plain": [
       "('assistant',)"
      ]
     },
     "execution_count": 23,
     "metadata": {},
     "output_type": "execute_result"
    }
   ],
   "source": [
    "state=graph.get_state(thread)\n",
    "state.next"
   ]
  },
  {
   "cell_type": "code",
   "execution_count": 24,
   "id": "7e843c56",
   "metadata": {},
   "outputs": [
    {
     "data": {
      "text/plain": [
       "{'configurable': {'thread_id': '1',\n",
       "  'checkpoint_ns': '',\n",
       "  'checkpoint_id': '1f0a28dd-439a-62be-8001-80bf1d0971d2'}}"
      ]
     },
     "execution_count": 24,
     "metadata": {},
     "output_type": "execute_result"
    }
   ],
   "source": [
    "graph.update_state(thread,{\"messages\":[HumanMessage(content=\"no, please multiply 15 and 6\")]})"
   ]
  },
  {
   "cell_type": "code",
   "execution_count": 25,
   "id": "2c6ab9fc",
   "metadata": {},
   "outputs": [
    {
     "name": "stdout",
     "output_type": "stream",
     "text": [
      "================================\u001b[1m Human Message \u001b[0m=================================\n",
      "\n",
      "Add 10 and 5\n",
      "================================\u001b[1m Human Message \u001b[0m=================================\n",
      "\n",
      "no, please multiply 15 and 6\n"
     ]
    }
   ],
   "source": [
    "new_state=graph.get_state(thread).values\n",
    "\n",
    "for m in new_state['messages']:\n",
    "    m.pretty_print()"
   ]
  },
  {
   "cell_type": "code",
   "execution_count": 26,
   "id": "3e5f8dd1",
   "metadata": {},
   "outputs": [
    {
     "name": "stdout",
     "output_type": "stream",
     "text": [
      "================================\u001b[1m Human Message \u001b[0m=================================\n",
      "\n",
      "no, please multiply 15 and 6\n",
      "==================================\u001b[1m Ai Message \u001b[0m==================================\n",
      "Tool Calls:\n",
      "  multiply (fc_060823f7-737b-49f8-ae62-13589adc1f86)\n",
      " Call ID: fc_060823f7-737b-49f8-ae62-13589adc1f86\n",
      "  Args:\n",
      "    a: 15\n",
      "    b: 6\n",
      "=================================\u001b[1m Tool Message \u001b[0m=================================\n",
      "Name: multiply\n",
      "\n",
      "90\n"
     ]
    }
   ],
   "source": [
    "for event in graph.stream(None,thread,stream_mode=\"values\"):\n",
    "    event['messages'][-1].pretty_print()"
   ]
  },
  {
   "cell_type": "code",
   "execution_count": 27,
   "id": "b4dac4fb",
   "metadata": {},
   "outputs": [
    {
     "name": "stdout",
     "output_type": "stream",
     "text": [
      "=================================\u001b[1m Tool Message \u001b[0m=================================\n",
      "Name: multiply\n",
      "\n",
      "90\n",
      "==================================\u001b[1m Ai Message \u001b[0m==================================\n",
      "\n",
      "90\n"
     ]
    }
   ],
   "source": [
    "for event in graph.stream(None,thread,stream_mode=\"values\"):\n",
    "    event['messages'][-1].pretty_print()"
   ]
  },
  {
   "cell_type": "markdown",
   "id": "578e7c94",
   "metadata": {},
   "source": [
    "### Workflow will wait for the user input "
   ]
  },
  {
   "cell_type": "code",
   "execution_count": 31,
   "id": "e46eeb48",
   "metadata": {},
   "outputs": [],
   "source": [
    "sys_msg=SystemMessage(content=\"you are a helpful assistant tasked with performing arithmetic on a set of inputs. \")\n",
    "\n",
    "## human  feedback node \n",
    "\n",
    "def human_feedback(state:MessagesState):\n",
    "\n",
    "    pass \n",
    "\n",
    "## Assistant node \n",
    "\n",
    "def assistant(state:MessagesState):\n",
    "    return {\"messages\":[llm_with_tools.invoke([sys_msg]+state[\"messages\"])]}\n",
    "\n",
    "\n",
    "## Graph \n",
    "\n",
    "builder=StateGraph(MessagesState)\n",
    "\n",
    "# nodes \n",
    "builder.add_node(\"assistant\",assistant)\n",
    "builder.add_node(\"tools\",ToolNode(tools=tools))\n",
    "builder.add_node(\"human_feedback\",human_feedback)\n",
    "\n",
    "# edges \n",
    "\n",
    "builder.add_edge(START,\"human_feedback\")\n",
    "builder.add_edge('human_feedback',\"assistant\")\n",
    "builder.add_conditional_edges(\"assistant\",tools_condition)\n",
    "builder.add_edge(\"tools\",\"human_feedback\")\n",
    "builder.add_edge(\"assistant\",END)\n",
    "\n",
    "graph=builder.compile(interrupt_before=[\"human_feedback\"],checkpointer=memory)"
   ]
  },
  {
   "cell_type": "code",
   "execution_count": 32,
   "id": "0b076fb4",
   "metadata": {},
   "outputs": [
    {
     "data": {
      "image/png": "[encoded data removed]",
      "text/plain": [
       "<IPython.core.display.Image object>"
      ]
     },
     "metadata": {},
     "output_type": "display_data"
    }
   ],
   "source": [
    "display(Image(graph.get_graph().draw_mermaid_png()))"
   ]
  },
  {
   "cell_type": "code",
   "execution_count": 34,
   "id": "832f1d62",
   "metadata": {},
   "outputs": [
    {
     "name": "stdout",
     "output_type": "stream",
     "text": [
      "================================\u001b[1m Human Message \u001b[0m=================================\n",
      "\n",
      "Add 10 and 5\n",
      "================================\u001b[1m Human Message \u001b[0m=================================\n",
      "\n",
      "please add 10 and 12\n",
      "==================================\u001b[1m Ai Message \u001b[0m==================================\n",
      "Tool Calls:\n",
      "  add (fc_9e08baf3-c6d4-4828-8be9-7d3fe24c14ff)\n",
      " Call ID: fc_9e08baf3-c6d4-4828-8be9-7d3fe24c14ff\n",
      "  Args:\n",
      "    a: 10\n",
      "    b: 12\n",
      "=================================\u001b[1m Tool Message \u001b[0m=================================\n",
      "Name: add\n",
      "\n",
      "22\n"
     ]
    }
   ],
   "source": [
    "# input \n",
    "initial_input={\"messages\":HumanMessage(content=\"Add 10 and 5\")}\n",
    "# thread\n",
    "thread={\"configurable\":{\"thread_id\":\"2\"}}\n",
    "# run the graph until the first interruption\n",
    "for event in graph.stream(initial_input,thread,stream_mode=\"values\"):\n",
    "    event['messages'][-1].pretty_print()\n",
    "\n",
    "# get user input \n",
    "\n",
    "user_input=input(\"tell me how you want to update the state : \")\n",
    "graph.update_state(thread,{\"messages\":user_input},as_node=\"human_feedback\")\n",
    "\n",
    "# continue the graph execution \n",
    "for event in graph.stream(None, thread,stream_mode=\"values\"):\n",
    "    event[\"messages\"][-1].pretty_print()"
   ]
  },
  {
   "cell_type": "code",
   "execution_count": 35,
   "id": "292147f0",
   "metadata": {},
   "outputs": [
    {
     "name": "stdout",
     "output_type": "stream",
     "text": [
      "=================================\u001b[1m Tool Message \u001b[0m=================================\n",
      "Name: add\n",
      "\n",
      "22\n",
      "==================================\u001b[1m Ai Message \u001b[0m==================================\n",
      "\n",
      "The sum of 10 and 12 is **22**.\n"
     ]
    }
   ],
   "source": [
    "for event in graph.stream(None, thread,stream_mode=\"values\"):\n",
    "    event[\"messages\"][-1].pretty_print()"
   ]
  },
  {
   "cell_type": "code",
   "execution_count": null,
   "id": "0e7fab99",
   "metadata": {},
   "outputs": [],
   "source": []
  }
 ],
 "metadata": {
  "kernelspec": {
   "display_name": "Python 3",
   "language": "python",
   "name": "python3"
  },
  "language_info": {
   "codemirror_mode": {
    "name": "ipython",
    "version": 3
   },
   "file_extension": ".py",
   "mimetype": "text/x-python",
   "name": "python",
   "nbconvert_exporter": "python",
   "pygments_lexer": "ipython3",
   "version": "3.12.0"
  }
 },
 "nbformat": 4,
 "nbformat_minor": 5
}
