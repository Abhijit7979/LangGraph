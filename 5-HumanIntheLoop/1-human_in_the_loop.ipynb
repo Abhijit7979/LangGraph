{
 "cells": [
  {
   "cell_type": "markdown",
   "id": "44ce4df9",
   "metadata": {},
   "source": [
    "### Human in the loop \n",
    "\n",
    "Review for human in the loop, we often want to see our graph outputs as its running.\n",
    "\n",
    "we laid the foundations for this with streaming. \n",
    "\n",
    "Goals now , lets talk about the motivations for human in the loop:\n",
    "\n",
    "1. Approval : we can interrupt out agent, surface state to a user , and allow the user to accept an action\n",
    "\n",
    "2. debugging : we can rewind the graph to reproduce or avoid issues. \n",
    "\n",
    "3. editing : you can modify the state\n",
    "\n",
    "LangGraph offers several ways to get or update agent state to support various human in the loop workflows."
   ]
  },
  {
   "cell_type": "code",
   "execution_count": null,
   "id": "80f9f903",
   "metadata": {},
   "outputs": [],
   "source": [
    "import os "
   ]
  }
 ],
 "metadata": {
  "kernelspec": {
   "display_name": "Python 3",
   "language": "python",
   "name": "python3"
  },
  "language_info": {
   "name": "python",
   "version": "3.12.0"
  }
 },
 "nbformat": 4,
 "nbformat_minor": 5
}
