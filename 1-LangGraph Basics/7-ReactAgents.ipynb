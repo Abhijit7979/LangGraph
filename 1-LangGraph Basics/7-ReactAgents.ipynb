{
 "cells": [
  {
   "cell_type": "markdown",
   "id": "1e03b212",
   "metadata": {},
   "source": [
    "### ReAct Agent Architecture \n",
    "\n",
    "\n",
    "Aim \n",
    "\n",
    "This is the intuition behind ReAct, a general agent architecture.\n",
    "\n",
    "1. <b>act</b> - let the model call specific tools \n",
    "2. <b>observe</b> - pass the tool output back to the model.\n",
    "3. <b>reason</b> - let the model reason about the tool output to decide what to do next(eg. call another tool or just respond directly.)"
   ]
  },
  {
   "cell_type": "code",
   "execution_count": 13,
   "id": "a94ba613",
   "metadata": {},
   "outputs": [],
   "source": [
    "from langchain_community.tools import WikipediaQueryRun,ArxivQueryRun\n",
    "from langchain_community.utilities import WikipediaAPIWrapper,ArxivAPIWrapper\n",
    "from rich import print\n",
    "api_wrapper_wiki=WikipediaAPIWrapper(top_k_results=2)\n",
    "api_wrapper_arxiv=ArxivAPIWrapper(top_k_results=2)\n",
    "wiki=WikipediaQueryRun(api_wrapper=api_wrapper_wiki)\n",
    "arxiv=ArxivQueryRun(api_wrapper=api_wrapper_arxiv)"
   ]
  },
  {
   "cell_type": "code",
   "execution_count": 2,
   "id": "91a1e529",
   "metadata": {},
   "outputs": [
    {
     "name": "stdout",
     "output_type": "stream",
     "text": [
      "wikipedia arxiv\n"
     ]
    }
   ],
   "source": [
    "print(wiki.name,arxiv.name)"
   ]
  },
  {
   "cell_type": "code",
   "execution_count": 17,
   "id": "08d088f1",
   "metadata": {},
   "outputs": [],
   "source": [
    "import os\n",
    "from dotenv import load_dotenv\n",
    "load_dotenv(dotenv_path=\"../.env\")   \n",
    "\n",
    "os.environ[\"GROQ_API_KEY\"]=os.getenv(\"GROQ_API\")\n",
    "os.environ[\"TAVILY_API_KEY\"]=os.getenv(\"TAVILY_API_KEY\")\n",
    "os.environ[\"LANGCHAIN_API_KEY\"]=os.getenv(\"LANGCHAIN_API_KEY\")\n",
    "os.environ[\"LANGCHAIN_TRACKING_V2\"]=\"true\"\n",
    "os.environ[\"LANGCHAIN_PROJECT\"]=\"React-agent\""
   ]
  },
  {
   "cell_type": "code",
   "execution_count": 9,
   "id": "d4a613cc",
   "metadata": {},
   "outputs": [],
   "source": [
    "# custom functions for agent to use \n",
    "\n",
    "def multiply(a:int,b:int)->int:\n",
    "    \"\"\"Multiply a and b.\n",
    "    Args:\n",
    "        a (int): first number\n",
    "        b (int): second number \n",
    "    \"\"\"\n",
    "    return a * b\n",
    "\n",
    "# this will be a tool \n",
    "\n",
    "def add(a:int,b:int)->int:\n",
    "    \"\"\" Adds a and b\n",
    "\n",
    "    Args:\n",
    "    a:first int\n",
    "    b: second int  \n",
    "    \"\"\"\n",
    "\n",
    "    return a+b\n",
    "\n",
    "def divide(a:int,b:int)->int:\n",
    "    \"\"\" \n",
    "    Divide a and b\n",
    "\n",
    "    Args: \n",
    "    a: first int\n",
    "    b: second int\n",
    "    \"\"\"\n",
    "    return a/b \n",
    "\n",
    "\n",
    "tools=[arxiv,wiki,add,multiply,divide]"
   ]
  },
  {
   "cell_type": "code",
   "execution_count": 10,
   "id": "e72c1549",
   "metadata": {},
   "outputs": [
    {
     "name": "stderr",
     "output_type": "stream",
     "text": [
      "/var/folders/dd/ffn14k7x4bz7kmmd0l7kmqg80000gn/T/ipykernel_58635/3880125110.py:3: LangChainDeprecationWarning: The class `TavilySearchResults` was deprecated in LangChain 0.3.25 and will be removed in 1.0. An updated version of the class exists in the :class:`~langchain-tavily package and should be used instead. To use it run `pip install -U :class:`~langchain-tavily` and import as `from :class:`~langchain_tavily import TavilySearch``.\n",
      "  tavily=TavilySearchResults()\n"
     ]
    }
   ],
   "source": [
    "from langchain_community.tools.tavily_search import TavilySearchResults\n",
    "\n",
    "tavily=TavilySearchResults()"
   ]
  },
  {
   "cell_type": "code",
   "execution_count": 11,
   "id": "dc69c104",
   "metadata": {},
   "outputs": [],
   "source": [
    "tools.append(tavily)"
   ]
  },
  {
   "cell_type": "code",
   "execution_count": 14,
   "id": "829c04d6",
   "metadata": {},
   "outputs": [
    {
     "data": {
      "text/html": [
       "<pre style=\"white-space:pre;overflow-x:auto;line-height:normal;font-family:Menlo,'DejaVu Sans Mono',consolas,'Courier New',monospace\"><span style=\"font-weight: bold\">[</span>\n",
       "    <span style=\"color: #800080; text-decoration-color: #800080; font-weight: bold\">ArxivQueryRun</span><span style=\"font-weight: bold\">(</span>\n",
       "        <span style=\"color: #808000; text-decoration-color: #808000\">api_wrapper</span>=<span style=\"color: #800080; text-decoration-color: #800080; font-weight: bold\">ArxivAPIWrapper</span><span style=\"font-weight: bold\">(</span>\n",
       "            <span style=\"color: #808000; text-decoration-color: #808000\">arxiv_search</span>=<span style=\"font-weight: bold\">&lt;</span><span style=\"color: #ff00ff; text-decoration-color: #ff00ff; font-weight: bold\">class</span><span style=\"color: #000000; text-decoration-color: #000000\"> </span><span style=\"color: #008000; text-decoration-color: #008000\">'arxiv.Search'</span><span style=\"color: #000000; text-decoration-color: #000000\">&gt;,</span>\n",
       "<span style=\"color: #000000; text-decoration-color: #000000\">            </span><span style=\"color: #808000; text-decoration-color: #808000\">arxiv_exceptions</span><span style=\"color: #000000; text-decoration-color: #000000\">=</span><span style=\"color: #000000; text-decoration-color: #000000; font-weight: bold\">(</span>\n",
       "<span style=\"color: #000000; text-decoration-color: #000000\">                &lt;class </span><span style=\"color: #008000; text-decoration-color: #008000\">'arxiv.ArxivError'</span><span style=\"color: #000000; text-decoration-color: #000000\">&gt;,</span>\n",
       "<span style=\"color: #000000; text-decoration-color: #000000\">                &lt;class </span><span style=\"color: #008000; text-decoration-color: #008000\">'arxiv.UnexpectedEmptyPageError'</span><span style=\"color: #000000; text-decoration-color: #000000\">&gt;,</span>\n",
       "<span style=\"color: #000000; text-decoration-color: #000000\">                &lt;class </span><span style=\"color: #008000; text-decoration-color: #008000\">'arxiv.HTTPError'</span><span style=\"color: #000000; text-decoration-color: #000000\">&gt;</span>\n",
       "<span style=\"color: #000000; text-decoration-color: #000000\">            </span><span style=\"color: #000000; text-decoration-color: #000000; font-weight: bold\">)</span><span style=\"color: #000000; text-decoration-color: #000000\">,</span>\n",
       "<span style=\"color: #000000; text-decoration-color: #000000\">            </span><span style=\"color: #808000; text-decoration-color: #808000\">top_k_results</span><span style=\"color: #000000; text-decoration-color: #000000\">=</span><span style=\"color: #008080; text-decoration-color: #008080; font-weight: bold\">2</span><span style=\"color: #000000; text-decoration-color: #000000\">,</span>\n",
       "<span style=\"color: #000000; text-decoration-color: #000000\">            </span><span style=\"color: #808000; text-decoration-color: #808000\">ARXIV_MAX_QUERY_LENGTH</span><span style=\"color: #000000; text-decoration-color: #000000\">=</span><span style=\"color: #008080; text-decoration-color: #008080; font-weight: bold\">300</span><span style=\"color: #000000; text-decoration-color: #000000\">,</span>\n",
       "<span style=\"color: #000000; text-decoration-color: #000000\">            </span><span style=\"color: #808000; text-decoration-color: #808000\">continue_on_failure</span><span style=\"color: #000000; text-decoration-color: #000000\">=</span><span style=\"color: #ff0000; text-decoration-color: #ff0000; font-style: italic\">False</span><span style=\"color: #000000; text-decoration-color: #000000\">,</span>\n",
       "<span style=\"color: #000000; text-decoration-color: #000000\">            </span><span style=\"color: #808000; text-decoration-color: #808000\">load_max_docs</span><span style=\"color: #000000; text-decoration-color: #000000\">=</span><span style=\"color: #008080; text-decoration-color: #008080; font-weight: bold\">100</span><span style=\"color: #000000; text-decoration-color: #000000\">,</span>\n",
       "<span style=\"color: #000000; text-decoration-color: #000000\">            </span><span style=\"color: #808000; text-decoration-color: #808000\">load_all_available_meta</span><span style=\"color: #000000; text-decoration-color: #000000\">=</span><span style=\"color: #ff0000; text-decoration-color: #ff0000; font-style: italic\">False</span><span style=\"color: #000000; text-decoration-color: #000000\">,</span>\n",
       "<span style=\"color: #000000; text-decoration-color: #000000\">            </span><span style=\"color: #808000; text-decoration-color: #808000\">doc_content_chars_max</span><span style=\"color: #000000; text-decoration-color: #000000\">=</span><span style=\"color: #008080; text-decoration-color: #008080; font-weight: bold\">4000</span>\n",
       "<span style=\"color: #000000; text-decoration-color: #000000\">        </span><span style=\"color: #000000; text-decoration-color: #000000; font-weight: bold\">)</span>\n",
       "<span style=\"color: #000000; text-decoration-color: #000000\">    </span><span style=\"color: #000000; text-decoration-color: #000000; font-weight: bold\">)</span><span style=\"color: #000000; text-decoration-color: #000000\">,</span>\n",
       "<span style=\"color: #000000; text-decoration-color: #000000\">    </span><span style=\"color: #800080; text-decoration-color: #800080; font-weight: bold\">WikipediaQueryRun</span><span style=\"color: #000000; text-decoration-color: #000000; font-weight: bold\">(</span>\n",
       "<span style=\"color: #000000; text-decoration-color: #000000\">        </span><span style=\"color: #808000; text-decoration-color: #808000\">api_wrapper</span><span style=\"color: #000000; text-decoration-color: #000000\">=</span><span style=\"color: #800080; text-decoration-color: #800080; font-weight: bold\">WikipediaAPIWrapper</span><span style=\"color: #000000; text-decoration-color: #000000; font-weight: bold\">(</span>\n",
       "<span style=\"color: #000000; text-decoration-color: #000000\">            </span><span style=\"color: #808000; text-decoration-color: #808000\">wiki_client</span><span style=\"color: #000000; text-decoration-color: #000000\">=&lt;module </span><span style=\"color: #008000; text-decoration-color: #008000\">'wikipedia'</span><span style=\"color: #000000; text-decoration-color: #000000\"> from </span>\n",
       "<span style=\"color: #008000; text-decoration-color: #008000\">'/Users/abhi/Desktop/Agentic_ai/LangGraph/venv/lib/python3.12/site-packages/wikipedia/__init__.py'</span><span style=\"color: #000000; text-decoration-color: #000000\">&gt;,</span>\n",
       "<span style=\"color: #000000; text-decoration-color: #000000\">            </span><span style=\"color: #808000; text-decoration-color: #808000\">top_k_results</span><span style=\"color: #000000; text-decoration-color: #000000\">=</span><span style=\"color: #008080; text-decoration-color: #008080; font-weight: bold\">2</span><span style=\"color: #000000; text-decoration-color: #000000\">,</span>\n",
       "<span style=\"color: #000000; text-decoration-color: #000000\">            </span><span style=\"color: #808000; text-decoration-color: #808000\">lang</span><span style=\"color: #000000; text-decoration-color: #000000\">=</span><span style=\"color: #008000; text-decoration-color: #008000\">'en'</span><span style=\"color: #000000; text-decoration-color: #000000\">,</span>\n",
       "<span style=\"color: #000000; text-decoration-color: #000000\">            </span><span style=\"color: #808000; text-decoration-color: #808000\">load_all_available_meta</span><span style=\"color: #000000; text-decoration-color: #000000\">=</span><span style=\"color: #ff0000; text-decoration-color: #ff0000; font-style: italic\">False</span><span style=\"color: #000000; text-decoration-color: #000000\">,</span>\n",
       "<span style=\"color: #000000; text-decoration-color: #000000\">            </span><span style=\"color: #808000; text-decoration-color: #808000\">doc_content_chars_max</span><span style=\"color: #000000; text-decoration-color: #000000\">=</span><span style=\"color: #008080; text-decoration-color: #008080; font-weight: bold\">4000</span>\n",
       "<span style=\"color: #000000; text-decoration-color: #000000\">        </span><span style=\"color: #000000; text-decoration-color: #000000; font-weight: bold\">)</span>\n",
       "<span style=\"color: #000000; text-decoration-color: #000000\">    </span><span style=\"color: #000000; text-decoration-color: #000000; font-weight: bold\">)</span><span style=\"color: #000000; text-decoration-color: #000000\">,</span>\n",
       "<span style=\"color: #000000; text-decoration-color: #000000\">    &lt;function add at </span><span style=\"color: #008080; text-decoration-color: #008080; font-weight: bold\">0x11c20b4c0</span><span style=\"color: #000000; text-decoration-color: #000000\">&gt;,</span>\n",
       "<span style=\"color: #000000; text-decoration-color: #000000\">    &lt;function multiply at </span><span style=\"color: #008080; text-decoration-color: #008080; font-weight: bold\">0x11c20a8e0</span><span style=\"color: #000000; text-decoration-color: #000000\">&gt;,</span>\n",
       "<span style=\"color: #000000; text-decoration-color: #000000\">    &lt;function divide at </span><span style=\"color: #008080; text-decoration-color: #008080; font-weight: bold\">0x11c20ad40</span><span style=\"font-weight: bold\">&gt;</span>,\n",
       "    <span style=\"color: #800080; text-decoration-color: #800080; font-weight: bold\">TavilySearchResults</span><span style=\"font-weight: bold\">(</span><span style=\"color: #808000; text-decoration-color: #808000\">api_wrapper</span>=<span style=\"color: #800080; text-decoration-color: #800080; font-weight: bold\">TavilySearchAPIWrapper</span><span style=\"font-weight: bold\">(</span><span style=\"color: #808000; text-decoration-color: #808000\">tavily_api_key</span>=<span style=\"color: #800080; text-decoration-color: #800080; font-weight: bold\">SecretStr</span><span style=\"font-weight: bold\">(</span><span style=\"color: #008000; text-decoration-color: #008000\">'**********'</span><span style=\"font-weight: bold\">)))</span>\n",
       "<span style=\"font-weight: bold\">]</span>\n",
       "</pre>\n"
      ],
      "text/plain": [
       "\u001b[1m[\u001b[0m\n",
       "    \u001b[1;35mArxivQueryRun\u001b[0m\u001b[1m(\u001b[0m\n",
       "        \u001b[33mapi_wrapper\u001b[0m=\u001b[1;35mArxivAPIWrapper\u001b[0m\u001b[1m(\u001b[0m\n",
       "            \u001b[33marxiv_search\u001b[0m=\u001b[1m<\u001b[0m\u001b[1;95mclass\u001b[0m\u001b[39m \u001b[0m\u001b[32m'arxiv.Search'\u001b[0m\u001b[39m>,\u001b[0m\n",
       "\u001b[39m            \u001b[0m\u001b[33marxiv_exceptions\u001b[0m\u001b[39m=\u001b[0m\u001b[1;39m(\u001b[0m\n",
       "\u001b[39m                <class \u001b[0m\u001b[32m'arxiv.ArxivError'\u001b[0m\u001b[39m>,\u001b[0m\n",
       "\u001b[39m                <class \u001b[0m\u001b[32m'arxiv.UnexpectedEmptyPageError'\u001b[0m\u001b[39m>,\u001b[0m\n",
       "\u001b[39m                <class \u001b[0m\u001b[32m'arxiv.HTTPError'\u001b[0m\u001b[39m>\u001b[0m\n",
       "\u001b[39m            \u001b[0m\u001b[1;39m)\u001b[0m\u001b[39m,\u001b[0m\n",
       "\u001b[39m            \u001b[0m\u001b[33mtop_k_results\u001b[0m\u001b[39m=\u001b[0m\u001b[1;36m2\u001b[0m\u001b[39m,\u001b[0m\n",
       "\u001b[39m            \u001b[0m\u001b[33mARXIV_MAX_QUERY_LENGTH\u001b[0m\u001b[39m=\u001b[0m\u001b[1;36m300\u001b[0m\u001b[39m,\u001b[0m\n",
       "\u001b[39m            \u001b[0m\u001b[33mcontinue_on_failure\u001b[0m\u001b[39m=\u001b[0m\u001b[3;91mFalse\u001b[0m\u001b[39m,\u001b[0m\n",
       "\u001b[39m            \u001b[0m\u001b[33mload_max_docs\u001b[0m\u001b[39m=\u001b[0m\u001b[1;36m100\u001b[0m\u001b[39m,\u001b[0m\n",
       "\u001b[39m            \u001b[0m\u001b[33mload_all_available_meta\u001b[0m\u001b[39m=\u001b[0m\u001b[3;91mFalse\u001b[0m\u001b[39m,\u001b[0m\n",
       "\u001b[39m            \u001b[0m\u001b[33mdoc_content_chars_max\u001b[0m\u001b[39m=\u001b[0m\u001b[1;36m4000\u001b[0m\n",
       "\u001b[39m        \u001b[0m\u001b[1;39m)\u001b[0m\n",
       "\u001b[39m    \u001b[0m\u001b[1;39m)\u001b[0m\u001b[39m,\u001b[0m\n",
       "\u001b[39m    \u001b[0m\u001b[1;35mWikipediaQueryRun\u001b[0m\u001b[1;39m(\u001b[0m\n",
       "\u001b[39m        \u001b[0m\u001b[33mapi_wrapper\u001b[0m\u001b[39m=\u001b[0m\u001b[1;35mWikipediaAPIWrapper\u001b[0m\u001b[1;39m(\u001b[0m\n",
       "\u001b[39m            \u001b[0m\u001b[33mwiki_client\u001b[0m\u001b[39m=<module \u001b[0m\u001b[32m'wikipedia'\u001b[0m\u001b[39m from \u001b[0m\n",
       "\u001b[32m'/Users/abhi/Desktop/Agentic_ai/LangGraph/venv/lib/python3.12/site-packages/wikipedia/__init__.py'\u001b[0m\u001b[39m>,\u001b[0m\n",
       "\u001b[39m            \u001b[0m\u001b[33mtop_k_results\u001b[0m\u001b[39m=\u001b[0m\u001b[1;36m2\u001b[0m\u001b[39m,\u001b[0m\n",
       "\u001b[39m            \u001b[0m\u001b[33mlang\u001b[0m\u001b[39m=\u001b[0m\u001b[32m'en'\u001b[0m\u001b[39m,\u001b[0m\n",
       "\u001b[39m            \u001b[0m\u001b[33mload_all_available_meta\u001b[0m\u001b[39m=\u001b[0m\u001b[3;91mFalse\u001b[0m\u001b[39m,\u001b[0m\n",
       "\u001b[39m            \u001b[0m\u001b[33mdoc_content_chars_max\u001b[0m\u001b[39m=\u001b[0m\u001b[1;36m4000\u001b[0m\n",
       "\u001b[39m        \u001b[0m\u001b[1;39m)\u001b[0m\n",
       "\u001b[39m    \u001b[0m\u001b[1;39m)\u001b[0m\u001b[39m,\u001b[0m\n",
       "\u001b[39m    <function add at \u001b[0m\u001b[1;36m0x11c20b4c0\u001b[0m\u001b[39m>,\u001b[0m\n",
       "\u001b[39m    <function multiply at \u001b[0m\u001b[1;36m0x11c20a8e0\u001b[0m\u001b[39m>,\u001b[0m\n",
       "\u001b[39m    <function divide at \u001b[0m\u001b[1;36m0x11c20ad40\u001b[0m\u001b[1m>\u001b[0m,\n",
       "    \u001b[1;35mTavilySearchResults\u001b[0m\u001b[1m(\u001b[0m\u001b[33mapi_wrapper\u001b[0m=\u001b[1;35mTavilySearchAPIWrapper\u001b[0m\u001b[1m(\u001b[0m\u001b[33mtavily_api_key\u001b[0m=\u001b[1;35mSecretStr\u001b[0m\u001b[1m(\u001b[0m\u001b[32m'**********'\u001b[0m\u001b[1m)\u001b[0m\u001b[1m)\u001b[0m\u001b[1m)\u001b[0m\n",
       "\u001b[1m]\u001b[0m\n"
      ]
     },
     "metadata": {},
     "output_type": "display_data"
    }
   ],
   "source": [
    "print(tools)"
   ]
  },
  {
   "cell_type": "code",
   "execution_count": 19,
   "id": "2044cc8d",
   "metadata": {},
   "outputs": [
    {
     "name": "stderr",
     "output_type": "stream",
     "text": [
      "/var/folders/dd/ffn14k7x4bz7kmmd0l7kmqg80000gn/T/ipykernel_58635/3616102039.py:5: LangChainDeprecationWarning: The method `ChatGroq.bind_functions` was deprecated in langchain-groq 0.2.1 and will be removed in 1.0.0. Use :meth:`~langchain_groq.chat_models.ChatGroq.bind_tools` instead.\n",
      "  llm_with_tools=llm.bind_functions(tools)\n"
     ]
    }
   ],
   "source": [
    "from langchain_groq import ChatGroq\n",
    "\n",
    "llm=ChatGroq(model=\"openai/gpt-oss-120b\")\n",
    "\n",
    "llm_with_tools=llm.bind_functions(tools)"
   ]
  },
  {
   "cell_type": "code",
   "execution_count": 21,
   "id": "ca0e3eab",
   "metadata": {},
   "outputs": [
    {
     "data": {
      "text/html": [
       "<pre style=\"white-space:pre;overflow-x:auto;line-height:normal;font-family:Menlo,'DejaVu Sans Mono',consolas,'Courier New',monospace\"><span style=\"color: #800080; text-decoration-color: #800080; font-weight: bold\">AIMessage</span><span style=\"font-weight: bold\">(</span>\n",
       "    <span style=\"color: #808000; text-decoration-color: #808000\">content</span>=<span style=\"color: #008000; text-decoration-color: #008000\">''</span>,\n",
       "    <span style=\"color: #808000; text-decoration-color: #808000\">additional_kwargs</span>=<span style=\"font-weight: bold\">{</span>\n",
       "        <span style=\"color: #008000; text-decoration-color: #008000\">'reasoning_content'</span>: <span style=\"color: #008000; text-decoration-color: #008000\">'The user asks: \"What is the recent ai news\". Likely they want a summary of recent AI </span>\n",
       "<span style=\"color: #008000; text-decoration-color: #008000\">news. Need up-to-date info. Use web search. Use tavily_search_results_json for recent AI news.'</span>,\n",
       "        <span style=\"color: #008000; text-decoration-color: #008000\">'tool_calls'</span>: <span style=\"font-weight: bold\">[</span>\n",
       "            <span style=\"font-weight: bold\">{</span>\n",
       "                <span style=\"color: #008000; text-decoration-color: #008000\">'id'</span>: <span style=\"color: #008000; text-decoration-color: #008000\">'fc_000d65a0-5347-45c0-b66f-8237fcf66ffa'</span>,\n",
       "                <span style=\"color: #008000; text-decoration-color: #008000\">'function'</span>: <span style=\"font-weight: bold\">{</span>\n",
       "                    <span style=\"color: #008000; text-decoration-color: #008000\">'arguments'</span>: <span style=\"color: #008000; text-decoration-color: #008000\">'{\"query\":\"latest AI news September 2025\"}'</span>,\n",
       "                    <span style=\"color: #008000; text-decoration-color: #008000\">'name'</span>: <span style=\"color: #008000; text-decoration-color: #008000\">'tavily_search_results_json'</span>\n",
       "                <span style=\"font-weight: bold\">}</span>,\n",
       "                <span style=\"color: #008000; text-decoration-color: #008000\">'type'</span>: <span style=\"color: #008000; text-decoration-color: #008000\">'function'</span>\n",
       "            <span style=\"font-weight: bold\">}</span>\n",
       "        <span style=\"font-weight: bold\">]</span>\n",
       "    <span style=\"font-weight: bold\">}</span>,\n",
       "    <span style=\"color: #808000; text-decoration-color: #808000\">response_metadata</span>=<span style=\"font-weight: bold\">{</span>\n",
       "        <span style=\"color: #008000; text-decoration-color: #008000\">'token_usage'</span>: <span style=\"font-weight: bold\">{</span>\n",
       "            <span style=\"color: #008000; text-decoration-color: #008000\">'completion_tokens'</span>: <span style=\"color: #008080; text-decoration-color: #008080; font-weight: bold\">82</span>,\n",
       "            <span style=\"color: #008000; text-decoration-color: #008000\">'prompt_tokens'</span>: <span style=\"color: #008080; text-decoration-color: #008080; font-weight: bold\">391</span>,\n",
       "            <span style=\"color: #008000; text-decoration-color: #008000\">'total_tokens'</span>: <span style=\"color: #008080; text-decoration-color: #008080; font-weight: bold\">473</span>,\n",
       "            <span style=\"color: #008000; text-decoration-color: #008000\">'completion_time'</span>: <span style=\"color: #008080; text-decoration-color: #008080; font-weight: bold\">0.162712006</span>,\n",
       "            <span style=\"color: #008000; text-decoration-color: #008000\">'prompt_time'</span>: <span style=\"color: #008080; text-decoration-color: #008080; font-weight: bold\">0.017674902</span>,\n",
       "            <span style=\"color: #008000; text-decoration-color: #008000\">'queue_time'</span>: <span style=\"color: #008080; text-decoration-color: #008080; font-weight: bold\">0.053506798</span>,\n",
       "            <span style=\"color: #008000; text-decoration-color: #008000\">'total_time'</span>: <span style=\"color: #008080; text-decoration-color: #008080; font-weight: bold\">0.180386908</span>\n",
       "        <span style=\"font-weight: bold\">}</span>,\n",
       "        <span style=\"color: #008000; text-decoration-color: #008000\">'model_name'</span>: <span style=\"color: #008000; text-decoration-color: #008000\">'openai/gpt-oss-120b'</span>,\n",
       "        <span style=\"color: #008000; text-decoration-color: #008000\">'system_fingerprint'</span>: <span style=\"color: #008000; text-decoration-color: #008000\">'fp_3a688838c3'</span>,\n",
       "        <span style=\"color: #008000; text-decoration-color: #008000\">'service_tier'</span>: <span style=\"color: #008000; text-decoration-color: #008000\">'on_demand'</span>,\n",
       "        <span style=\"color: #008000; text-decoration-color: #008000\">'finish_reason'</span>: <span style=\"color: #008000; text-decoration-color: #008000\">'tool_calls'</span>,\n",
       "        <span style=\"color: #008000; text-decoration-color: #008000\">'logprobs'</span>: <span style=\"color: #800080; text-decoration-color: #800080; font-style: italic\">None</span>\n",
       "    <span style=\"font-weight: bold\">}</span>,\n",
       "    <span style=\"color: #808000; text-decoration-color: #808000\">id</span>=<span style=\"color: #008000; text-decoration-color: #008000\">'run--aeaa64e1-e1bc-4bbc-9086-aba7337f2ae9-0'</span>,\n",
       "    <span style=\"color: #808000; text-decoration-color: #808000\">tool_calls</span>=<span style=\"font-weight: bold\">[</span>\n",
       "        <span style=\"font-weight: bold\">{</span>\n",
       "            <span style=\"color: #008000; text-decoration-color: #008000\">'name'</span>: <span style=\"color: #008000; text-decoration-color: #008000\">'tavily_search_results_json'</span>,\n",
       "            <span style=\"color: #008000; text-decoration-color: #008000\">'args'</span>: <span style=\"font-weight: bold\">{</span><span style=\"color: #008000; text-decoration-color: #008000\">'query'</span>: <span style=\"color: #008000; text-decoration-color: #008000\">'latest AI news September 2025'</span><span style=\"font-weight: bold\">}</span>,\n",
       "            <span style=\"color: #008000; text-decoration-color: #008000\">'id'</span>: <span style=\"color: #008000; text-decoration-color: #008000\">'fc_000d65a0-5347-45c0-b66f-8237fcf66ffa'</span>,\n",
       "            <span style=\"color: #008000; text-decoration-color: #008000\">'type'</span>: <span style=\"color: #008000; text-decoration-color: #008000\">'tool_call'</span>\n",
       "        <span style=\"font-weight: bold\">}</span>\n",
       "    <span style=\"font-weight: bold\">]</span>,\n",
       "    <span style=\"color: #808000; text-decoration-color: #808000\">usage_metadata</span>=<span style=\"font-weight: bold\">{</span><span style=\"color: #008000; text-decoration-color: #008000\">'input_tokens'</span>: <span style=\"color: #008080; text-decoration-color: #008080; font-weight: bold\">391</span>, <span style=\"color: #008000; text-decoration-color: #008000\">'output_tokens'</span>: <span style=\"color: #008080; text-decoration-color: #008080; font-weight: bold\">82</span>, <span style=\"color: #008000; text-decoration-color: #008000\">'total_tokens'</span>: <span style=\"color: #008080; text-decoration-color: #008080; font-weight: bold\">473</span><span style=\"font-weight: bold\">}</span>\n",
       "<span style=\"font-weight: bold\">)</span>\n",
       "</pre>\n"
      ],
      "text/plain": [
       "\u001b[1;35mAIMessage\u001b[0m\u001b[1m(\u001b[0m\n",
       "    \u001b[33mcontent\u001b[0m=\u001b[32m''\u001b[0m,\n",
       "    \u001b[33madditional_kwargs\u001b[0m=\u001b[1m{\u001b[0m\n",
       "        \u001b[32m'reasoning_content'\u001b[0m: \u001b[32m'The user asks: \"What is the recent ai news\". Likely they want a summary of recent AI \u001b[0m\n",
       "\u001b[32mnews. Need up-to-date info. Use web search. Use tavily_search_results_json for recent AI news.'\u001b[0m,\n",
       "        \u001b[32m'tool_calls'\u001b[0m: \u001b[1m[\u001b[0m\n",
       "            \u001b[1m{\u001b[0m\n",
       "                \u001b[32m'id'\u001b[0m: \u001b[32m'fc_000d65a0-5347-45c0-b66f-8237fcf66ffa'\u001b[0m,\n",
       "                \u001b[32m'function'\u001b[0m: \u001b[1m{\u001b[0m\n",
       "                    \u001b[32m'arguments'\u001b[0m: \u001b[32m'\u001b[0m\u001b[32m{\u001b[0m\u001b[32m\"query\":\"latest AI news September 2025\"\u001b[0m\u001b[32m}\u001b[0m\u001b[32m'\u001b[0m,\n",
       "                    \u001b[32m'name'\u001b[0m: \u001b[32m'tavily_search_results_json'\u001b[0m\n",
       "                \u001b[1m}\u001b[0m,\n",
       "                \u001b[32m'type'\u001b[0m: \u001b[32m'function'\u001b[0m\n",
       "            \u001b[1m}\u001b[0m\n",
       "        \u001b[1m]\u001b[0m\n",
       "    \u001b[1m}\u001b[0m,\n",
       "    \u001b[33mresponse_metadata\u001b[0m=\u001b[1m{\u001b[0m\n",
       "        \u001b[32m'token_usage'\u001b[0m: \u001b[1m{\u001b[0m\n",
       "            \u001b[32m'completion_tokens'\u001b[0m: \u001b[1;36m82\u001b[0m,\n",
       "            \u001b[32m'prompt_tokens'\u001b[0m: \u001b[1;36m391\u001b[0m,\n",
       "            \u001b[32m'total_tokens'\u001b[0m: \u001b[1;36m473\u001b[0m,\n",
       "            \u001b[32m'completion_time'\u001b[0m: \u001b[1;36m0.162712006\u001b[0m,\n",
       "            \u001b[32m'prompt_time'\u001b[0m: \u001b[1;36m0.017674902\u001b[0m,\n",
       "            \u001b[32m'queue_time'\u001b[0m: \u001b[1;36m0.053506798\u001b[0m,\n",
       "            \u001b[32m'total_time'\u001b[0m: \u001b[1;36m0.180386908\u001b[0m\n",
       "        \u001b[1m}\u001b[0m,\n",
       "        \u001b[32m'model_name'\u001b[0m: \u001b[32m'openai/gpt-oss-120b'\u001b[0m,\n",
       "        \u001b[32m'system_fingerprint'\u001b[0m: \u001b[32m'fp_3a688838c3'\u001b[0m,\n",
       "        \u001b[32m'service_tier'\u001b[0m: \u001b[32m'on_demand'\u001b[0m,\n",
       "        \u001b[32m'finish_reason'\u001b[0m: \u001b[32m'tool_calls'\u001b[0m,\n",
       "        \u001b[32m'logprobs'\u001b[0m: \u001b[3;35mNone\u001b[0m\n",
       "    \u001b[1m}\u001b[0m,\n",
       "    \u001b[33mid\u001b[0m=\u001b[32m'run--aeaa64e1-e1bc-4bbc-9086-aba7337f2ae9-0'\u001b[0m,\n",
       "    \u001b[33mtool_calls\u001b[0m=\u001b[1m[\u001b[0m\n",
       "        \u001b[1m{\u001b[0m\n",
       "            \u001b[32m'name'\u001b[0m: \u001b[32m'tavily_search_results_json'\u001b[0m,\n",
       "            \u001b[32m'args'\u001b[0m: \u001b[1m{\u001b[0m\u001b[32m'query'\u001b[0m: \u001b[32m'latest AI news September 2025'\u001b[0m\u001b[1m}\u001b[0m,\n",
       "            \u001b[32m'id'\u001b[0m: \u001b[32m'fc_000d65a0-5347-45c0-b66f-8237fcf66ffa'\u001b[0m,\n",
       "            \u001b[32m'type'\u001b[0m: \u001b[32m'tool_call'\u001b[0m\n",
       "        \u001b[1m}\u001b[0m\n",
       "    \u001b[1m]\u001b[0m,\n",
       "    \u001b[33musage_metadata\u001b[0m=\u001b[1m{\u001b[0m\u001b[32m'input_tokens'\u001b[0m: \u001b[1;36m391\u001b[0m, \u001b[32m'output_tokens'\u001b[0m: \u001b[1;36m82\u001b[0m, \u001b[32m'total_tokens'\u001b[0m: \u001b[1;36m473\u001b[0m\u001b[1m}\u001b[0m\n",
       "\u001b[1m)\u001b[0m\n"
      ]
     },
     "metadata": {},
     "output_type": "display_data"
    }
   ],
   "source": [
    "from pprint import pprint\n",
    "from langchain_core.messages import AIMessage,HumanMessage\n",
    "\n",
    "print(llm_with_tools.invoke([HumanMessage(content=f\"What is the recent ai news\")]))"
   ]
  },
  {
   "cell_type": "code",
   "execution_count": null,
   "id": "e6e957f6",
   "metadata": {},
   "outputs": [],
   "source": [
    "from typing_extensions import TypedDict\n",
    "from typing import Annotated\n",
    "from langchain_core.messages import AnyMessage\n",
    "from langgraph.graph.message import add_messages\n",
    "\n",
    "# state schema \n",
    "class state(TypedDict):\n",
    "    messages:Annotated[list[AnyMessage],add_messages]"
   ]
  },
  {
   "cell_type": "code",
   "execution_count": 26,
   "id": "d5eee33f",
   "metadata": {},
   "outputs": [],
   "source": [
    "from IPython.display import display,Image\n",
    "from langgraph.graph import START,END,StateGraph\n",
    "from langgraph.prebuilt import ToolNode,tools_condition\n"
   ]
  },
  {
   "cell_type": "code",
   "execution_count": 24,
   "id": "8931ecbf",
   "metadata": {},
   "outputs": [],
   "source": [
    "def llm_tools(state:state):\n",
    "    return {\"messages\":llm_with_tools.invoke(state[\"messages\"])}"
   ]
  },
  {
   "cell_type": "code",
   "execution_count": 27,
   "id": "e6123eb7",
   "metadata": {},
   "outputs": [
    {
     "data": {
      "text/plain": [
       "<langgraph.graph.state.StateGraph at 0x11f8ec6b0>"
      ]
     },
     "execution_count": 27,
     "metadata": {},
     "output_type": "execute_result"
    }
   ],
   "source": [
    "# lets build graph \n",
    "\n",
    "# lets add nodes \n",
    "builder=StateGraph(state)\n",
    "builder.add_node(\"llm_tools\",llm_tools)\n",
    "builder.add_node(\"tools\",ToolNode(tools))\n",
    "\n",
    "# lets add edges \n",
    "\n",
    "builder.add_edge(START,\"llm_tools\")\n",
    "builder.add_conditional_edges(\"llm_tools\",tools_condition)\n",
    "builder.add_edge('tools',\"llm_tools\")\n",
    "builder.add_edge(\"llm_tools\",END)\n"
   ]
  },
  {
   "cell_type": "code",
   "execution_count": 28,
   "id": "d798bc39",
   "metadata": {},
   "outputs": [],
   "source": [
    "graph=builder.compile()"
   ]
  },
  {
   "cell_type": "code",
   "execution_count": 29,
   "id": "d87f4a83",
   "metadata": {},
   "outputs": [
    {
     "data": {
      "image/png": "[encoded data removed]",
      "text/plain": [
       "<IPython.core.display.Image object>"
      ]
     },
     "metadata": {},
     "output_type": "display_data"
    }
   ],
   "source": [
    "display(Image(graph.get_graph().draw_mermaid_png()))"
   ]
  },
  {
   "cell_type": "code",
   "execution_count": 31,
   "id": "1aa9dbcc",
   "metadata": {},
   "outputs": [
    {
     "name": "stdout",
     "output_type": "stream",
     "text": [
      "================================\u001b[1m Human Message \u001b[0m=================================\n",
      "\n",
      "provide me the top 5 recent ai news , add 5 plus 5 and then multiply by 10.\n",
      "==================================\u001b[1m Ai Message \u001b[0m==================================\n",
      "Tool Calls:\n",
      "  add (fc_c5e941d7-60ae-4369-a393-578d67c03ef8)\n",
      " Call ID: fc_c5e941d7-60ae-4369-a393-578d67c03ef8\n",
      "  Args:\n",
      "    a: 5\n",
      "    b: 5\n",
      "=================================\u001b[1m Tool Message \u001b[0m=================================\n",
      "Name: add\n",
      "\n",
      "10\n",
      "==================================\u001b[1m Ai Message \u001b[0m==================================\n",
      "Tool Calls:\n",
      "  multiply (fc_55946858-8d6e-4f80-9d5d-56c39e9c9928)\n",
      " Call ID: fc_55946858-8d6e-4f80-9d5d-56c39e9c9928\n",
      "  Args:\n",
      "    a: 10\n",
      "    b: 10\n",
      "=================================\u001b[1m Tool Message \u001b[0m=================================\n",
      "Name: multiply\n",
      "\n",
      "100\n",
      "==================================\u001b[1m Ai Message \u001b[0m==================================\n",
      "Tool Calls:\n",
      "  tavily_search_results_json (fc_241d9f97-5c66-4712-bdb8-ee54e883cc76)\n",
      " Call ID: fc_241d9f97-5c66-4712-bdb8-ee54e883cc76\n",
      "  Args:\n",
      "    query: latest AI news September 2025 top AI news\n",
      "=================================\u001b[1m Tool Message \u001b[0m=================================\n",
      "Name: tavily_search_results_json\n",
      "\n",
      "[{\"title\": \"AI News Briefs BULLETIN BOARD for September 2025\", \"url\": \"https://radicaldatascience.wordpress.com/2025/09/10/ai-news-briefs-bulletin-board-for-september-2025/\", \"content\": \"[9/10/2025] Microsoft to lessen reliance on OpenAI by buying AI from rival Anthropic – Claude will be integrated into Office 365 apps, ending Microsoft’s exclusive reliance on OpenAI. OpenAI has continued to put strain on its relationship with Microsoft by announcing competitive products, including an AI-powered LinkedIn rival and custom chips built by Broadcom. [...] [9/2/2025] Asta: Accelerating science through trustworthy agentic AI – Scientific research grows more logistically complex by the day. Scientists have to juggle navigating vast bodies of literature, running experiments, analyzing data, and iterating—quickly. Making matters worse, fragmented tools and unintuitive workflows can easily lead to missed relevant findings, hamstringing the discovery process. [...] [9/4/2025] Mistral, the French AI giant, is reportedly on the cusp of securing a $14B valuation – Mistral AI is finalizing a €2 billion investment that will boost its valuation to $14 billion. Founded by ex-DeepMind and Meta researchers, it develops open-source language models and the European AI chatbot Le Chat. This marks Mistral’s first major fundraising since June 2024.\", \"score\": 0.92142147}, {\"title\": \"AI News September 6 2025, 23 Breakthroughs You Need Now\", \"url\": \"https://binaryverseai.com/ai-news-september-6-2025/\", \"content\": \"## 15. Broadcom Pops On A 10B Mystery AI Order\\n\\nBroadcom’s quarter beat on revenue and earnings, then a new 10 billion dollar custom accelerator order dropped into guidance. The stock jumped. AI revenue climbed fast and management lifted the outlook again. A fourth hyperscale customer is buying XPUs at production scale with shipments ramping in 2026. The networking business that stitches clusters together is growing with it. The VMware software piece keeps cash flow strong. [...] Here’s your map of the terrain in AI news September 6 2025. Twenty three stories. Each one sharp, compact, and anchored in how the change shows up in real life. Read on, then pass it to the one teammate who still believes they can catch up tomorrow.\\n\\n## Table of Contents\\n\\n## 1. OpenAI, Branch Chats, Projects For All, Codex Everywhere [...] Shelton Vision is taking fabric inspection from rules to learned recognition. Above 98 percent defect detection and near perfect grading on tests point to fewer misses and fewer false alarms. Mills get consistent labels, tighter process controls, faster audits, and better cut plans that protect yield. The second act is a stand alone AI classifier that drops into legacy inspection rigs. It brings consistency where operators used to disagree.\", \"score\": 0.89302075}, {\"title\": \"AI Update, September 12, 2025: AI News and Views From the Past ...\", \"url\": \"https://www.marketingprofs.com/opinions/2025/53682/ai-update-september-12-2025-ai-news-and-views-from-the-past-week\", \"content\": \"AI reshapes call centers but complex cases still need humans. AI is increasingly taking over call center tasks, with companies like Klarna replacing hundreds of agents. While AI cuts costs and handles routine inquiries, complex cases like identity theft still require skilled human agents. Firms are moving toward hybrid models with fewer but better-trained staff. Bank of America's \\\"Erica\\\" chatbot, now used 3 billion times, exemplifies AI's growing role. Importance for marketers: Customer [...] OpenAI to launch AI jobs platform and certification program. OpenAI announced plans for a jobs platform connecting AI-skilled workers with employers, plus a certification program developed with Walmart to train staff in AI applications. The goal is to certify 10 million Americans by 2030. Presented at a White House meeting, the initiative positions OpenAI against platforms like LinkedIn. Early use cases include staff scheduling and supply chain optimization. Importance for marketers: This could [...] ASML invests $1.5B in French AI startup Mistral. Dutch chipmaking giant ASML invested €1.3 billion ($1.5B) in Mistral AI, taking an 11% stake. The partnership aims to strengthen Europe's AI ecosystem and reduce reliance on US tech. Nvidia also joined the funding round. Importance for marketers: While primarily a tech supply chain story, it underscores Europe's push for AI independence, which may impact regulatory and market dynamics.\", \"score\": 0.8576849}, {\"title\": \"25 Tech News and AI Developments This Week In September 2025\", \"url\": \"https://vavoza.com/25-tech-news-and-ai-developments-this-week-in-september-2025-vz5/\", \"content\": \"Picture of Vavoza Team\\n\\n# 25 Tech News and AI Developments This Week In September 2025\\n\\nHere are the latest 25 technology news, AI developments, and business announcements that happened this week in September 2025:\\n\\n## This Week’s Tech News and AI Developments\\n\\nai-artificial-intelligence-technology-microchip\\n\\n## This Week’s Trending AI Tools\\n\\nYou may also want to check out some of our other recent updates. [...] Woman with Glasses and Neon Lights Photo\\n\\n### What’s Going Viral? 30 Content Trends Shaping September 2025\\n\\nHelmet of a futuristic businessman office background, Generative AI.\\n\\n### 25 Tech News and AI Developments This Week In September 2025\\n\\nHappy,Young,Woman,Stands,On,Street,With,Backpack,And,Smartphone,\\n\\n### Friend Zone By Thundercat: Trending TikTok Song\\n\\nAttractive young woman with blonde hair smiles at the camera while sitting at a table in a brightly lit bar, working on a laptop. [...] Wanna Know What’s  \\nTrending Online?\\n\\nSubscribe to access the latest business and marketing insights, news, and trends daily!\", \"score\": 0.8533396}, {\"title\": \"FTC Launches Inquiry into AI Chatbots Acting as Companions\", \"url\": \"https://www.ftc.gov/news-events/news/press-releases/2025/09/ftc-launches-inquiry-ai-chatbots-acting-companions\", \"content\": \"### Looking for competition guidance?\\n\\nCompetition Guidance\\n\\n## News and Events\\n\\n## Latest News\\n\\n### FTC Launches Inquiry into AI Chatbots Acting as Companions\\n\\nView News and Events\\n\\n## Upcoming Event\\n\\n### Closed Commission Meeting - September 17, 2025\\n\\nView more Events\\n\\n## Sections\\n\\nSign up for the latest news\\n\\n## Follow us on social media\\n\\n## Feature\\n\\ngaming controller illustration\\n\\n### Playing it Safe: Explore the FTC's Top Video Game Cases [...] Looking for legal documents or records? Search the Legal Library instead.\\n\\n## Breadcrumb\\n\\n# FTC Launches Inquiry into AI Chatbots Acting as Companions\\n\\nFacebook\\nTwitter\\nLinkedIn\\n\\nTags:\\n\\nThe Federal Trade Commission is issuing orders to seven companies that provide consumer-facing AI-powered chatbots seeking information on how these firms measure, test, and monitor potentially negative impacts of this technology on children and teens. [...] The FTC is issuing the orders using its 6(b) authority, which authorizes the Commission to conduct wide-ranging studies that do not have a specific law enforcement purpose. The recipients include:\\n\\nThe FTC is interested in particular on the impact of these chatbots on children and what actions companies are taking to mitigate potential negative impacts, limit or restrict children’s or teens’ use of these platforms, or comply with the Children’s Online Privacy Protection Act Rule.\", \"score\": 0.69697046}]\n",
      "==================================\u001b[1m Ai Message \u001b[0m==================================\n",
      "\n",
      "**Top 5 Recent AI News (September 2025)**  \n",
      "\n",
      "| # | Headline & Source | Key Points (why it matters) |\n",
      "|---|-------------------|------------------------------|\n",
      "| **1** | **Microsoft to lessen reliance on OpenAI by buying AI from Anthropic** – *Radical Data Science* (9 Oct 2025) | • Microsoft will integrate Anthropic’s Claude into Office 365, reducing its exclusive dependence on OpenAI.<br>• Signals a shift toward a more diversified AI‑partner ecosystem for enterprise software.<br>• Highlights competitive tension as OpenAI rolls out its own LinkedIn‑style product and custom Broadcom chips. |\n",
      "| **2** | **Mistral AI nearing a $14 B valuation after €2 B funding round** – *Radical Data Science* (9 Apr 2025) | • French AI startup Mistral, founded by ex‑DeepMind/Meta researchers, secures a massive round that pushes its valuation to $14 B.<br>• The round includes investors like Nvidia and ASML (see story 3), underscoring Europe’s drive for AI independence.<br>• Mistral’s open‑source language models and the European chatbot “Le Chat” are gaining traction. |\n",
      "| **3** | **ASML invests $1.5 B in French AI startup Mistral** – *MarketingProfs* (12 Sep 2025) | • Dutch chip‑maker ASML takes an 11 % stake in Mistral, investing €1.3 B (≈$1.5 B).<br>• Partnership aims to embed advanced AI models directly into semiconductor design and manufacturing tools, strengthening Europe’s AI‑chip supply chain.<br>• Nvidia also participated, showing broad industry confidence in Mistral’s technology. |\n",
      "| **4** | **FTC launches inquiry into AI chatbots acting as companions** – *Federal Trade Commission* (17 Sep 2025) | • The FTC is probing seven firms that provide consumer‑facing AI chatbots for potential harms to children and teens.<br>• Focus on compliance with the Children’s Online Privacy Protection Act (COPPA) and on safeguards against manipulation or unsafe content.<br>‑ Sets a regulatory precedent that could affect how companies design and market “companion” AI products. |\n",
      "| **5** | **Broadcom lands a $10 B custom AI accelerator order** – *Binaryverse AI* (6 Sep 2025) | • Broadcom announced a secretive $10 B order for custom AI accelerators (XPUs) from a hyperscale customer, with shipments slated for 2026.<br>• Demonstrates the escalating demand for specialized AI hardware as generative models grow larger and more compute‑intensive.<br>• Highlights the rapid scaling of AI infrastructure beyond the traditional GPU market. |\n",
      "\n",
      "**Why these stories matter:**  \n",
      "- **Strategic diversification** (Microsoft‑Anthropic) shows major cloud players hedging against a single AI supplier.  \n",
      "- **European AI sovereignty** (Mistral’s valuation & ASML investment) reflects a concerted effort to build home‑grown AI talent and models.  \n",
      "- **Regulatory scrutiny** (FTC inquiry) may reshape product design, data‑privacy practices, and marketing of consumer‑facing AI.  \n",
      "- **Hardware acceleration boom** (Broadcom’s order) underscores the growing importance of custom silicon for next‑gen AI workloads.\n",
      "\n",
      "---\n",
      "\n",
      "### Arithmetic Result  \n",
      "\n",
      "You asked to **add 5 + 5 and then multiply by 10**.  \n",
      "\n",
      "\\[\n",
      "5 + 5 = 10 \\\\\n",
      "10 \\times 10 = \\boxed{100}\n",
      "\\]\n",
      "\n",
      "So the final numeric answer is **100**.\n"
     ]
    }
   ],
   "source": [
    "from pprint import pprint\n",
    "messages=graph.invoke({\"messages\":HumanMessage(content=\"provide me the top 5 recent ai news , add 5 plus 5 and then multiply by 10.\")})\n",
    "\n",
    "for i in messages['messages']:\n",
    "    i.pretty_print()"
   ]
  },
  {
   "cell_type": "code",
   "execution_count": null,
   "id": "1dc80a44",
   "metadata": {},
   "outputs": [],
   "source": []
  }
 ],
 "metadata": {
  "kernelspec": {
   "display_name": "Python 3",
   "language": "python",
   "name": "python3"
  },
  "language_info": {
   "codemirror_mode": {
    "name": "ipython",
    "version": 3
   },
   "file_extension": ".py",
   "mimetype": "text/x-python",
   "name": "python",
   "nbconvert_exporter": "python",
   "pygments_lexer": "ipython3",
   "version": "3.12.0"
  }
 },
 "nbformat": 4,
 "nbformat_minor": 5
}
