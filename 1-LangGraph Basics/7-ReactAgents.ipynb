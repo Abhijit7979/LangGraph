{
 "cells": [
  {
   "cell_type": "markdown",
   "id": "1e03b212",
   "metadata": {},
   "source": [
    "### ReAct Agent Architecture \n",
    "\n",
    "\n",
    "Aim \n",
    "\n",
    "This is the intuition behind ReAct, a general agent architecture.\n",
    "\n",
    "1. <b>act</b> - let the model call specific tools \n",
    "2. <b>observe</b> - pass the tool output back to the model.\n",
    "3. <b>reason</b> - let the model reason about the tool output to decide what to do next(eg. call another tool or just respond directly.)"
   ]
  },
  {
   "cell_type": "code",
   "execution_count": null,
   "id": "a94ba613",
   "metadata": {},
   "outputs": [],
   "source": [
    "impo"
   ]
  }
 ],
 "metadata": {
  "kernelspec": {
   "display_name": "Python 3",
   "language": "python",
   "name": "python3"
  },
  "language_info": {
   "name": "python",
   "version": "3.12.0"
  }
 },
 "nbformat": 4,
 "nbformat_minor": 5
}
