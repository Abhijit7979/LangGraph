{
 "cells": [
  {
   "cell_type": "markdown",
   "id": "c2d37374",
   "metadata": {},
   "source": [
    "### building chatbot with multiple tools using langGraph \n",
    "\n",
    "#### Aim \n",
    "\n",
    "- create a chatbot with tool capabilities from arxiv , wikipedia search and some functions.\n",
    "- "
   ]
  },
  {
   "cell_type": "code",
   "execution_count": 1,
   "id": "0e8c4c3d",
   "metadata": {},
   "outputs": [],
   "source": [
    "import os \n",
    "from dotenv import load_dotenv\n",
    "\n",
    "load_dotenv()\n",
    "\n",
    "os.environ[\"OPENAI_API_KEY\"] = os.getenv(\"OPENAI_API_KEY\")\n",
    "os.environ[\"GROQ_API_KEY\"] = os.getenv(\"GROQ_API\")"
   ]
  },
  {
   "cell_type": "code",
   "execution_count": 2,
   "id": "8a52ff70",
   "metadata": {},
   "outputs": [],
   "source": [
    "from langchain_groq import ChatGroq\n",
    "from langchain_core.messages import HumanMessage,AIMessage,AnyMessage \n",
    "from langgraph.graph.message import add_messages\n",
    "from langgraph.prebuilt import ToolNode, tools_condition\n",
    "from langgraph.graph import START,END,StateGraph\n",
    "from typing_extensions import TypedDict\n",
    "from typing import Annotated \n",
    "\n",
    "from IPython.display import display , Image"
   ]
  },
  {
   "cell_type": "code",
   "execution_count": 4,
   "id": "8bbd71b5",
   "metadata": {},
   "outputs": [],
   "source": [
    "llm=ChatGroq(model=\"openai/gpt-oss-120b\")"
   ]
  },
  {
   "cell_type": "code",
   "execution_count": null,
   "id": "5b5274a3",
   "metadata": {},
   "outputs": [],
   "source": [
    "llm_with_tools=llm.bind_tools([])"
   ]
  },
  {
   "cell_type": "code",
   "execution_count": 3,
   "id": "2a4a0220",
   "metadata": {},
   "outputs": [],
   "source": [
    "class state(TypedDict):\n",
    "    messages:Annotated[list[AnyMessage],add_messages]"
   ]
  },
  {
   "cell_type": "code",
   "execution_count": null,
   "id": "423d909f",
   "metadata": {},
   "outputs": [],
   "source": [
    "builder=StateGraph(state)\n",
    "\n",
    "builder.add"
   ]
  }
 ],
 "metadata": {
  "kernelspec": {
   "display_name": "Python 3",
   "language": "python",
   "name": "python3"
  },
  "language_info": {
   "codemirror_mode": {
    "name": "ipython",
    "version": 3
   },
   "file_extension": ".py",
   "mimetype": "text/x-python",
   "name": "python",
   "nbconvert_exporter": "python",
   "pygments_lexer": "ipython3",
   "version": "3.12.0"
  }
 },
 "nbformat": 4,
 "nbformat_minor": 5
}
