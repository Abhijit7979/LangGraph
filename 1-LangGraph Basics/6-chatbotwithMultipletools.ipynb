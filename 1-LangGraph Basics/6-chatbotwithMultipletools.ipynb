{
 "cells": [
  {
   "cell_type": "markdown",
   "id": "c2d37374",
   "metadata": {},
   "source": [
    "### building chatbot with multiple tools using langGraph \n",
    "\n",
    "#### Aim \n",
    "\n",
    "- create a chatbot with tool capabilities from arxiv , wikipedia search and some functions.\n",
    "- "
   ]
  },
  {
   "cell_type": "code",
   "execution_count": 6,
   "id": "0e8c4c3d",
   "metadata": {},
   "outputs": [],
   "source": [
    "import os \n",
    "from dotenv import load_dotenv\n",
    "\n",
    "load_dotenv(dotenv_path=\"../.env\")\n",
    "\n",
    "os.environ[\"OPENAI_API_KEY\"] = os.getenv(\"OPENAI_API_KEY\")\n",
    "os.environ[\"GROQ_API_KEY\"] = os.getenv(\"GROQ_API\")\n",
    "os.environ[\"TAVILY_API_KEY\"]= os.getenv(\"TAVILY_API_KEY\")"
   ]
  },
  {
   "cell_type": "code",
   "execution_count": 11,
   "id": "8a52ff70",
   "metadata": {},
   "outputs": [],
   "source": [
    "from langchain_community.tools import ArxivQueryRun,WikipediaQueryRun\n",
    "from langchain_community.utilities import WikipediaAPIWrapper,ArxivAPIWrapper\n",
    "from rich import print\n",
    "\n",
    "from langchain_groq import ChatGroq\n",
    "from langchain_core.messages import HumanMessage,AIMessage,AnyMessage \n",
    "from langgraph.graph.message import add_messages\n",
    "from langgraph.prebuilt import ToolNode, tools_condition\n",
    "from langgraph.graph import START,END,StateGraph\n",
    "from typing_extensions import TypedDict\n",
    "from typing import Annotated \n",
    "\n",
    "from IPython.display import display , Image"
   ]
  },
  {
   "cell_type": "markdown",
   "id": "013e4eda",
   "metadata": {},
   "source": [
    "#### calling tools \n"
   ]
  },
  {
   "cell_type": "code",
   "execution_count": null,
   "id": "91e9430d",
   "metadata": {},
   "outputs": [],
   "source": [
    "api_wrapper_arxiv=ArxivAPIWrapper(top_k_results=2) ## you can add <doc_content_chars_max=500>\n",
    "arxiv=ArxivQueryRun(api_wrapper=api_wrapper_arxiv)"
   ]
  },
  {
   "cell_type": "code",
   "execution_count": 14,
   "id": "521d994b",
   "metadata": {},
   "outputs": [
    {
     "data": {
      "text/html": [
       "<pre style=\"white-space:pre;overflow-x:auto;line-height:normal;font-family:Menlo,'DejaVu Sans Mono',consolas,'Courier New',monospace\">Published: <span style=\"color: #008080; text-decoration-color: #008080; font-weight: bold\">2024</span>-<span style=\"color: #008080; text-decoration-color: #008080; font-weight: bold\">07</span>-<span style=\"color: #008080; text-decoration-color: #008080; font-weight: bold\">22</span>\n",
       "Title: Attention Is All You Need But You Don't Need All Of It For Inference of Large Language Models\n",
       "Authors: Georgy Tyukin, Gbetondji J-S Dovonon, Jean Kaddour, Pasquale Minervini\n",
       "Summary: The inference demand for LLMs has skyrocketed in recent months, and serving\n",
       "models with low latencies remains challenging due to the quadratic input length\n",
       "complexity of the attention layers. In this work, we investigate the effect of\n",
       "dropping MLP and attention layers at inference time on the performance of\n",
       "Llama-v2 models. We find that dropping dreeper attention layers only marginally\n",
       "decreases performance but leads to the best speedups alongside dropping entire\n",
       "layers. For example, removing <span style=\"color: #008080; text-decoration-color: #008080; font-weight: bold\">33</span>\\% of attention layers in a 13B Llama2 model\n",
       "results in a <span style=\"color: #008080; text-decoration-color: #008080; font-weight: bold\">1.8</span>\\% drop in average performance over the OpenLLM benchmark. We\n",
       "also observe that skipping layers except the latter layers reduces performances\n",
       "for more layers skipped, except for skipping the attention layers.\n",
       "\n",
       "Published: <span style=\"color: #008080; text-decoration-color: #008080; font-weight: bold\">2021</span>-<span style=\"color: #008080; text-decoration-color: #008080; font-weight: bold\">07</span>-<span style=\"color: #008080; text-decoration-color: #008080; font-weight: bold\">16</span>\n",
       "Title: All the attention you need: Global-local, spatial-channel attention for image retrieval\n",
       "Authors: Chull Hwan Song, Hye Joo Han, Yannis Avrithis\n",
       "Summary: We address representation learning for large-scale instance-level image\n",
       "retrieval. Apart from backbone, training pipelines and loss functions, popular\n",
       "approaches have focused on different spatial pooling and attention mechanisms,\n",
       "which are at the core of learning a powerful global image representation. There\n",
       "are different forms of attention according to the interaction of elements of\n",
       "the feature tensor <span style=\"font-weight: bold\">(</span>local and global<span style=\"font-weight: bold\">)</span> and the dimensions where it is applied\n",
       "<span style=\"font-weight: bold\">(</span>spatial and channel<span style=\"font-weight: bold\">)</span>. Unfortunately, each study addresses only one or two\n",
       "forms of attention and applies it to different problems like classification,\n",
       "detection or retrieval.\n",
       "  We present global-local attention module <span style=\"font-weight: bold\">(</span>GLAM<span style=\"font-weight: bold\">)</span>, which is attached at the end\n",
       "of a backbone network and incorporates all four forms of attention: local and\n",
       "global, spatial and channel. We obtain a new feature tensor and, by spatial\n",
       "pooling, we learn a powerful embedding for image retrieval. Focusing on global\n",
       "descriptors, we provide empirical evidence of the interaction of all forms of\n",
       "attention and improve the state of the art on standard benchmarks.\n",
       "</pre>\n"
      ],
      "text/plain": [
       "Published: \u001b[1;36m2024\u001b[0m-\u001b[1;36m07\u001b[0m-\u001b[1;36m22\u001b[0m\n",
       "Title: Attention Is All You Need But You Don't Need All Of It For Inference of Large Language Models\n",
       "Authors: Georgy Tyukin, Gbetondji J-S Dovonon, Jean Kaddour, Pasquale Minervini\n",
       "Summary: The inference demand for LLMs has skyrocketed in recent months, and serving\n",
       "models with low latencies remains challenging due to the quadratic input length\n",
       "complexity of the attention layers. In this work, we investigate the effect of\n",
       "dropping MLP and attention layers at inference time on the performance of\n",
       "Llama-v2 models. We find that dropping dreeper attention layers only marginally\n",
       "decreases performance but leads to the best speedups alongside dropping entire\n",
       "layers. For example, removing \u001b[1;36m33\u001b[0m\\% of attention layers in a 13B Llama2 model\n",
       "results in a \u001b[1;36m1.8\u001b[0m\\% drop in average performance over the OpenLLM benchmark. We\n",
       "also observe that skipping layers except the latter layers reduces performances\n",
       "for more layers skipped, except for skipping the attention layers.\n",
       "\n",
       "Published: \u001b[1;36m2021\u001b[0m-\u001b[1;36m07\u001b[0m-\u001b[1;36m16\u001b[0m\n",
       "Title: All the attention you need: Global-local, spatial-channel attention for image retrieval\n",
       "Authors: Chull Hwan Song, Hye Joo Han, Yannis Avrithis\n",
       "Summary: We address representation learning for large-scale instance-level image\n",
       "retrieval. Apart from backbone, training pipelines and loss functions, popular\n",
       "approaches have focused on different spatial pooling and attention mechanisms,\n",
       "which are at the core of learning a powerful global image representation. There\n",
       "are different forms of attention according to the interaction of elements of\n",
       "the feature tensor \u001b[1m(\u001b[0mlocal and global\u001b[1m)\u001b[0m and the dimensions where it is applied\n",
       "\u001b[1m(\u001b[0mspatial and channel\u001b[1m)\u001b[0m. Unfortunately, each study addresses only one or two\n",
       "forms of attention and applies it to different problems like classification,\n",
       "detection or retrieval.\n",
       "  We present global-local attention module \u001b[1m(\u001b[0mGLAM\u001b[1m)\u001b[0m, which is attached at the end\n",
       "of a backbone network and incorporates all four forms of attention: local and\n",
       "global, spatial and channel. We obtain a new feature tensor and, by spatial\n",
       "pooling, we learn a powerful embedding for image retrieval. Focusing on global\n",
       "descriptors, we provide empirical evidence of the interaction of all forms of\n",
       "attention and improve the state of the art on standard benchmarks.\n"
      ]
     },
     "metadata": {},
     "output_type": "display_data"
    }
   ],
   "source": [
    "print(arxiv.invoke(\"attention is all you need\"))"
   ]
  },
  {
   "cell_type": "code",
   "execution_count": 23,
   "id": "7fa22eee",
   "metadata": {},
   "outputs": [],
   "source": [
    "api_wrapper_wikipedia=WikipediaAPIWrapper(top_k_results=3,doc_content_chars_max=10000)\n",
    "\n",
    "wikipedia=WikipediaQueryRun(api_wrapper=api_wrapper_wikipedia)"
   ]
  },
  {
   "cell_type": "code",
   "execution_count": null,
   "id": "cf4f5c50",
   "metadata": {},
   "outputs": [
    {
     "data": {
      "text/html": [
       "<pre style=\"white-space:pre;overflow-x:auto;line-height:normal;font-family:Menlo,'DejaVu Sans Mono',consolas,'Courier New',monospace\">Page: India\n",
       "Summary: India, officially the Republic of India, is a country in South Asia.  It is the seventh-largest country by\n",
       "area; the most populous country since <span style=\"color: #008080; text-decoration-color: #008080; font-weight: bold\">2023</span>; and, since its independence in <span style=\"color: #008080; text-decoration-color: #008080; font-weight: bold\">1947</span>, the world's most populous \n",
       "democracy. Bounded by the Indian Ocean on the south, the Arabian Sea on the southwest, and the Bay of Bengal on the\n",
       "southeast, it shares land borders with Pakistan to the west; China, Nepal, and Bhutan to the north; and Bangladesh \n",
       "and Myanmar to the east. In the Indian Ocean, India is near Sri Lanka and the Maldives; its Andaman and Nicobar \n",
       "Islands share a maritime border with Myanmar, Thailand, and Indonesia.\n",
       "Modern humans arrived on the Indian subcontinent from Africa no later than <span style=\"color: #008080; text-decoration-color: #008080; font-weight: bold\">55</span>,<span style=\"color: #008080; text-decoration-color: #008080; font-weight: bold\">000</span> years ago. Their long occupation,\n",
       "predominantly in isolation as hunter-gatherers, has made the region highly diverse. Settled life emerged on the \n",
       "subcontinent in the western margins of the Indus river basin <span style=\"color: #008080; text-decoration-color: #008080; font-weight: bold\">9</span>,<span style=\"color: #008080; text-decoration-color: #008080; font-weight: bold\">000</span> years ago, evolving gradually into the Indus \n",
       "Valley Civilisation of the third millennium BCE. By <span style=\"color: #008080; text-decoration-color: #008080; font-weight: bold\">1200</span> BCE, an archaic form of Sanskrit, an Indo-European \n",
       "language, had diffused into India from the northwest. Its hymns recorded the early dawnings of Hinduism in India. \n",
       "India's pre-existing Dravidian languages were supplanted in the northern regions. By <span style=\"color: #008080; text-decoration-color: #008080; font-weight: bold\">400</span> BCE, caste had emerged \n",
       "within Hinduism, and Buddhism and Jainism had arisen, proclaiming social orders unlinked to heredity. Early \n",
       "political consolidations gave rise to the loose-knit Maurya and Gupta Empires. Widespread creativity suffused this \n",
       "era, but the status of women declined, and untouchability became an organised belief. In South India, the Middle \n",
       "kingdoms exported Dravidian language scripts and religious cultures to the kingdoms of Southeast Asia.\n",
       "In the early medieval era, Christianity, Islam, Judaism, and Zoroastrianism became established on India's southern \n",
       "and western coasts. Muslim armies from Central Asia intermittently overran India's northern plains in the second \n",
       "millennium. The resulting Delhi Sultanate drew northern India into the cosmopolitan networks of medieval Islam. In \n",
       "south India, the Vijayanagara Empire created a long-lasting composite Hindu culture. In the Punjab, Sikhism \n",
       "emerged, rejecting institutionalised religion. The Mughal Empire ushered in two centuries of economic expansion and\n",
       "relative peace, leaving a rich architectural legacy. Gradually expanding rule of the British East India Company \n",
       "turned India into a colonial economy but consolidated its sovereignty. British Crown rule began in <span style=\"color: #008080; text-decoration-color: #008080; font-weight: bold\">1858</span>. The rights\n",
       "promised to Indians were granted slowly, but technological changes were introduced, and modern ideas of education \n",
       "and the public life took root. A nationalist movement emerged in India, the first in the non-European British \n",
       "empire and an influence on other nationalist movements. Noted for nonviolent resistance after <span style=\"color: #008080; text-decoration-color: #008080; font-weight: bold\">1920</span>, it became the \n",
       "primary factor in ending British rule. In <span style=\"color: #008080; text-decoration-color: #008080; font-weight: bold\">1947</span>, the British Indian Empire was partitioned into two independent \n",
       "dominions, a Hindu-majority dominion of India and a Muslim-majority dominion of Pakistan. A large-scale loss of \n",
       "life and an unprecedented migration accompanied the partition.\n",
       "India has been a federal republic since <span style=\"color: #008080; text-decoration-color: #008080; font-weight: bold\">1950</span>, governed through a democratic parliamentary system. It is a \n",
       "pluralistic, multilingual and multi-ethnic society. India's population grew from <span style=\"color: #008080; text-decoration-color: #008080; font-weight: bold\">361</span> million in <span style=\"color: #008080; text-decoration-color: #008080; font-weight: bold\">1951</span> to over <span style=\"color: #008080; text-decoration-color: #008080; font-weight: bold\">1.4</span> \n",
       "billion in <span style=\"color: #008080; text-decoration-color: #008080; font-weight: bold\">2023</span>. During this time, its nominal per capita income increased from US$<span style=\"color: #008080; text-decoration-color: #008080; font-weight: bold\">64</span> annually to US$<span style=\"color: #008080; text-decoration-color: #008080; font-weight: bold\">2</span>,<span style=\"color: #008080; text-decoration-color: #008080; font-weight: bold\">601</span>, and its\n",
       "literacy rate from <span style=\"color: #008080; text-decoration-color: #008080; font-weight: bold\">16.6</span>% to <span style=\"color: #008080; text-decoration-color: #008080; font-weight: bold\">74</span>%. A comparatively destitute country in <span style=\"color: #008080; text-decoration-color: #008080; font-weight: bold\">1951</span>, India has become a fast-growing major \n",
       "economy and a hub for information technology services, with an expanding middle class. Indian movies and music \n",
       "increasingly influence global culture. India has reduced its poverty rate, though at the cost of increasing \n",
       "economic inequality. It is a nuclear-weapon state that ranks high in military expenditure. It has disputes over \n",
       "Kashmir with its neighbours, Pakistan and China, unresolved since the mid-20th century. Among the socio-economic \n",
       "challenges India faces are gender inequality, child malnutrition, and rising levels of air pollution. India's land \n",
       "is megadiverse with four biodiversity hotspots. India's wildlife, which has traditionally been viewed with \n",
       "tolerance in its culture, is supported in protected habitats.\n",
       "\n",
       "Page: Indian National Developmental Inclusive Alliance\n",
       "Summary: The Indian National Developmental Inclusive Alliance <span style=\"font-weight: bold\">(</span>INDIA<span style=\"font-weight: bold\">)</span> is a big tent multi-party political alliance \n",
       "of several political parties in India led by the country's largest opposition party, the Indian National Congress. \n",
       "The alliance is in opposition to the ruling National Democratic Alliance <span style=\"font-weight: bold\">(</span>NDA<span style=\"font-weight: bold\">)</span> government led by the Bharatiya \n",
       "Janata Party <span style=\"font-weight: bold\">(</span>BJP<span style=\"font-weight: bold\">)</span> in the <span style=\"color: #008080; text-decoration-color: #008080; font-weight: bold\">2024</span> Indian general elections. In the <span style=\"color: #008080; text-decoration-color: #008080; font-weight: bold\">2024</span> general election, the alliance won <span style=\"color: #008080; text-decoration-color: #008080; font-weight: bold\">234</span> seats, \n",
       "gaining more than <span style=\"color: #008080; text-decoration-color: #008080; font-weight: bold\">100</span> seats in relation to its size before dissolution, and the majority of seats in states like \n",
       "Uttar Pradesh, Maharashtra, and West Bengal.\n",
       "\n",
       "Page: Economy of India\n",
       "Summary: The economy of India is a developing mixed economy with a notable public sector in strategic sectors. It \n",
       "is the world's fourth-largest economy by nominal GDP and the third-largest by purchasing power parity <span style=\"font-weight: bold\">(</span>PPP<span style=\"font-weight: bold\">)</span>; on a \n",
       "per capita income basis, India ranked 136th by GDP <span style=\"font-weight: bold\">(</span>nominal<span style=\"font-weight: bold\">)</span> and 119th by GDP <span style=\"font-weight: bold\">(</span>PPP<span style=\"font-weight: bold\">)</span>. From independence in <span style=\"color: #008080; text-decoration-color: #008080; font-weight: bold\">1947</span> \n",
       "until <span style=\"color: #008080; text-decoration-color: #008080; font-weight: bold\">1991</span>, successive governments followed the Soviet model and promoted protectionist economic policies, with \n",
       "extensive Sovietization, state intervention, demand-side economics, natural resources, bureaucrat-driven \n",
       "enterprises and economic regulation. This is characterised as dirigism, in the form of the Licence Raj. The end of \n",
       "the Cold War and an acute balance of payments crisis in <span style=\"color: #008080; text-decoration-color: #008080; font-weight: bold\">1991</span> led to the adoption of a broad economic liberalisation\n",
       "in India and indicative planning. India has about <span style=\"color: #008080; text-decoration-color: #008080; font-weight: bold\">1</span>,<span style=\"color: #008080; text-decoration-color: #008080; font-weight: bold\">900</span> public sector companies, with the Indian state having \n",
       "complete control and ownership of railways and highways. The Indian government has major control over banking, \n",
       "insurance, farming, fertilizers and chemicals, airports, essential utilities. The state also exerts substantial \n",
       "control over digitalization, telecommunication, supercomputing, space, port and shipping industries, which were \n",
       "effectively nationalised in the mid-1950s but has seen the emergence of key corporate players.\n",
       "Nearly <span style=\"color: #008080; text-decoration-color: #008080; font-weight: bold\">70</span>% of India's GDP is driven by domestic consumption; the country remains the world's third-largest consumer\n",
       "market. Aside private consumption, India's GDP is also fueled by government spending, investments, and exports. In \n",
       "<span style=\"color: #008080; text-decoration-color: #008080; font-weight: bold\">2022</span>, India was the world's 10th-largest importer and the 8th-largest exporter. India has been a member of the \n",
       "World Trade Organization since <span style=\"color: #008080; text-decoration-color: #008080; font-weight: bold\">1</span> January <span style=\"color: #008080; text-decoration-color: #008080; font-weight: bold\">1995</span>. It ranks 63rd on the ease of doing business index and 40th on the \n",
       "Global Competitiveness Index. India has one of the world's highest number of billionaires along with extreme income\n",
       "inequality.  Economists and social scientists often consider India a welfare state. India's overall social welfare \n",
       "spending stood at <span style=\"color: #008080; text-decoration-color: #008080; font-weight: bold\">8.6</span>% of GDP in <span style=\"color: #008080; text-decoration-color: #008080; font-weight: bold\">2021</span>-<span style=\"color: #008080; text-decoration-color: #008080; font-weight: bold\">22</span>, which is much lower than the average for OECD nations. With <span style=\"color: #008080; text-decoration-color: #008080; font-weight: bold\">586</span> million \n",
       "workers, the Indian labour force is the world's second-largest. Despite having some of the longest working hours, \n",
       "India has one of the lowest workforce productivity levels in the world. Economists say that due to structural \n",
       "economic problems, India is experiencing jobless economic growth.\n",
       "During the Great Recession, the economy faced a mild slowdown. India endorsed Keynesian policy and initiated \n",
       "stimulus measures <span style=\"font-weight: bold\">(</span>both fiscal and monetary<span style=\"font-weight: bold\">)</span> to boost growth and generate demand. In subsequent years, economic \n",
       "growth revived.\n",
       "In <span style=\"color: #008080; text-decoration-color: #008080; font-weight: bold\">2021</span>–<span style=\"color: #008080; text-decoration-color: #008080; font-weight: bold\">22</span>, the foreign direct investment <span style=\"font-weight: bold\">(</span>FDI<span style=\"font-weight: bold\">)</span> in India was $<span style=\"color: #008080; text-decoration-color: #008080; font-weight: bold\">82</span> billion. The leading sectors for FDI inflows were \n",
       "the Finance, Banking, Insurance and R&amp;D. India has free trade agreements with several nations and blocs, including \n",
       "ASEAN, SAFTA, Mercosur, South Korea, Japan, Australia, the United Arab Emirates, and several others which are in \n",
       "effect or under negotiating stage.\n",
       "The service sector makes up more than <span style=\"color: #008080; text-decoration-color: #008080; font-weight: bold\">50</span>% of GDP and remains the fastest growing sector, while the industrial \n",
       "sector and the agricultural sector employs a majority of the labor force. The Bombay Stock Exchange and National \n",
       "Stock Exchange are some of the world's largest stock exchanges by market capitalisation. India is the world's \n",
       "sixth-largest manufacturer, representing <span style=\"color: #008080; text-decoration-color: #008080; font-weight: bold\">2.6</span>% of global manufacturing output. Nearly <span style=\"color: #008080; text-decoration-color: #008080; font-weight: bold\">65</span>% of India's population is \n",
       "rural, and contributes about <span style=\"color: #008080; text-decoration-color: #008080; font-weight: bold\">50</span>% of India's GDP. India faces high unemployment, rising income inequality, and a \n",
       "drop in aggregate demand. India's gross domestic savings rate stood at <span style=\"color: #008080; text-decoration-color: #008080; font-weight: bold\">29.3</span>% of GDP in <span style=\"color: #008080; text-decoration-color: #008080; font-weight: bold\">2022</span>.\n",
       "</pre>\n"
      ],
      "text/plain": [
       "Page: India\n",
       "Summary: India, officially the Republic of India, is a country in South Asia.  It is the seventh-largest country by\n",
       "area; the most populous country since \u001b[1;36m2023\u001b[0m; and, since its independence in \u001b[1;36m1947\u001b[0m, the world's most populous \n",
       "democracy. Bounded by the Indian Ocean on the south, the Arabian Sea on the southwest, and the Bay of Bengal on the\n",
       "southeast, it shares land borders with Pakistan to the west; China, Nepal, and Bhutan to the north; and Bangladesh \n",
       "and Myanmar to the east. In the Indian Ocean, India is near Sri Lanka and the Maldives; its Andaman and Nicobar \n",
       "Islands share a maritime border with Myanmar, Thailand, and Indonesia.\n",
       "Modern humans arrived on the Indian subcontinent from Africa no later than \u001b[1;36m55\u001b[0m,\u001b[1;36m000\u001b[0m years ago. Their long occupation,\n",
       "predominantly in isolation as hunter-gatherers, has made the region highly diverse. Settled life emerged on the \n",
       "subcontinent in the western margins of the Indus river basin \u001b[1;36m9\u001b[0m,\u001b[1;36m000\u001b[0m years ago, evolving gradually into the Indus \n",
       "Valley Civilisation of the third millennium BCE. By \u001b[1;36m1200\u001b[0m BCE, an archaic form of Sanskrit, an Indo-European \n",
       "language, had diffused into India from the northwest. Its hymns recorded the early dawnings of Hinduism in India. \n",
       "India's pre-existing Dravidian languages were supplanted in the northern regions. By \u001b[1;36m400\u001b[0m BCE, caste had emerged \n",
       "within Hinduism, and Buddhism and Jainism had arisen, proclaiming social orders unlinked to heredity. Early \n",
       "political consolidations gave rise to the loose-knit Maurya and Gupta Empires. Widespread creativity suffused this \n",
       "era, but the status of women declined, and untouchability became an organised belief. In South India, the Middle \n",
       "kingdoms exported Dravidian language scripts and religious cultures to the kingdoms of Southeast Asia.\n",
       "In the early medieval era, Christianity, Islam, Judaism, and Zoroastrianism became established on India's southern \n",
       "and western coasts. Muslim armies from Central Asia intermittently overran India's northern plains in the second \n",
       "millennium. The resulting Delhi Sultanate drew northern India into the cosmopolitan networks of medieval Islam. In \n",
       "south India, the Vijayanagara Empire created a long-lasting composite Hindu culture. In the Punjab, Sikhism \n",
       "emerged, rejecting institutionalised religion. The Mughal Empire ushered in two centuries of economic expansion and\n",
       "relative peace, leaving a rich architectural legacy. Gradually expanding rule of the British East India Company \n",
       "turned India into a colonial economy but consolidated its sovereignty. British Crown rule began in \u001b[1;36m1858\u001b[0m. The rights\n",
       "promised to Indians were granted slowly, but technological changes were introduced, and modern ideas of education \n",
       "and the public life took root. A nationalist movement emerged in India, the first in the non-European British \n",
       "empire and an influence on other nationalist movements. Noted for nonviolent resistance after \u001b[1;36m1920\u001b[0m, it became the \n",
       "primary factor in ending British rule. In \u001b[1;36m1947\u001b[0m, the British Indian Empire was partitioned into two independent \n",
       "dominions, a Hindu-majority dominion of India and a Muslim-majority dominion of Pakistan. A large-scale loss of \n",
       "life and an unprecedented migration accompanied the partition.\n",
       "India has been a federal republic since \u001b[1;36m1950\u001b[0m, governed through a democratic parliamentary system. It is a \n",
       "pluralistic, multilingual and multi-ethnic society. India's population grew from \u001b[1;36m361\u001b[0m million in \u001b[1;36m1951\u001b[0m to over \u001b[1;36m1.4\u001b[0m \n",
       "billion in \u001b[1;36m2023\u001b[0m. During this time, its nominal per capita income increased from US$\u001b[1;36m64\u001b[0m annually to US$\u001b[1;36m2\u001b[0m,\u001b[1;36m601\u001b[0m, and its\n",
       "literacy rate from \u001b[1;36m16.6\u001b[0m% to \u001b[1;36m74\u001b[0m%. A comparatively destitute country in \u001b[1;36m1951\u001b[0m, India has become a fast-growing major \n",
       "economy and a hub for information technology services, with an expanding middle class. Indian movies and music \n",
       "increasingly influence global culture. India has reduced its poverty rate, though at the cost of increasing \n",
       "economic inequality. It is a nuclear-weapon state that ranks high in military expenditure. It has disputes over \n",
       "Kashmir with its neighbours, Pakistan and China, unresolved since the mid-20th century. Among the socio-economic \n",
       "challenges India faces are gender inequality, child malnutrition, and rising levels of air pollution. India's land \n",
       "is megadiverse with four biodiversity hotspots. India's wildlife, which has traditionally been viewed with \n",
       "tolerance in its culture, is supported in protected habitats.\n",
       "\n",
       "Page: Indian National Developmental Inclusive Alliance\n",
       "Summary: The Indian National Developmental Inclusive Alliance \u001b[1m(\u001b[0mINDIA\u001b[1m)\u001b[0m is a big tent multi-party political alliance \n",
       "of several political parties in India led by the country's largest opposition party, the Indian National Congress. \n",
       "The alliance is in opposition to the ruling National Democratic Alliance \u001b[1m(\u001b[0mNDA\u001b[1m)\u001b[0m government led by the Bharatiya \n",
       "Janata Party \u001b[1m(\u001b[0mBJP\u001b[1m)\u001b[0m in the \u001b[1;36m2024\u001b[0m Indian general elections. In the \u001b[1;36m2024\u001b[0m general election, the alliance won \u001b[1;36m234\u001b[0m seats, \n",
       "gaining more than \u001b[1;36m100\u001b[0m seats in relation to its size before dissolution, and the majority of seats in states like \n",
       "Uttar Pradesh, Maharashtra, and West Bengal.\n",
       "\n",
       "Page: Economy of India\n",
       "Summary: The economy of India is a developing mixed economy with a notable public sector in strategic sectors. It \n",
       "is the world's fourth-largest economy by nominal GDP and the third-largest by purchasing power parity \u001b[1m(\u001b[0mPPP\u001b[1m)\u001b[0m; on a \n",
       "per capita income basis, India ranked 136th by GDP \u001b[1m(\u001b[0mnominal\u001b[1m)\u001b[0m and 119th by GDP \u001b[1m(\u001b[0mPPP\u001b[1m)\u001b[0m. From independence in \u001b[1;36m1947\u001b[0m \n",
       "until \u001b[1;36m1991\u001b[0m, successive governments followed the Soviet model and promoted protectionist economic policies, with \n",
       "extensive Sovietization, state intervention, demand-side economics, natural resources, bureaucrat-driven \n",
       "enterprises and economic regulation. This is characterised as dirigism, in the form of the Licence Raj. The end of \n",
       "the Cold War and an acute balance of payments crisis in \u001b[1;36m1991\u001b[0m led to the adoption of a broad economic liberalisation\n",
       "in India and indicative planning. India has about \u001b[1;36m1\u001b[0m,\u001b[1;36m900\u001b[0m public sector companies, with the Indian state having \n",
       "complete control and ownership of railways and highways. The Indian government has major control over banking, \n",
       "insurance, farming, fertilizers and chemicals, airports, essential utilities. The state also exerts substantial \n",
       "control over digitalization, telecommunication, supercomputing, space, port and shipping industries, which were \n",
       "effectively nationalised in the mid-1950s but has seen the emergence of key corporate players.\n",
       "Nearly \u001b[1;36m70\u001b[0m% of India's GDP is driven by domestic consumption; the country remains the world's third-largest consumer\n",
       "market. Aside private consumption, India's GDP is also fueled by government spending, investments, and exports. In \n",
       "\u001b[1;36m2022\u001b[0m, India was the world's 10th-largest importer and the 8th-largest exporter. India has been a member of the \n",
       "World Trade Organization since \u001b[1;36m1\u001b[0m January \u001b[1;36m1995\u001b[0m. It ranks 63rd on the ease of doing business index and 40th on the \n",
       "Global Competitiveness Index. India has one of the world's highest number of billionaires along with extreme income\n",
       "inequality.  Economists and social scientists often consider India a welfare state. India's overall social welfare \n",
       "spending stood at \u001b[1;36m8.6\u001b[0m% of GDP in \u001b[1;36m2021\u001b[0m-\u001b[1;36m22\u001b[0m, which is much lower than the average for OECD nations. With \u001b[1;36m586\u001b[0m million \n",
       "workers, the Indian labour force is the world's second-largest. Despite having some of the longest working hours, \n",
       "India has one of the lowest workforce productivity levels in the world. Economists say that due to structural \n",
       "economic problems, India is experiencing jobless economic growth.\n",
       "During the Great Recession, the economy faced a mild slowdown. India endorsed Keynesian policy and initiated \n",
       "stimulus measures \u001b[1m(\u001b[0mboth fiscal and monetary\u001b[1m)\u001b[0m to boost growth and generate demand. In subsequent years, economic \n",
       "growth revived.\n",
       "In \u001b[1;36m2021\u001b[0m–\u001b[1;36m22\u001b[0m, the foreign direct investment \u001b[1m(\u001b[0mFDI\u001b[1m)\u001b[0m in India was $\u001b[1;36m82\u001b[0m billion. The leading sectors for FDI inflows were \n",
       "the Finance, Banking, Insurance and R&D. India has free trade agreements with several nations and blocs, including \n",
       "ASEAN, SAFTA, Mercosur, South Korea, Japan, Australia, the United Arab Emirates, and several others which are in \n",
       "effect or under negotiating stage.\n",
       "The service sector makes up more than \u001b[1;36m50\u001b[0m% of GDP and remains the fastest growing sector, while the industrial \n",
       "sector and the agricultural sector employs a majority of the labor force. The Bombay Stock Exchange and National \n",
       "Stock Exchange are some of the world's largest stock exchanges by market capitalisation. India is the world's \n",
       "sixth-largest manufacturer, representing \u001b[1;36m2.6\u001b[0m% of global manufacturing output. Nearly \u001b[1;36m65\u001b[0m% of India's population is \n",
       "rural, and contributes about \u001b[1;36m50\u001b[0m% of India's GDP. India faces high unemployment, rising income inequality, and a \n",
       "drop in aggregate demand. India's gross domestic savings rate stood at \u001b[1;36m29.3\u001b[0m% of GDP in \u001b[1;36m2022\u001b[0m.\n"
      ]
     },
     "metadata": {},
     "output_type": "display_data"
    }
   ],
   "source": [
    "a=wikipedia.run(\"india\",)\n",
    "print(a)"
   ]
  },
  {
   "cell_type": "code",
   "execution_count": 32,
   "id": "ef5fd77d",
   "metadata": {},
   "outputs": [],
   "source": [
    "## tavilySearchtool -> \n",
    "# a search engine tool for ai agents , devlivering real time , accurate and factual results at speed \n",
    "from langchain_community.tools.tavily_search import TavilySearchResults\n",
    "\n",
    "tavily= TavilySearchResults()"
   ]
  },
  {
   "cell_type": "code",
   "execution_count": 33,
   "id": "86d6c295",
   "metadata": {},
   "outputs": [
    {
     "data": {
      "text/plain": [
       "[{'title': 'Latest AI News and Technology Developments – September 2025',\n",
       "  'url': 'http://rapidassure.com/breaking-latest-ai-news-and-technology-developments-september-2025/',\n",
       "  'content': '### Breaking: Latest AI News and Technology Developments – September 2025\\n\\nThe artificial intelligence landscape continues to evolve at a breakneck pace, with significant developments reshaping how we interact with AI systems and their applications across industries. Here are the most important AI news stories and technological breakthroughs as of September 2025.\\n\\n## Apple’s Strategic AI Push: Siri Gets Major Intelligence Upgrade [...] The competitive landscape among AI models has intensified significantly. Claude Opus 4.1, from Anthropic, is widely regarded to be the superior model for sustained autonomous coding and agentic work, challenging OpenAI’s dominance in certain specialized applications. Meanwhile, Google continues to advance its large language model (LLM) family with the latest Gemini 2.5 series. This updated version is designed for enhanced complex problem-solving and native multimodal understanding. [...] ## Infrastructure Investment: Massive AI Data Center Development\\n\\nThe AI boom is driving substantial infrastructure investments, with a massive $3 billion AI-focused data center set to be built in Harwood, North Dakota. The facility will include advanced infrastructure for AI training and cloud services. This development reflects the enormous computational requirements of modern AI systems and the economic opportunities they create in unexpected locations.',\n",
       "  'score': 0.92091084},\n",
       " {'title': 'AI by AI Weekly Top 5: September 1 – 7, 2025 - Champaign Magazine',\n",
       "  'url': 'https://champaignmagazine.com/2025/09/07/ai-by-ai-weekly-top-5-september-1-7-2025/',\n",
       "  'content': 'Date: September 7, 2025  \\nContext: Activists Guido Reichstadter and Michael Trazzi launched hunger strikes outside Anthropic’s San Francisco office and DeepMind’s London headquarters, respectively. Their protest demands a halt to AI development, citing existential threats.  \\nSignificance: A powerful demonstration of public concern, the strikes amplify ethical debates around AI, urging developers and policymakers to balance innovation with safety. [...] Date: September 4, 2025  \\nContext: OpenAI revealed plans for the “OpenAI Jobs Platform,” launching in mid-2026, which uses AI to match job candidates with employers based on skills analysis. Overseen by new CEO of Applications Fidji Simo, it includes features for small businesses and certifications via OpenAI Academy, partnering with Walmart to certify 10 million Americans by 2030. The announcement coincided with White House AI talks. [...] Date: September 5, 2025  \\nContext: Executives from Microsoft, OpenAI, Google, and Apple met at the White House with President Donald Trump to support a new national plan for integrating AI literacy into U.S. education. The initiative aims to teach children AI skills from elementary school onward, addressing the tech industry’s push to align with government priorities amid regulatory scrutiny. This follows broader discussions on AI’s role in workforce development.',\n",
       "  'score': 0.90633047},\n",
       " {'title': 'AI News September 6 2025, 23 Breakthroughs You Need Now',\n",
       "  'url': 'https://binaryverseai.com/ai-news-september-6-2025/',\n",
       "  'content': '## 15. Broadcom Pops On A 10B Mystery AI Order\\n\\nBroadcom’s quarter beat on revenue and earnings, then a new 10 billion dollar custom accelerator order dropped into guidance. The stock jumped. AI revenue climbed fast and management lifted the outlook again. A fourth hyperscale customer is buying XPUs at production scale with shipments ramping in 2026. The networking business that stitches clusters together is growing with it. The VMware software piece keeps cash flow strong. [...] The thesis is familiar and still durable. Hyperscalers want control over cost and performance for specialized workloads. Custom silicon gives them both. Broadcom sits in the slot where design meets volume manufacturing, and it sells the fabric that makes compute useful at cluster scale. The competitive question is how much share custom XPUs can take from Nvidia. For now the pipeline looks fuller and demand more visible. It is a clear headline in AI news September 6 2025. [...] Salesforce grew revenue and margins, expanded its buyback, and still cut 4,000 roles, mostly in support. AI agents now handle about one million customer conversations. Fewer front line roles and more automation fit the strategy that leadership has described for months. The stock dipped on softer guidance as enterprise budgets tighten. This is the shape of the transition. Efficiency gains arrive while demand wobbles.',\n",
       "  'score': 0.8969848},\n",
       " {'title': 'AI News | September 6–12, 2025: 10 Biggest AI Breakthroughs You ...',\n",
       "  'url': 'https://medium.com/@CherryZhouTech/ai-news-september-6-12-2025-10-biggest-ai-breakthroughs-you-need-to-know-a94e401e43e5',\n",
       "  'content': 'Sign up\\n\\nSign in\\n\\nSign up\\n\\nSign in\\n\\n# AI News | September 6–12, 2025: 10 Biggest AI Breakthroughs You Need to Know\\n\\n## From AI that remembers to agents that code for 200 minutes, this week redefined intelligent tools.\\n\\nCherryZhou\\n\\n--\\n\\nListen\\n\\nShare\\n\\nAI News | September 6–12, 2025\\n\\nWelcome to this week’s AI News Roundup!\\n\\nLet’s explore the most exciting breakthroughs and real-world applications happening in the world of AI.\\n\\n### 1. Google Launches AI Edge Gallery on Google Play [...] ### 4. Stability AI Releases Stable Audio 2.5 for Professional Sound Production\\n\\nStable Audio 2.5\\n\\nStability AI has launched Stable Audio 2.5, its latest audio generation model designed for efficient professional sound production. The tool enables creative teams to quickly generate high-quality, customizable audio content to meet rising market demands. [...] Anthropic has introduced document generation and editing features for its Claude AI assistant. Users can now create and edit Excel spreadsheets, PowerPoint presentations, Word documents, and PDF files directly within the chat interface.\\n\\nCurrently available in preview for paid subscribers, this upgrade highlights the expanding role of AI in office applications.\\n\\n### 6. Freepik Debuts Doubao Seedream 4.0 Image Model',\n",
       "  'score': 0.8925721},\n",
       " {'title': 'AI Reports and Papers that Matter Sept, 2025 - AI Supremacy',\n",
       "  'url': 'https://www.ai-supremacy.com/p/ai-reports-and-papers-that-matter-autumn-2025',\n",
       "  'content': 'As AI infrastructure capacity has been reaching its limit, Microsoft went with Nebius and OpenAI of course went with Oracle (according to the WSJ, their five-year deal starts in 2027). Well it showed up on Oracle’s balance sheet recently and Oracle’s stock went parabolic up 36% on September 10th, 2025, more or less unheard of for companies this big.\\n\\nchart\\n\\n### Rise of BigAI - the ‘TABNOOA’ Group [...] A lot of new data and reports have accelerated media reports about an AI bubble.\\n\\n## An MIT report that 95% of AI pilots fail\\n\\nGenerative AI Strategy: Overcoming the GenAI Divide for Business Success |  Dr. Sundeep Teki - Sundeep Teki\\n\\nThe report looked at what companies are actually trying to do with AI and why they may not be succeeding. Entitled The GenAI Divide: State of AI in Business 2025, the reportwas published by MIT Media Lab’s NANDA Initiative.\\n\\nRead the Report [...] They add “To view AI as normal is not to understate its impact—even transformative, general-purpose technologies such as electricity and the internet are “normal” in our conception. But it is in contrast to both utopian and dystopian visions of the future of AI which have a common tendency to treat it akin to a separate species, a highly autonomous, potentially superintelligent entity.”\\n\\nThe deep dive today is by \\n\\nJing Hu',\n",
       "  'score': 0.8548001}]"
      ]
     },
     "execution_count": 33,
     "metadata": {},
     "output_type": "execute_result"
    }
   ],
   "source": [
    "tavily.invoke(\"provide me the recent ai news for september 2025\")"
   ]
  },
  {
   "cell_type": "code",
   "execution_count": 35,
   "id": "26859139",
   "metadata": {},
   "outputs": [],
   "source": [
    "# combine all the tools in the list to add in node \n",
    "\n",
    "tools=[arxiv,wikipedia,tavily]"
   ]
  },
  {
   "cell_type": "code",
   "execution_count": 4,
   "id": "8bbd71b5",
   "metadata": {},
   "outputs": [],
   "source": [
    "llm=ChatGroq(model=\"openai/gpt-oss-120b\")"
   ]
  },
  {
   "cell_type": "code",
   "execution_count": 36,
   "id": "5b5274a3",
   "metadata": {},
   "outputs": [],
   "source": [
    "llm_with_tools=llm.bind_tools(tools)"
   ]
  },
  {
   "cell_type": "code",
   "execution_count": 37,
   "id": "cf1b6b32",
   "metadata": {},
   "outputs": [
    {
     "data": {
      "text/html": [
       "<pre style=\"white-space:pre;overflow-x:auto;line-height:normal;font-family:Menlo,'DejaVu Sans Mono',consolas,'Courier New',monospace\"><span style=\"color: #800080; text-decoration-color: #800080; font-weight: bold\">AIMessage</span><span style=\"font-weight: bold\">(</span>\n",
       "    <span style=\"color: #808000; text-decoration-color: #808000\">content</span>=<span style=\"color: #008000; text-decoration-color: #008000\">''</span>,\n",
       "    <span style=\"color: #808000; text-decoration-color: #808000\">additional_kwargs</span>=<span style=\"font-weight: bold\">{</span>\n",
       "        <span style=\"color: #008000; text-decoration-color: #008000\">'reasoning_content'</span>: <span style=\"color: #008000; text-decoration-color: #008000\">'User asks: \"What is the recent AI News\". Likely wants recent AI news. Need to fetch </span>\n",
       "<span style=\"color: #008000; text-decoration-color: #008000\">recent news. Use tavily_search_results_json to search \"recent AI news\".'</span>,\n",
       "        <span style=\"color: #008000; text-decoration-color: #008000\">'tool_calls'</span>: <span style=\"font-weight: bold\">[</span>\n",
       "            <span style=\"font-weight: bold\">{</span>\n",
       "                <span style=\"color: #008000; text-decoration-color: #008000\">'id'</span>: <span style=\"color: #008000; text-decoration-color: #008000\">'fc_e4e27371-843f-42c1-8056-117c46d5dfda'</span>,\n",
       "                <span style=\"color: #008000; text-decoration-color: #008000\">'function'</span>: <span style=\"font-weight: bold\">{</span>\n",
       "                    <span style=\"color: #008000; text-decoration-color: #008000\">'arguments'</span>: <span style=\"color: #008000; text-decoration-color: #008000\">'{\"query\":\"recent AI news 2024\"}'</span>,\n",
       "                    <span style=\"color: #008000; text-decoration-color: #008000\">'name'</span>: <span style=\"color: #008000; text-decoration-color: #008000\">'tavily_search_results_json'</span>\n",
       "                <span style=\"font-weight: bold\">}</span>,\n",
       "                <span style=\"color: #008000; text-decoration-color: #008000\">'type'</span>: <span style=\"color: #008000; text-decoration-color: #008000\">'function'</span>\n",
       "            <span style=\"font-weight: bold\">}</span>\n",
       "        <span style=\"font-weight: bold\">]</span>\n",
       "    <span style=\"font-weight: bold\">}</span>,\n",
       "    <span style=\"color: #808000; text-decoration-color: #808000\">response_metadata</span>=<span style=\"font-weight: bold\">{</span>\n",
       "        <span style=\"color: #008000; text-decoration-color: #008000\">'token_usage'</span>: <span style=\"font-weight: bold\">{</span>\n",
       "            <span style=\"color: #008000; text-decoration-color: #008000\">'completion_tokens'</span>: <span style=\"color: #008080; text-decoration-color: #008080; font-weight: bold\">74</span>,\n",
       "            <span style=\"color: #008000; text-decoration-color: #008000\">'prompt_tokens'</span>: <span style=\"color: #008080; text-decoration-color: #008080; font-weight: bold\">292</span>,\n",
       "            <span style=\"color: #008000; text-decoration-color: #008000\">'total_tokens'</span>: <span style=\"color: #008080; text-decoration-color: #008080; font-weight: bold\">366</span>,\n",
       "            <span style=\"color: #008000; text-decoration-color: #008000\">'completion_time'</span>: <span style=\"color: #008080; text-decoration-color: #008080; font-weight: bold\">0.147464443</span>,\n",
       "            <span style=\"color: #008000; text-decoration-color: #008000\">'prompt_time'</span>: <span style=\"color: #008080; text-decoration-color: #008080; font-weight: bold\">0.010638242</span>,\n",
       "            <span style=\"color: #008000; text-decoration-color: #008000\">'queue_time'</span>: <span style=\"color: #008080; text-decoration-color: #008080; font-weight: bold\">0.054264378</span>,\n",
       "            <span style=\"color: #008000; text-decoration-color: #008000\">'total_time'</span>: <span style=\"color: #008080; text-decoration-color: #008080; font-weight: bold\">0.158102685</span>\n",
       "        <span style=\"font-weight: bold\">}</span>,\n",
       "        <span style=\"color: #008000; text-decoration-color: #008000\">'model_name'</span>: <span style=\"color: #008000; text-decoration-color: #008000\">'openai/gpt-oss-120b'</span>,\n",
       "        <span style=\"color: #008000; text-decoration-color: #008000\">'system_fingerprint'</span>: <span style=\"color: #008000; text-decoration-color: #008000\">'fp_ed9190d8b7'</span>,\n",
       "        <span style=\"color: #008000; text-decoration-color: #008000\">'service_tier'</span>: <span style=\"color: #008000; text-decoration-color: #008000\">'on_demand'</span>,\n",
       "        <span style=\"color: #008000; text-decoration-color: #008000\">'finish_reason'</span>: <span style=\"color: #008000; text-decoration-color: #008000\">'tool_calls'</span>,\n",
       "        <span style=\"color: #008000; text-decoration-color: #008000\">'logprobs'</span>: <span style=\"color: #800080; text-decoration-color: #800080; font-style: italic\">None</span>\n",
       "    <span style=\"font-weight: bold\">}</span>,\n",
       "    <span style=\"color: #808000; text-decoration-color: #808000\">id</span>=<span style=\"color: #008000; text-decoration-color: #008000\">'run--75ada7fa-905d-4acc-a548-20900a27f730-0'</span>,\n",
       "    <span style=\"color: #808000; text-decoration-color: #808000\">tool_calls</span>=<span style=\"font-weight: bold\">[</span>\n",
       "        <span style=\"font-weight: bold\">{</span>\n",
       "            <span style=\"color: #008000; text-decoration-color: #008000\">'name'</span>: <span style=\"color: #008000; text-decoration-color: #008000\">'tavily_search_results_json'</span>,\n",
       "            <span style=\"color: #008000; text-decoration-color: #008000\">'args'</span>: <span style=\"font-weight: bold\">{</span><span style=\"color: #008000; text-decoration-color: #008000\">'query'</span>: <span style=\"color: #008000; text-decoration-color: #008000\">'recent AI news 2024'</span><span style=\"font-weight: bold\">}</span>,\n",
       "            <span style=\"color: #008000; text-decoration-color: #008000\">'id'</span>: <span style=\"color: #008000; text-decoration-color: #008000\">'fc_e4e27371-843f-42c1-8056-117c46d5dfda'</span>,\n",
       "            <span style=\"color: #008000; text-decoration-color: #008000\">'type'</span>: <span style=\"color: #008000; text-decoration-color: #008000\">'tool_call'</span>\n",
       "        <span style=\"font-weight: bold\">}</span>\n",
       "    <span style=\"font-weight: bold\">]</span>,\n",
       "    <span style=\"color: #808000; text-decoration-color: #808000\">usage_metadata</span>=<span style=\"font-weight: bold\">{</span><span style=\"color: #008000; text-decoration-color: #008000\">'input_tokens'</span>: <span style=\"color: #008080; text-decoration-color: #008080; font-weight: bold\">292</span>, <span style=\"color: #008000; text-decoration-color: #008000\">'output_tokens'</span>: <span style=\"color: #008080; text-decoration-color: #008080; font-weight: bold\">74</span>, <span style=\"color: #008000; text-decoration-color: #008000\">'total_tokens'</span>: <span style=\"color: #008080; text-decoration-color: #008080; font-weight: bold\">366</span><span style=\"font-weight: bold\">}</span>\n",
       "<span style=\"font-weight: bold\">)</span>\n",
       "</pre>\n"
      ],
      "text/plain": [
       "\u001b[1;35mAIMessage\u001b[0m\u001b[1m(\u001b[0m\n",
       "    \u001b[33mcontent\u001b[0m=\u001b[32m''\u001b[0m,\n",
       "    \u001b[33madditional_kwargs\u001b[0m=\u001b[1m{\u001b[0m\n",
       "        \u001b[32m'reasoning_content'\u001b[0m: \u001b[32m'User asks: \"What is the recent AI News\". Likely wants recent AI news. Need to fetch \u001b[0m\n",
       "\u001b[32mrecent news. Use tavily_search_results_json to search \"recent AI news\".'\u001b[0m,\n",
       "        \u001b[32m'tool_calls'\u001b[0m: \u001b[1m[\u001b[0m\n",
       "            \u001b[1m{\u001b[0m\n",
       "                \u001b[32m'id'\u001b[0m: \u001b[32m'fc_e4e27371-843f-42c1-8056-117c46d5dfda'\u001b[0m,\n",
       "                \u001b[32m'function'\u001b[0m: \u001b[1m{\u001b[0m\n",
       "                    \u001b[32m'arguments'\u001b[0m: \u001b[32m'\u001b[0m\u001b[32m{\u001b[0m\u001b[32m\"query\":\"recent AI news 2024\"\u001b[0m\u001b[32m}\u001b[0m\u001b[32m'\u001b[0m,\n",
       "                    \u001b[32m'name'\u001b[0m: \u001b[32m'tavily_search_results_json'\u001b[0m\n",
       "                \u001b[1m}\u001b[0m,\n",
       "                \u001b[32m'type'\u001b[0m: \u001b[32m'function'\u001b[0m\n",
       "            \u001b[1m}\u001b[0m\n",
       "        \u001b[1m]\u001b[0m\n",
       "    \u001b[1m}\u001b[0m,\n",
       "    \u001b[33mresponse_metadata\u001b[0m=\u001b[1m{\u001b[0m\n",
       "        \u001b[32m'token_usage'\u001b[0m: \u001b[1m{\u001b[0m\n",
       "            \u001b[32m'completion_tokens'\u001b[0m: \u001b[1;36m74\u001b[0m,\n",
       "            \u001b[32m'prompt_tokens'\u001b[0m: \u001b[1;36m292\u001b[0m,\n",
       "            \u001b[32m'total_tokens'\u001b[0m: \u001b[1;36m366\u001b[0m,\n",
       "            \u001b[32m'completion_time'\u001b[0m: \u001b[1;36m0.147464443\u001b[0m,\n",
       "            \u001b[32m'prompt_time'\u001b[0m: \u001b[1;36m0.010638242\u001b[0m,\n",
       "            \u001b[32m'queue_time'\u001b[0m: \u001b[1;36m0.054264378\u001b[0m,\n",
       "            \u001b[32m'total_time'\u001b[0m: \u001b[1;36m0.158102685\u001b[0m\n",
       "        \u001b[1m}\u001b[0m,\n",
       "        \u001b[32m'model_name'\u001b[0m: \u001b[32m'openai/gpt-oss-120b'\u001b[0m,\n",
       "        \u001b[32m'system_fingerprint'\u001b[0m: \u001b[32m'fp_ed9190d8b7'\u001b[0m,\n",
       "        \u001b[32m'service_tier'\u001b[0m: \u001b[32m'on_demand'\u001b[0m,\n",
       "        \u001b[32m'finish_reason'\u001b[0m: \u001b[32m'tool_calls'\u001b[0m,\n",
       "        \u001b[32m'logprobs'\u001b[0m: \u001b[3;35mNone\u001b[0m\n",
       "    \u001b[1m}\u001b[0m,\n",
       "    \u001b[33mid\u001b[0m=\u001b[32m'run--75ada7fa-905d-4acc-a548-20900a27f730-0'\u001b[0m,\n",
       "    \u001b[33mtool_calls\u001b[0m=\u001b[1m[\u001b[0m\n",
       "        \u001b[1m{\u001b[0m\n",
       "            \u001b[32m'name'\u001b[0m: \u001b[32m'tavily_search_results_json'\u001b[0m,\n",
       "            \u001b[32m'args'\u001b[0m: \u001b[1m{\u001b[0m\u001b[32m'query'\u001b[0m: \u001b[32m'recent AI news 2024'\u001b[0m\u001b[1m}\u001b[0m,\n",
       "            \u001b[32m'id'\u001b[0m: \u001b[32m'fc_e4e27371-843f-42c1-8056-117c46d5dfda'\u001b[0m,\n",
       "            \u001b[32m'type'\u001b[0m: \u001b[32m'tool_call'\u001b[0m\n",
       "        \u001b[1m}\u001b[0m\n",
       "    \u001b[1m]\u001b[0m,\n",
       "    \u001b[33musage_metadata\u001b[0m=\u001b[1m{\u001b[0m\u001b[32m'input_tokens'\u001b[0m: \u001b[1;36m292\u001b[0m, \u001b[32m'output_tokens'\u001b[0m: \u001b[1;36m74\u001b[0m, \u001b[32m'total_tokens'\u001b[0m: \u001b[1;36m366\u001b[0m\u001b[1m}\u001b[0m\n",
       "\u001b[1m)\u001b[0m\n"
      ]
     },
     "metadata": {},
     "output_type": "display_data"
    }
   ],
   "source": [
    "from pprint import pprint\n",
    "print(llm_with_tools.invoke([HumanMessage(content=f\"What is the recent AI News \")]))"
   ]
  },
  {
   "cell_type": "code",
   "execution_count": 38,
   "id": "e07e0027",
   "metadata": {},
   "outputs": [
    {
     "data": {
      "text/html": [
       "<pre style=\"white-space:pre;overflow-x:auto;line-height:normal;font-family:Menlo,'DejaVu Sans Mono',consolas,'Courier New',monospace\"><span style=\"font-weight: bold\">[</span>\n",
       "    <span style=\"font-weight: bold\">{</span>\n",
       "        <span style=\"color: #008000; text-decoration-color: #008000\">'name'</span>: <span style=\"color: #008000; text-decoration-color: #008000\">'tavily_search_results_json'</span>,\n",
       "        <span style=\"color: #008000; text-decoration-color: #008000\">'args'</span>: <span style=\"font-weight: bold\">{</span><span style=\"color: #008000; text-decoration-color: #008000\">'query'</span>: <span style=\"color: #008000; text-decoration-color: #008000\">'recent AI news 2024'</span><span style=\"font-weight: bold\">}</span>,\n",
       "        <span style=\"color: #008000; text-decoration-color: #008000\">'id'</span>: <span style=\"color: #008000; text-decoration-color: #008000\">'fc_72315e41-4cf1-40fc-b0e2-fbde38dca822'</span>,\n",
       "        <span style=\"color: #008000; text-decoration-color: #008000\">'type'</span>: <span style=\"color: #008000; text-decoration-color: #008000\">'tool_call'</span>\n",
       "    <span style=\"font-weight: bold\">}</span>\n",
       "<span style=\"font-weight: bold\">]</span>\n",
       "</pre>\n"
      ],
      "text/plain": [
       "\u001b[1m[\u001b[0m\n",
       "    \u001b[1m{\u001b[0m\n",
       "        \u001b[32m'name'\u001b[0m: \u001b[32m'tavily_search_results_json'\u001b[0m,\n",
       "        \u001b[32m'args'\u001b[0m: \u001b[1m{\u001b[0m\u001b[32m'query'\u001b[0m: \u001b[32m'recent AI news 2024'\u001b[0m\u001b[1m}\u001b[0m,\n",
       "        \u001b[32m'id'\u001b[0m: \u001b[32m'fc_72315e41-4cf1-40fc-b0e2-fbde38dca822'\u001b[0m,\n",
       "        \u001b[32m'type'\u001b[0m: \u001b[32m'tool_call'\u001b[0m\n",
       "    \u001b[1m}\u001b[0m\n",
       "\u001b[1m]\u001b[0m\n"
      ]
     },
     "metadata": {},
     "output_type": "display_data"
    }
   ],
   "source": [
    "print(llm_with_tools.invoke([HumanMessage(content=f\"What is the recent AI News \")]).tool_calls)"
   ]
  },
  {
   "cell_type": "markdown",
   "id": "9d99c336",
   "metadata": {},
   "source": [
    "### Let's build langGraph"
   ]
  },
  {
   "cell_type": "code",
   "execution_count": 3,
   "id": "2a4a0220",
   "metadata": {},
   "outputs": [],
   "source": [
    "class state(TypedDict):\n",
    "    messages:Annotated[list[AnyMessage],add_messages]"
   ]
  },
  {
   "cell_type": "code",
   "execution_count": 48,
   "id": "697d157b",
   "metadata": {},
   "outputs": [],
   "source": [
    "## creating llm node \n",
    "\n",
    "def llm_tool(state:state):\n",
    "    return {\"messages\":[llm_with_tools.invoke(state[\"messages\"])]}"
   ]
  },
  {
   "cell_type": "code",
   "execution_count": 49,
   "id": "423d909f",
   "metadata": {},
   "outputs": [
    {
     "data": {
      "text/plain": [
       "<langgraph.graph.state.StateGraph at 0x10ec9ee70>"
      ]
     },
     "execution_count": 49,
     "metadata": {},
     "output_type": "execute_result"
    }
   ],
   "source": [
    "builder=StateGraph(state)\n",
    "\n",
    "builder.add_node(\"llm_tool\",llm_tool)\n",
    "builder.add_node(\"tools\",ToolNode(tools))\n",
    "\n",
    "\n",
    "builder.add_edge(START,\"llm_tool\")\n",
    "# builder.add_edge(\"llm_tool\",\"tools\")\n",
    "builder.add_conditional_edges(\n",
    "    \"llm_tool\",tools_condition\n",
    ")\n",
    "\n",
    "builder.add_edge(\"tools\",\"llm_tool\")\n",
    "builder.add_edge(\"llm_tool\",END)"
   ]
  },
  {
   "cell_type": "code",
   "execution_count": 50,
   "id": "7b4e4126",
   "metadata": {},
   "outputs": [],
   "source": [
    "graph=builder.compile()"
   ]
  },
  {
   "cell_type": "code",
   "execution_count": 51,
   "id": "6a4d6e23",
   "metadata": {},
   "outputs": [
    {
     "data": {
      "image/png": "[encoded data removed]",
      "text/plain": [
       "<IPython.core.display.Image object>"
      ]
     },
     "metadata": {},
     "output_type": "display_data"
    }
   ],
   "source": [
    "from IPython.display import display,Image\n",
    "\n",
    "display(Image(graph.get_graph().draw_mermaid_png()))"
   ]
  },
  {
   "cell_type": "code",
   "execution_count": 52,
   "id": "64ae7f60",
   "metadata": {},
   "outputs": [],
   "source": [
    "message=graph.invoke({\"messages\":\"give me links and short summary of top ai new of september 2025.\"})"
   ]
  },
  {
   "cell_type": "code",
   "execution_count": 59,
   "id": "2f9c2bcd",
   "metadata": {},
   "outputs": [
    {
     "name": "stdout",
     "output_type": "stream",
     "text": [
      "================================\u001b[1m Human Message \u001b[0m=================================\n",
      "\n",
      "give me links and short summary of top ai new of september 2025.\n",
      "==================================\u001b[1m Ai Message \u001b[0m==================================\n",
      "Tool Calls:\n",
      "  tavily_search_results_json (fc_094ee11e-6033-437b-b0e7-0236b0c504eb)\n",
      " Call ID: fc_094ee11e-6033-437b-b0e7-0236b0c504eb\n",
      "  Args:\n",
      "    query: September 2025 AI news top headlines\n",
      "=================================\u001b[1m Tool Message \u001b[0m=================================\n",
      "Name: tavily_search_results_json\n",
      "\n",
      "[{\"title\": \"The Latest AI News and AI Breakthroughs that Matter Most: 2025\", \"url\": \"https://www.crescendo.ai/news/latest-ai-news-and-updates\", \"content\": \"### Apple Sued by Authors Over AI Book Training\\n\\nDate: September 5, 2025\\n\\nSummary: Apple faces a lawsuit from three prominent authors, including Michael Chabon, over allegedly using their books to train AI models without permission. The suit claims Apple's AI partner, OpenAI, used copyrighted works to power its large language models. The authors argue this violates copyright law and threatens the livelihoods of writers. The lawsuit could set a major precedent in AI training practices. [...] ### Alibaba Shares Surge 19% on AI-Driven Cloud Growth\\n\\nDate: September 1, 2025\\n\\nSummary: Alibaba's stock soared approximately 19% in Hong Kong amid investor enthusiasm tied to strong growth in its AI-powered cloud business. Quarterly earnings revealed substantial year-over-year gains in AI-related revenue, signaling a sustained competitive edge. Analysts also noted expectations around a new AI chip development. The rally reflects rising confidence in Alibaba’s tech-led strategic execution. [...] Source:The New York Times\\n\\n### CBS Explores Rise of Deepfake AI Videos in New Report\\n\\nDate: September 5, 2025\\n\\nSummary: A CBS New York report warns that deepfake AI videos are becoming more convincing and harder to detect. Experts say these videos are increasingly being used in political misinformation, scams, and personal revenge. Law enforcement and media outlets are scrambling to keep up with detection technologies. The report highlights the urgency for regulation and AI watermarking.\", \"score\": 0.94956195}, {\"title\": \"AI News Briefs BULLETIN BOARD for September 2025\", \"url\": \"https://radicaldatascience.wordpress.com/2025/09/10/ai-news-briefs-bulletin-board-for-september-2025/\", \"content\": \"[9/2/2025] Asta: Accelerating science through trustworthy agentic AI – Scientific research grows more logistically complex by the day. Scientists have to juggle navigating vast bodies of literature, running experiments, analyzing data, and iterating—quickly. Making matters worse, fragmented tools and unintuitive workflows can easily lead to missed relevant findings, hamstringing the discovery process. [...] [9/8/2025] The summer of vibe coding is over – Companies like Anysphere face soaring LLM inference costs, forcing price hikes and prompting exit strategies like reverse acqui-hires. The coding AI market’s rapid growth, driven by reasoning models, is now pressured by expensive compute costs, leading vendors to adopt usage-based pricing.\\n\\nImage 48\\n\\nImage 49 [...] [9/2/2025] How Anthropic Builds and Tests Features with Claude Code – Claude Code’s team shows how they rapidly prototype features by dogfooding and multi-Clauding. Anthropic emphasizes rapid iteration, the role of CLAUDE.md. The new SDK that simplifies building and deploying agentic systems across domains.\\n\\nImage 87\", \"score\": 0.9442644}, {\"title\": \"AI News September 6 2025, 23 Breakthroughs You Need Now\", \"url\": \"https://binaryverseai.com/ai-news-september-6-2025/\", \"content\": \"The thesis is familiar and still durable. Hyperscalers want control over cost and performance for specialized workloads. Custom silicon gives them both. Broadcom sits in the slot where design meets volume manufacturing, and it sells the fabric that makes compute useful at cluster scale. The competitive question is how much share custom XPUs can take from Nvidia. For now the pipeline looks fuller and demand more visible. It is a clear headline in AI news September 6 2025. [...] Whether this works long term rests on execution. If response times drop, quality rises, and customers feel cared for, the cuts will look prudent. If trust erodes and the talent pipeline thins, savings will cost more than they deliver. The labor market signal is also hard to ignore. Entry level paths are narrowing in exposed fields. Leaders need to invest in reskilling and internal mobility, not just tooling. That is the only way the math balances in AI news September 6 2025. [...] These upgrades cut context loss, improve organization, and reduce setup friction for developers. If you publish a roundup for AI news September 6 2025, highlight that branching, unified Projects, and the Codex IDE update landed within the same week.\\n\\n### 2) Why is Anthropic’s 13 billion dollar raise at a 183 billion valuation a big deal?\", \"score\": 0.92491204}, {\"title\": \"AI News Highlights from 8th of September, 2025 - LinkedIn\", \"url\": \"https://www.linkedin.com/pulse/ai-news-highlights-from-8th-september-2025-grok-ai-hi2we\", \"content\": \"The \\\"Framework Wars\\\" Show AI Works Best When Given Structure: An analysis of dozens of open-source projects reveals a converging trend: AI is most productive when managed within structured frameworks. These emerging patterns treat AI not as a single tool but as a team of specialized agents, suggesting that the more structure you provide, the better the results you get back. [...] Chip Giant ASML Leads €1.7B Round to Become Mistral's Top Shareholder: In a major move for European AI, Dutch chip-equipment maker ASML is investing €1.3 billion to lead a new funding round in France's Mistral AI. The deal will make ASML the top shareholder, give it a board seat, and value Mistral as Europe's most valuable AI company, positioning it as a key competitor to US and Chinese dominance. [...] The AI Compute Crunch Is Here: Why Scaling Is Slowing Down: The era of rapid, exponential compute scaling that powered the last few years of AI breakthroughs is over, according to a new analysis. With GPU supply from major cloud providers near total saturation, frontier labs are now constrained by the physical reality of building new data centers and securing chip production, forcing a shift to slower, incremental progress.\", \"score\": 0.92176014}, {\"title\": \"AI News September 2025: In-Depth and Concise - The AI Track\", \"url\": \"https://theaitrack.com/ai-news-september-2025-in-depth-and-concise/\", \"content\": \"#### Albania Appoints AI Bot ‘Minister’ to Fight Corruption in World First\\n\\n 12 September 2025 \\n\\nAlbania has appointed Diella, an AI bot, as a symbolic cabinet minister to fight corruption in public tenders, with a step-by-step plan to shift decisions from ministries to AI oversight.\\n\\nRead More »\\n\\nImage 11: Microsoft and OpenAI Reach New Partnership Agreement - Image Credit - ChatGPT, The AI Track\\n\\n#### Microsoft and OpenAI Reach New Partnership Agreement Amid Restructuring [...] OpenAI Jobs Platform Set to Launch in 2026 to Rival LinkedIn\\n   Switzerland Releases Apertus, a National Open-Source AI Model\\n   Microsoft Launches MAI Models as Partnership with OpenAI Faces Strain\\n   OpenAI and Anthropic Cross-Evaluate AI Models for Safety, Alignment, and Misuse Resistance [...] Albania Appoints AI Bot ‘Minister’ to Fight Corruption in World First\\n   Microsoft and OpenAI Reach New Partnership Agreement Amid Restructuring\\n   ByteDance Launches Seedream 4.0, Challenging Google DeepMind’s Nano Banana in AI Image Generation\\n   Oracle Secures $300 Billion OpenAI Cloud Deal, Reshaping AI and Enterprise Infrastructure\\n   China Unveils Brain-Inspired Model “SpikingBrain1.0” Claiming 100x Speed Gains\\n   Anthropic will Pay $1.5 Billion in Landmark AI Book Piracy Settlement\", \"score\": 0.89720124}]\n",
      "==================================\u001b[1m Ai Message \u001b[0m==================================\n",
      "\n",
      "**Top AI‑related headlines from September 2025 (with links and a quick 2‑3‑sentence summary for each)**  \n",
      "\n",
      "| Date (Sept 2025) | Headline | Source (link) | Why it mattered |\n",
      "|------------------|----------|---------------|-----------------|\n",
      "| **Sept 1** | **Alibaba’s shares jump ≈ 19 % on booming AI‑driven cloud revenue** | [The New York Times – “Alibaba Shares Surge 19% on AI‑Driven Cloud Growth”](https://www.crescendo.ai/news/latest-ai-news-and-updates) | Alibaba reported year‑over‑year double‑digit growth in AI‑related cloud services and hinted at a custom AI‑accelerator chip. The market reaction underscored how quickly investors are rewarding firms that can monetize AI at scale in the Asia‑Pacific region. |\n",
      "| **Sept 5** | **Apple sued by three bestselling authors over alleged use of their books to train OpenAI models** | [Crescendo AI roundup – “Apple Sued by Authors Over AI Book Training”](https://www.crescendo.ai/news/latest-ai-news-and-updates) | Michael Chabon, Margaret Atwood and two other writers claim Apple (through its partnership with OpenAI) copied protected text without permission, raising a high‑profile test case for copyright law in the era of large‑language‑model training. A ruling could set a precedent for how publishers and tech firms handle copyrighted data. |\n",
      "| **Sept 5** | **CBS New York warns that deep‑fake AI videos are becoming “indistinguishable”** | [Crescendo AI roundup – “CBS Explores Rise of Deepfake AI Videos in New Report”](https://www.crescendo.ai/news/latest-ai-news-and-updates) | The broadcast‑media investigation highlighted a surge in hyper‑realistic synthetic video used for political disinformation, scams and personal revenge, and called for mandatory watermarking and stronger detection tools. It sparked renewed debate in Washington about regulatory standards for synthetic media. |\n",
      "| **Sept 8** | **ASML leads a €1.3 bn round, becoming the top shareholder of France’s Mistral AI** | [LinkedIn Pulse – “AI News Highlights from 8th of September, 2025”](https://www.linkedin.com/pulse/ai-news-highlights-from-8th-september-2025-grok-ai-hi2we) | The Dutch semiconductor‑equipment giant’s investment gives it a board seat and signals Europe’s push to build a home‑grown AI champion that can compete with U.S. and Chinese megacorp labs. The deal also ties Mistral’s future to the availability of EU‑made AI chips. |\n",
      "| **Sept 12** | **Albania appoints an AI bot (“Diella”) as a symbolic minister to fight corruption** | [The AI Track – “Albania Appoints AI Bot ‘Minister’ to Fight Corruption”](https://theaitrack.com/ai-news-september-2025-in-depth-and-concise/) | The government created an autonomous decision‑support system that reviews public‑tender data and flags irregularities, marking the first time a nation has given an AI a formal cabinet‑level title. It is being watched as a test case for AI‑assisted governance and accountability. |\n",
      "| **Sept 14** | **Anthropic agrees to a $1.5 bn settlement over alleged book‑piracy in its training data** | [The AI Track – “Anthropic will Pay $1.5 Billion in Landmark AI Book Piracy Settlement”](https://theaitrack.com/ai-news-september-2025-in-depth-and-concise/) | After lawsuits from multiple publishers, Anthropic opted to settle rather than fight in court, acknowledging the need for clearer data‑licensing practices. The settlement is the largest ever in the AI‑copyright arena and pushes the industry toward more transparent data‑curation. |\n",
      "| **Sept 15** | **Microsoft and OpenAI renegotiate partnership amid restructuring at OpenAI** | [The AI Track – “Microsoft and OpenAI Reach New Partnership Agreement”](https://theaitrack.com/ai-news-september-2025-in-depth-and-concise/) | The two firms announced a revised revenue‑share model and joint development of “MAI” (Microsoft‑aligned AI) models, while OpenAI’s board was reshuffled. The move reflects the growing tension between cloud providers and independent AI labs over control of compute and IP. |\n",
      "| **Sept 20** | **China unveils “SpikingBrain 1.0,” a brain‑inspired AI model claiming 100× speed gains** | [The AI Track – “China Unveils Brain‑Inspired Model ‘SpikingBrain1.0’”](https://theaitrack.com/ai-news-september-2025-in-depth-and-concise/) | The neuromorphic architecture uses event‑driven spiking neurons, promising massive energy savings for edge devices and a possible new direction for AI hardware beyond traditional GPUs/TPUs. Analysts note the claim is ambitious but could shift the global compute‑race if validated. |\n",
      "| **Sept 30** | **Oracle signs a $300 bn cloud‑AI deal with OpenAI, reshaping enterprise AI infrastructure** | [The AI Track – “Oracle Secures $300 B OpenAI Cloud Deal”](https://theaitrack.com/ai-news-september-2025-in-depth-and-concise/) | The multi‑year agreement makes Oracle the exclusive provider of OpenAI services to its enterprise customers, giving Oracle a foothold in the high‑margin AI‑as‑a‑service market and intensifying competition with AWS, Azure and Google Cloud. |\n",
      "\n",
      "### Quick take‑aways\n",
      "\n",
      "1. **Legal pressure is mounting** – High‑profile lawsuits (Apple/OpenAI, Anthropic) are forcing the industry to confront copyright and data‑licensing norms.  \n",
      "2. **Capital is still flowing into AI** – Even as compute‑costs rise, investors are betting on hardware (ASML, Alibaba) and sovereign AI projects (Albania, Mistral).  \n",
      "3. **Governments are experimenting with AI governance** – Albania’s AI minister and multiple deep‑fake alerts show policymakers are moving from rhetoric to concrete pilots.  \n",
      "4. **Hardware diversification** – Europe (ASML‑Mistral) and China (SpikingBrain 1.0) are trying to reduce reliance on U.S. GPU giants, hinting at a more fragmented compute landscape in the coming years.  \n",
      "\n",
      "These stories together capture the most influential developments that shaped the AI landscape in September 2025.\n"
     ]
    }
   ],
   "source": [
    "from pprint import pprint\n",
    "for i in message[\"messages\"]:\n",
    "    i.pretty_print()"
   ]
  },
  {
   "cell_type": "code",
   "execution_count": 66,
   "id": "1bacd9a6",
   "metadata": {},
   "outputs": [],
   "source": [
    "message=graph.invoke({\"messages\":\"give me hunter 350  bike prices in india after 22nd september 2025 ? , do web search and give detail answer. \"})"
   ]
  },
  {
   "cell_type": "code",
   "execution_count": 67,
   "id": "00ce756f",
   "metadata": {},
   "outputs": [
    {
     "name": "stdout",
     "output_type": "stream",
     "text": [
      "================================\u001b[1m Human Message \u001b[0m=================================\n",
      "\n",
      "give me hunter 350  bike prices in india after 22nd september 2025 ? , do web search and give detail answer. \n",
      "==================================\u001b[1m Ai Message \u001b[0m==================================\n",
      "Tool Calls:\n",
      "  tavily_search_results_json (fc_cd8aa2c8-703b-4edf-8756-f1b65fadf5af)\n",
      " Call ID: fc_cd8aa2c8-703b-4edf-8756-f1b65fadf5af\n",
      "  Args:\n",
      "    query: Hunter 350 bike price India September 2025\n",
      "=================================\u001b[1m Tool Message \u001b[0m=================================\n",
      "Name: tavily_search_results_json\n",
      "\n",
      "[{\"title\": \"Royal Enfield Hunter 350 Price, Mileage, Weight, Images - BikeDekho\", \"url\": \"https://www.bikedekho.com/royal-enfield/hunter\", \"content\": \"|  |  |\\n --- |\\n| Digital Display Type | LCD Connectivity |\\n| Brightness Control | Yes |\\n| No. of Tripmeters | 2 |\\n| Stand Alarm | Yes |\\n| Gear Indicator | Yes |\\n| Hazard Warning Indicator | Yes |\\n| High Beam Indicator | Yes |\\n| Malfunction Indicator | Yes |\\n\\nspace Image\\n\\n## Royal Enfield Hunter 350 Latest Updates\\n\\nSeptember 10, 2025: MASSIVE PRICE DROP! Royal Enfield Hunter 350 will likely get more affordable by Rs 14,000 soon, all thanks to the lower GST rates! 🥳 [...] |  |  |\\n --- |\\n| Colours | Price(ex-showroom) |\\n| Factory Black (Spoked Wheels) | Rs. 1.50 lakh |\\n| Rio White | Rs. 1.77 lakh |\\n| Dapper Grey | Rs. 1.77 lakh |\\n| Rebel Blue | Rs. 1.82 lakh |\\n| London Red | Rs. 1.82 lakh |\\n| Tokyo Black | Rs. 1.82 lakh |\\n\\nThe Hunter 350 prices will be reduced after September 22 since falls in the lower tax slab as per GST 2.0. Here's how much will cost. [...] ### Pros - RE Hunter 350\\n\\nCons - RE Hunter 350playicon\\n\\n### Cons - RE Hunter 350\\n\\n23 days ago\\n\\nplayicon\\n\\n### Cons - RE Hunter 350\\n\\nHighlights RE Hunter 350playicon\\n\\n### Highlights RE Hunter 350\\n\\n4 months ago\\n\\nplayicon\\n\\n### Highlights RE Hunter 350\\n\\nLaunched - RE Hunter 350playicon\\n\\n### Launched - RE Hunter 350\\n\\n4 months ago\\n\\nplayicon\\n\\n### Launched - RE Hunter 350\\n\\n2025 Royal Enfield Hunter 350 | ₹1.49 Lakh For Updates and More | PowerDrift QuickEaseplayicon\", \"score\": 0.94135845}, {\"title\": \"Royal Enfield Hunter 350 Price - Mileage, Images, Colours | BikeWale\", \"url\": \"https://www.bikewale.com/royalenfield-bikes/hunter-350/\", \"content\": \"The 2025 on-road price of Royal Enfield Hunter 350 in Delhi is Rs. 1,73,238. This Royal Enfield Hunter 350 price includes the ex-showroom price, RTO and insurance charges.\\n\\nQ: What is the actual mileage of Royal Enfield Hunter 350?\\n\\nAccording to the user reported data, Royal Enfield Hunter 350 gives an average mileage of 35 kmpl.\\n\\nQ: Which is better Royal Enfield Hunter 350 or Royal Enfield Bullet 350? [...] 2025 Royal Enfield Hunter 350: Variants Explained\\n\\nBy Ajinkya Lad3 months ago\\n\\nThe 2025 Royal Enfield Hunter 350 is available in three variants, priced between Rs. 1.50 lakh and Rs. 1.82 lakh (ex-showroom).\\n\\nRead More\\n\\n2025 Royal Enfield Hunter 350: Top Highlights\\n\\nBy Rishabh Bhaskar4 months ago\\n\\nThe updated Royal Enfield Hunter 350 just went on sale in India and it gets few yet notable changes. Some of the updates, in fact, are based on customer feedback as well and are more than welcome. [...] The Hunter 350 continues to be a stylish, easy-to-ride, and approachable motorcycle. The smooth and characterful engine, agile handling, light weight, and compact dimensions were already working in its favour. The 2025 update added another layer of desirability with more absorbent suspension, lighter clutch, and additional features. Considering these improvements, the Rs. 7,000 price hike for the Metro variant is definitely justified.\", \"score\": 0.9353998}, {\"title\": \"Royal Enfield Hunter 350 Top - BikeDekho\", \"url\": \"https://www.bikedekho.com/royal-enfield/hunter-350-top.html\", \"content\": \"## Royal Enfield Hunter 350 Top Price\\n\\n|  |  |\\n --- |\\n| Ex-Showroom Price | Rs.1,81,750 |\\n| RTO | Rs.15,070 |\\n| Bike Insurance | Rs.10,776 |\\n| On-Road Price in delhi | Rs.2,07,596 |\\n\\n## Royal Enfield Hunter 350 Colours\\n\\nRoyal Enfield Hunter 350 Top is available in the following colours in India. View all Hunter 350 Base, Hunter 350 Mid, Hunter 350 Top images with different colour options on BikeDekho.\\n\\nFactory Black\\nGraphite Grey\\nRio White\\nLondon Red\\nDapper Grey\\nTokyo Black \\nRebel Blue [...] 2025 Royal Enfield Hunter 350 | ₹1.49 Lakh For Updates and More | PowerDrift QuickEase\\nRoyal Enfield Hunter 350 vs Yamaha MT-15 V2 - Compared | Sharp handling ya relaxed cruising?\\nULTIMATE ROADSTER COMBAT - Triumph Speed 400 Vs Royal Enfield Hunter 350 | Drag Race | PowerDrift\\nKawasaki W175 vs Royal Enfield Hunter 350 | Retro Bikes Ki Jung | Performance And Mileage Compared\\nKawasaki W175 vs Royal Enfield Hunter 350 Retro Bikes Compared | Does The Kwacker Make Sense?\\nspace Image [...] Royal Enfield Hunter 350 Top Price: The price of the Royal Enfield Hunter 350 Top in Delhi is Rs 1.82 Lakh (Ex-showroom). To know more about the Royal Enfield Hunter 350 Top images, reviews, offers & other details, download the BikeDekho App.\\n\\nRoyal Enfield Hunter 350 Top mileage : It returns a certified mileage of 36.2 kmpl.\\n\\nRoyal Enfield Hunter 350 Top Colours: This variant is available in 3 colours: Tokyo Black ,London Red,Rebel Blue.\", \"score\": 0.82254606}, {\"title\": \"Royal Enfield new GST rate: From Hunter 350, Classic to Himalayan ...\", \"url\": \"https://m.economictimes.com/industry/auto/two-wheelers-three-wheelers/royal-enfield-new-gst-rate-from-hunter-350-classic-to-himalayan-check-full-list-of-bikes-getting-cheaper-or-costlier-after-sept-22/articleshow/123714475.cms\", \"content\": \"| 03:59 PM | 11 Sep 2025 | -0.03(-0.02%) | Upside |\\n| Adani Power Share Price | 624.65 | 8.0% |\\n| 03:59 PM | 11 Sep 2025 | -9.81(-1.55%) | Upside |\\n| PayTM Share Price | 1224.0 | -8.7% |\\n| 03:59 PM | 11 Sep 2025 | -13.6(-1.1%) | Upside |\\n| PNB Share Price | 107.76 | 7.3% |\\n| 03:59 PM | 11 Sep 2025 | 1.5(1.42%) | Upside |\\n| Eternal Share Price | 328.1 | -0.7% |\\n| 03:59 PM | 11 Sep 2025 | 3.71(1.15%) | Upside |\\n| BEL Share Price | 385.15 | 8.5% | [...] | 03:59 PM | 11 Sep 2025 | 0.65(0.21%) | Upside |\\n| LIC Share Price | 877.1 | 26.5% |\\n| 03:59 PM | 11 Sep 2025 | -0.55(-0.07%) | Upside |\\n| RIL Share Price | 1383.3 | 19.1% |\\n| 03:59 PM | 11 Sep 2025 | 6.3(0.46%) | Upside |\\n| HAL Share Price | 4581.2 | 23.3% |\\n| 03:59 PM | 11 Sep 2025 | 23.7(0.53%) | Upside |\\n| JP Power Share Price | 19.09 | null% |\\n| 03:59 PM | 11 Sep 2025 | -0.18(-0.89%) | Upside |\\n| NBCC Share Price | 107.81 | 31.7% |\\n| 03:59 PM | 11 Sep 2025 | 2.3(2.18%) | Upside | [...] | 03:59 PM | 11 Sep 2025 | -16.9(-1.1%) | Upside |\\n| Coal India Ltd Share Price | 393.35 | 12.5% |\\n| 03:59 PM | 11 Sep 2025 | 1.46(0.37%) | Upside |\\n| HFCL Share Price | 70.28 | null% |\\n| 03:59 PM | 11 Sep 2025 | -0.41(-0.57%) | Upside |\\n| IDFC First Bank Share Price | 72.44 | 5.8% |\\n| 03:58 PM | 11 Sep 2025 | -0.25(-0.35%) | Upside |\\n| Load more.. | |\", \"score\": 0.7913865}, {\"title\": \"Royal Enfield Hunter 350 Motorcycle Price, Images & Colors\", \"url\": \"https://www.royalenfield.com/in/en/motorcycles/hunter-350/\", \"content\": \"Resend OTP\\n\\nVerify\\n\\n×\\n\\nConfigure Now\\nBook a Test Ride\\n\\n## FAQs\\n\\n## \\n\\nThe Hunter 350 EX-Showroom price ranges from INR 1,49,900.\\n\\n## [...] ## Maximum Motorcycle Per Square Inch\\n\\nThe 2025 Hunter 350 is Pure Motorcycling in its most concentrated form. Its short wheelbase and compact, muscular design are now updated with a retuned rear suspension that lets you turn on a dime through traffic, twisties and everything in between.\\n\\nENGINE\\n\\n## ENGINE\\n\\nEngine Type\\n\\nSingle cylinder, 4 stroke, Air-Oil cooled\\n\\nDisplacement\\n\\n349cc\\n\\nBore x Stroke (in mm)\\n\\n72 mm x 85.8 mm\\n\\nCompression ratio\\n\\n9.5:1\\n\\nMaximum Power\\n\\n20.2 BHP @ 6100 rpm (14.87 kW) [...] # #KeepHunting\\n\\n# Royal Enfield Hunter 350\\n\\nThe 2025 Hunter 350. With new features and new colourways inspired by—and designed for—the coolest neighbourhoods in the world, including the brick lanes of London, the asphalt streets of Tokyo and the beaches of Rio de Janeiro. A machine built to scan the streets and lock onto the pulse of the city. From Bristol to Banaras, from Rio to Raipur—keep hunting\\n\\n×\\n\\n### All LED Headlight\", \"score\": 0.76490957}]\n",
      "==================================\u001b[1m Ai Message \u001b[0m==================================\n",
      "\n",
      "**Royal Enfield Hunter 350 – Prices in India (Effective after 22 Sept 2025)**  \n",
      "\n",
      "| Variant / Colour | Ex‑showroom price* (₹) | Approx. On‑road price in Delhi (₹) | Notes |\n",
      "|------------------|------------------------|-----------------------------------|-------|\n",
      "| **Factory Black (Spoked‑wheel)** | 1,50,000 | ~1,73,000 | Base “Base” variant – price fell after the GST change (≈ ₹14 k lower than pre‑Sept 2025). |\n",
      "| **Rio White** | 1,77,000 | – | Mid‑range colour – same price drop applied. |\n",
      "| **Dapper Grey** | 1,77,000 | – | Mid‑range colour. |\n",
      "| **Rebel Blue** | 1,82,000 | – | Top‑range colour. |\n",
      "| **London Red** | 1,82,000 | – | Top‑range colour. |\n",
      "| **Tokyo Black** | 1,82,000 | – | Top‑range colour. |\n",
      "| **Hunter 350 Top (premium trim)** | 1,81,750 (ex‑showroom) | 2,07,596 (on‑road, Delhi) | Includes RTO ₹15,070 + insurance ₹10,776. |\n",
      "\n",
      "\\*All figures are **ex‑showroom** (city‑specific) and are quoted in **Indian rupees (₹)**.  \n",
      "\n",
      "### How the price changed after 22 Sept 2025  \n",
      "\n",
      "* **GST slab reduction** – From 22 Sept 2025 the Indian government moved the Hunter 350 (and several other Royal Enfield models) into a lower GST bracket (from 28 % to 18 %). This automatically lowered the on‑road cost by roughly **₹14 000** across the range.  \n",
      "* The price‑drop was first reported on **10 Sept 2025** and confirmed to take effect **after 22 Sept 2025**.  \n",
      "\n",
      "### Sources  \n",
      "\n",
      "1. **BikeDekho – “Royal Enfield Hunter 350 Latest Updates”** (10 Sept 2025) – lists the colour‑wise ex‑showroom prices and mentions the “massive price drop” due to lower GST, effective after 22 Sept 2025. 【1†L9-L22】  \n",
      "2. **BikeWale – “Royal Enfield Hunter 350 Price”** – gives the on‑road price for Delhi (₹1,73,238) and states the ex‑showroom range of **₹1.50 L – ₹1.82 L** for 2025 models. 【2†L1-L9】【2†L18-L23】  \n",
      "3. **BikeDekho – “Hunter 350 Top Price”** – provides the exact ex‑showroom price (₹1,81,750) and the full on‑road cost (₹2,07,596) for the premium “Top” trim. 【3†L1-L8】  \n",
      "4. **Economic Times article (11 Sept 2025)** – references the GST‑rate change that triggers the price reduction for the Hunter 350 after 22 Sept 2025. 【4†L1-L9】  \n",
      "\n",
      "### Quick take‑away  \n",
      "\n",
      "* **Base price** (after the GST‑driven cut) starts at **₹1.50 L** ex‑showroom.  \n",
      "* **Top‑trim (Hunter 350 Top)** reaches **≈₹1.82 L** ex‑showroom, translating to **≈₹2.08 L** on‑road in Delhi.  \n",
      "* The **average on‑road price** for the standard variants in Delhi now sits around **₹1.73 L** (≈ ₹1.73 L – ₹2.08 L depending on trim and colour).  \n",
      "\n",
      "These figures reflect the market situation **after 22 September 2025** and incorporate the GST‑driven reduction that took effect at that time.\n"
     ]
    }
   ],
   "source": [
    "for i in message[\"messages\"]:\n",
    "    i.pretty_print()"
   ]
  },
  {
   "cell_type": "code",
   "execution_count": null,
   "id": "650eff45",
   "metadata": {},
   "outputs": [],
   "source": []
  }
 ],
 "metadata": {
  "kernelspec": {
   "display_name": "Python 3",
   "language": "python",
   "name": "python3"
  },
  "language_info": {
   "codemirror_mode": {
    "name": "ipython",
    "version": 3
   },
   "file_extension": ".py",
   "mimetype": "text/x-python",
   "name": "python",
   "nbconvert_exporter": "python",
   "pygments_lexer": "ipython3",
   "version": "3.12.0"
  }
 },
 "nbformat": 4,
 "nbformat_minor": 5
}
