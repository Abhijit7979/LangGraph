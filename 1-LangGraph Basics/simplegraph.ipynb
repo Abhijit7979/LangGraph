{
 "cells": [
  {
   "cell_type": "markdown",
   "id": "506847e2",
   "metadata": {},
   "source": [
    "## Build a simple workflow or Graph using langGraph \n",
    "\n",
    "### State \n",
    "\n",
    "- First, define the state of the graph.\n",
    "\n",
    "- the state schema serves as the input schema for all Nodes and Edges in the graph. \n",
    "\n",
    "- let's use the TypedDict class from python's typing module as our schema, which provides type hints for the keys."
   ]
  },
  {
   "cell_type": "code",
   "execution_count": null,
   "id": "61e6e58f",
   "metadata": {},
   "outputs": [],
   "source": [
    "from typing_extensions import TypedDict\n",
    "# state schema\n",
    "class State(TypedDict):  #  while moving from one node to another node the graph_info variable\n",
    "    graph_info: str      #  will be shared this is the meaning of state. "
   ]
  },
  {
   "cell_type": "markdown",
   "id": "3eda4e98",
   "metadata": {},
   "source": [
    "#### Nodes \n",
    "- Nodes are just python function.\n",
    "\n",
    "- the first positional argument is the state, as defined above. \n",
    "\n",
    "- Because  the state is a TypedDict with schema as defined above , each node can access the key , graph_state, with state [\"graph_state'].\n",
    "\n",
    "- each node returns a new value of the state key graph_state.\n",
    "\n",
    "- by default, the new value returned by each node will override the prior state value.\n"
   ]
  },
  {
   "cell_type": "code",
   "execution_count": 9,
   "id": "3bc132f7",
   "metadata": {},
   "outputs": [],
   "source": [
    "def start_play(state:State):\n",
    "    print(\"start_play node has been called\")\n",
    "    return {\"graph_info\":state[\"graph_info\"]+\"i am planning to play.\"}\n",
    "\n",
    "def cricket(state:State):\n",
    "    print(\"cricket node has been called\")\n",
    "    return {\"graph_info\":state[\"graph_info\"]+\"cricket\"}\n",
    "\n",
    "def badminton(state:State):\n",
    "    print(\"badminton node has been called\")\n",
    "    return {\"graph_info\":state[\"graph_info\"]+\"badminton\"}\n",
    "\n",
    "def end_play(state:State):\n",
    "    print(\"end_play node has been called\")\n",
    "    return {\"graph_info\":state[\"graph_info\"]+\"i played well.\"}"
   ]
  },
  {
   "cell_type": "code",
   "execution_count": 10,
   "id": "9c50207b",
   "metadata": {},
   "outputs": [],
   "source": [
    "import random \n",
    "from typing import Literal\n",
    "\n",
    "def random_play(state:State)->Literal[\"cricket\",\"badminton\"]:\n",
    "    graph_info=state['graph_info']\n",
    "\n",
    "    if random.random()>0.5:\n",
    "        return \"cricket\"\n",
    "    else:\n",
    "        return \"badminton\""
   ]
  },
  {
   "cell_type": "markdown",
   "id": "a013de16",
   "metadata": {},
   "source": [
    "### Graph Construction \n",
    "- now, we build the graph from our components defined above. \n",
    "\n",
    "- The stateGraph class is the graph class that we can use \n",
    "\n",
    "- First, we initialize a stateGraph  with the state class we defined above.\n",
    "\n",
    "- then , we add our nodes and edges .\n",
    "\n",
    "- we use the start node , a special node that sends user input to the graph, to indicate where to start out graph.\n",
    "\n",
    "- the end node is a special node that represents a terminal node.\n",
    "\n",
    "- finally, we compile our graph to perform a few basic checks on the graph structure.\n",
    "\n",
    "- we can visualize the graph as a mermaid diagram"
   ]
  },
  {
   "cell_type": "code",
   "execution_count": null,
   "id": "a3da9ce6",
   "metadata": {},
   "outputs": [],
   "source": []
  }
 ],
 "metadata": {
  "kernelspec": {
   "display_name": "Python 3",
   "language": "python",
   "name": "python3"
  },
  "language_info": {
   "codemirror_mode": {
    "name": "ipython",
    "version": 3
   },
   "file_extension": ".py",
   "mimetype": "text/x-python",
   "name": "python",
   "nbconvert_exporter": "python",
   "pygments_lexer": "ipython3",
   "version": "3.12.0"
  }
 },
 "nbformat": 4,
 "nbformat_minor": 5
}
