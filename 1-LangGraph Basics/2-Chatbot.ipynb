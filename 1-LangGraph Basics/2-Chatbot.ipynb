{
 "cells": [
  {
   "cell_type": "markdown",
   "id": "c4808372",
   "metadata": {},
   "source": [
    "### implementing simple chatbot using langGraph "
   ]
  },
  {
   "cell_type": "code",
   "execution_count": null,
   "id": "fba08021",
   "metadata": {},
   "outputs": [],
   "source": [
    "from typing_extensions import TypedDict\n",
    "\n",
    "from langgraph.graph import StateGraph, START, END\n",
    "\n",
    "## Reducers\n",
    "from typing import Annotated\n",
    "from langgraph.graph.message import add_messages"
   ]
  },
  {
   "cell_type": "code",
   "execution_count": null,
   "id": "03249a05",
   "metadata": {},
   "outputs": [],
   "source": [
    "class State(TypedDict):\n",
    "    messages:Annotated[list,add_messages]"
   ]
  },
  {
   "cell_type": "code",
   "execution_count": null,
   "id": "baf49e03",
   "metadata": {},
   "outputs": [],
   "source": [
    "import os\n",
    "from dotenv import load_dotenv\n",
    "load_dotenv()\n",
    "\n",
    "os.environ[\"OPENAI_API_KEY\"]=os.getenv(\"OPENAI_API_KEY\")\n",
    "os.environ[\"GROQ_API_KEY\"]=os.getenv(\"GROQ_API\")\n"
   ]
  },
  {
   "cell_type": "code",
   "execution_count": 62,
   "id": "cdee359a",
   "metadata": {},
   "outputs": [
    {
     "data": {
      "text/plain": [
       "AIMessage(content='Hey Krish! That’s awesome—cricket is such a thrilling sport. Do you have a favorite team or player? What role do you usually play on the field (batsman, bowler, all‑rounder, wicket‑keeper)? I’d love to hear more about your cricket adventures!', additional_kwargs={'reasoning_content': 'The user says \"Hey I am Krish and i like to play cricket\". Likely they are just stating something, maybe want a response. The assistant should respond politely, maybe ask about cricket, etc. No disallowed content. Should be friendly.'}, response_metadata={'token_usage': {'completion_tokens': 123, 'prompt_tokens': 82, 'total_tokens': 205, 'completion_time': 0.26920999, 'prompt_time': 0.006292773, 'queue_time': 1.5029357970000001, 'total_time': 0.275502763}, 'model_name': 'openai/gpt-oss-120b', 'system_fingerprint': 'fp_ed9190d8b7', 'service_tier': 'on_demand', 'finish_reason': 'stop', 'logprobs': None}, id='run--6f62b5f4-1063-4158-9f2e-670c289299ee-0', usage_metadata={'input_tokens': 82, 'output_tokens': 123, 'total_tokens': 205})"
      ]
     },
     "execution_count": 62,
     "metadata": {},
     "output_type": "execute_result"
    }
   ],
   "source": [
    "from langchain_groq import ChatGroq\n",
    "\n",
    "llm_groq=ChatGroq(model=\"openai/gpt-oss-120b\")\n",
    "llm_groq.invoke(\"Hey I am Krish and i like to play cricket\")"
   ]
  },
  {
   "cell_type": "markdown",
   "id": "f4bce531",
   "metadata": {},
   "source": [
    "#### we will start with creating Nodes "
   ]
  },
  {
   "cell_type": "code",
   "execution_count": 63,
   "id": "5f2220c4",
   "metadata": {},
   "outputs": [],
   "source": [
    "def superbot(state:State):\n",
    "    return {\"messages\":[llm_groq.invoke(state['messages'])]}"
   ]
  },
  {
   "cell_type": "code",
   "execution_count": 64,
   "id": "b40c2ba9",
   "metadata": {},
   "outputs": [
    {
     "data": {
      "image/png": "[encoded data removed]",
      "text/plain": [
       "<IPython.core.display.Image object>"
      ]
     },
     "metadata": {},
     "output_type": "display_data"
    }
   ],
   "source": [
    "graph=StateGraph(State)\n",
    "\n",
    "## node\n",
    "graph.add_node(\"SuperBot\",superbot)\n",
    "## Edges\n",
    "\n",
    "graph.add_edge(START,\"SuperBot\")\n",
    "graph.add_edge(\"SuperBot\",END)\n",
    "\n",
    "\n",
    "graph_builder=graph.compile()\n",
    "\n",
    "\n",
    "## Display\n",
    "from IPython.display import Image, display\n",
    "display(Image(graph_builder.get_graph().draw_mermaid_png()))"
   ]
  },
  {
   "cell_type": "code",
   "execution_count": 65,
   "id": "c7771e16",
   "metadata": {},
   "outputs": [
    {
     "data": {
      "image/png": "[encoded data removed]",
      "text/plain": [
       "<IPython.core.display.Image object>"
      ]
     },
     "metadata": {},
     "output_type": "display_data"
    }
   ],
   "source": [
    "display(Image(graph_builder.get_graph().draw_mermaid_png()))"
   ]
  },
  {
   "cell_type": "code",
   "execution_count": 68,
   "id": "6cba89e4",
   "metadata": {},
   "outputs": [
    {
     "data": {
      "text/html": [
       "<pre style=\"white-space:pre;overflow-x:auto;line-height:normal;font-family:Menlo,'DejaVu Sans Mono',consolas,'Courier New',monospace\"><span style=\"font-weight: bold\">{</span>\n",
       "    <span style=\"color: #008000; text-decoration-color: #008000\">'messages'</span>: <span style=\"font-weight: bold\">[</span>\n",
       "        <span style=\"color: #800080; text-decoration-color: #800080; font-weight: bold\">HumanMessage</span><span style=\"font-weight: bold\">(</span>\n",
       "            <span style=\"color: #808000; text-decoration-color: #808000\">content</span>=<span style=\"color: #008000; text-decoration-color: #008000\">'hi, my name is krish and i like cricket'</span>,\n",
       "            <span style=\"color: #808000; text-decoration-color: #808000\">additional_kwargs</span>=<span style=\"font-weight: bold\">{}</span>,\n",
       "            <span style=\"color: #808000; text-decoration-color: #808000\">response_metadata</span>=<span style=\"font-weight: bold\">{}</span>,\n",
       "            <span style=\"color: #808000; text-decoration-color: #808000\">id</span>=<span style=\"color: #008000; text-decoration-color: #008000\">'80bcedee-54c0-43e0-8b9f-66642cde63e3'</span>\n",
       "        <span style=\"font-weight: bold\">)</span>,\n",
       "        <span style=\"color: #800080; text-decoration-color: #800080; font-weight: bold\">AIMessage</span><span style=\"font-weight: bold\">(</span>\n",
       "            <span style=\"color: #808000; text-decoration-color: #808000\">content</span>=<span style=\"color: #008000; text-decoration-color: #008000\">\"Hey Krish! 👋 Nice to meet you.  \\n\\nCricket’s such a fun sport—whether you’re into the </span>\n",
       "<span style=\"color: #008000; text-decoration-color: #008000\">fast‑paced thrill of T20s, the strategic depth of Test matches, or the classic drama of ODIs. Do you have a </span>\n",
       "<span style=\"color: #008000; text-decoration-color: #008000\">favorite format, team, or player you follow? I'd love to hear what you enjoy most about the game!\"</span>,\n",
       "            <span style=\"color: #808000; text-decoration-color: #808000\">additional_kwargs</span>=<span style=\"font-weight: bold\">{</span>\n",
       "                <span style=\"color: #008000; text-decoration-color: #008000\">'reasoning_content'</span>: <span style=\"color: #008000; text-decoration-color: #008000\">'The user says hi, introduces themselves. The assistant should respond </span>\n",
       "<span style=\"color: #008000; text-decoration-color: #008000\">friendly, ask about cricket preferences, maybe ask what they like about cricket, etc. No disallowed content. So </span>\n",
       "<span style=\"color: #008000; text-decoration-color: #008000\">just respond.'</span>\n",
       "            <span style=\"font-weight: bold\">}</span>,\n",
       "            <span style=\"color: #808000; text-decoration-color: #808000\">response_metadata</span>=<span style=\"font-weight: bold\">{</span>\n",
       "                <span style=\"color: #008000; text-decoration-color: #008000\">'token_usage'</span>: <span style=\"font-weight: bold\">{</span>\n",
       "                    <span style=\"color: #008000; text-decoration-color: #008000\">'completion_tokens'</span>: <span style=\"color: #008080; text-decoration-color: #008080; font-weight: bold\">123</span>,\n",
       "                    <span style=\"color: #008000; text-decoration-color: #008000\">'prompt_tokens'</span>: <span style=\"color: #008080; text-decoration-color: #008080; font-weight: bold\">82</span>,\n",
       "                    <span style=\"color: #008000; text-decoration-color: #008000\">'total_tokens'</span>: <span style=\"color: #008080; text-decoration-color: #008080; font-weight: bold\">205</span>,\n",
       "                    <span style=\"color: #008000; text-decoration-color: #008000\">'completion_time'</span>: <span style=\"color: #008080; text-decoration-color: #008080; font-weight: bold\">0.262208446</span>,\n",
       "                    <span style=\"color: #008000; text-decoration-color: #008000\">'prompt_time'</span>: <span style=\"color: #008080; text-decoration-color: #008080; font-weight: bold\">0.006745959</span>,\n",
       "                    <span style=\"color: #008000; text-decoration-color: #008000\">'queue_time'</span>: <span style=\"color: #008080; text-decoration-color: #008080; font-weight: bold\">5.737115898</span>,\n",
       "                    <span style=\"color: #008000; text-decoration-color: #008000\">'total_time'</span>: <span style=\"color: #008080; text-decoration-color: #008080; font-weight: bold\">0.268954405</span>\n",
       "                <span style=\"font-weight: bold\">}</span>,\n",
       "                <span style=\"color: #008000; text-decoration-color: #008000\">'model_name'</span>: <span style=\"color: #008000; text-decoration-color: #008000\">'openai/gpt-oss-120b'</span>,\n",
       "                <span style=\"color: #008000; text-decoration-color: #008000\">'system_fingerprint'</span>: <span style=\"color: #008000; text-decoration-color: #008000\">'fp_3a688838c3'</span>,\n",
       "                <span style=\"color: #008000; text-decoration-color: #008000\">'service_tier'</span>: <span style=\"color: #008000; text-decoration-color: #008000\">'on_demand'</span>,\n",
       "                <span style=\"color: #008000; text-decoration-color: #008000\">'finish_reason'</span>: <span style=\"color: #008000; text-decoration-color: #008000\">'stop'</span>,\n",
       "                <span style=\"color: #008000; text-decoration-color: #008000\">'logprobs'</span>: <span style=\"color: #800080; text-decoration-color: #800080; font-style: italic\">None</span>\n",
       "            <span style=\"font-weight: bold\">}</span>,\n",
       "            <span style=\"color: #808000; text-decoration-color: #808000\">id</span>=<span style=\"color: #008000; text-decoration-color: #008000\">'run--46048141-a36f-43c4-a932-bb5bf63aaafa-0'</span>,\n",
       "            <span style=\"color: #808000; text-decoration-color: #808000\">usage_metadata</span>=<span style=\"font-weight: bold\">{</span><span style=\"color: #008000; text-decoration-color: #008000\">'input_tokens'</span>: <span style=\"color: #008080; text-decoration-color: #008080; font-weight: bold\">82</span>, <span style=\"color: #008000; text-decoration-color: #008000\">'output_tokens'</span>: <span style=\"color: #008080; text-decoration-color: #008080; font-weight: bold\">123</span>, <span style=\"color: #008000; text-decoration-color: #008000\">'total_tokens'</span>: <span style=\"color: #008080; text-decoration-color: #008080; font-weight: bold\">205</span><span style=\"font-weight: bold\">}</span>\n",
       "        <span style=\"font-weight: bold\">)</span>\n",
       "    <span style=\"font-weight: bold\">]</span>\n",
       "<span style=\"font-weight: bold\">}</span>\n",
       "</pre>\n"
      ],
      "text/plain": [
       "\u001b[1m{\u001b[0m\n",
       "    \u001b[32m'messages'\u001b[0m: \u001b[1m[\u001b[0m\n",
       "        \u001b[1;35mHumanMessage\u001b[0m\u001b[1m(\u001b[0m\n",
       "            \u001b[33mcontent\u001b[0m=\u001b[32m'hi, my name is krish and i like cricket'\u001b[0m,\n",
       "            \u001b[33madditional_kwargs\u001b[0m=\u001b[1m{\u001b[0m\u001b[1m}\u001b[0m,\n",
       "            \u001b[33mresponse_metadata\u001b[0m=\u001b[1m{\u001b[0m\u001b[1m}\u001b[0m,\n",
       "            \u001b[33mid\u001b[0m=\u001b[32m'80bcedee-54c0-43e0-8b9f-66642cde63e3'\u001b[0m\n",
       "        \u001b[1m)\u001b[0m,\n",
       "        \u001b[1;35mAIMessage\u001b[0m\u001b[1m(\u001b[0m\n",
       "            \u001b[33mcontent\u001b[0m=\u001b[32m\"Hey\u001b[0m\u001b[32m Krish! 👋 Nice to meet you.  \\n\\nCricket’s such a fun sport—whether you’re into the \u001b[0m\n",
       "\u001b[32mfast‑paced thrill of T20s, the strategic depth of Test matches, or the classic drama of ODIs. Do you have a \u001b[0m\n",
       "\u001b[32mfavorite format, team, or player you follow? I'd love to hear what you enjoy most about the game!\"\u001b[0m,\n",
       "            \u001b[33madditional_kwargs\u001b[0m=\u001b[1m{\u001b[0m\n",
       "                \u001b[32m'reasoning_content'\u001b[0m: \u001b[32m'The user says hi, introduces themselves. The assistant should respond \u001b[0m\n",
       "\u001b[32mfriendly, ask about cricket preferences, maybe ask what they like about cricket, etc. No disallowed content. So \u001b[0m\n",
       "\u001b[32mjust respond.'\u001b[0m\n",
       "            \u001b[1m}\u001b[0m,\n",
       "            \u001b[33mresponse_metadata\u001b[0m=\u001b[1m{\u001b[0m\n",
       "                \u001b[32m'token_usage'\u001b[0m: \u001b[1m{\u001b[0m\n",
       "                    \u001b[32m'completion_tokens'\u001b[0m: \u001b[1;36m123\u001b[0m,\n",
       "                    \u001b[32m'prompt_tokens'\u001b[0m: \u001b[1;36m82\u001b[0m,\n",
       "                    \u001b[32m'total_tokens'\u001b[0m: \u001b[1;36m205\u001b[0m,\n",
       "                    \u001b[32m'completion_time'\u001b[0m: \u001b[1;36m0.262208446\u001b[0m,\n",
       "                    \u001b[32m'prompt_time'\u001b[0m: \u001b[1;36m0.006745959\u001b[0m,\n",
       "                    \u001b[32m'queue_time'\u001b[0m: \u001b[1;36m5.737115898\u001b[0m,\n",
       "                    \u001b[32m'total_time'\u001b[0m: \u001b[1;36m0.268954405\u001b[0m\n",
       "                \u001b[1m}\u001b[0m,\n",
       "                \u001b[32m'model_name'\u001b[0m: \u001b[32m'openai/gpt-oss-120b'\u001b[0m,\n",
       "                \u001b[32m'system_fingerprint'\u001b[0m: \u001b[32m'fp_3a688838c3'\u001b[0m,\n",
       "                \u001b[32m'service_tier'\u001b[0m: \u001b[32m'on_demand'\u001b[0m,\n",
       "                \u001b[32m'finish_reason'\u001b[0m: \u001b[32m'stop'\u001b[0m,\n",
       "                \u001b[32m'logprobs'\u001b[0m: \u001b[3;35mNone\u001b[0m\n",
       "            \u001b[1m}\u001b[0m,\n",
       "            \u001b[33mid\u001b[0m=\u001b[32m'run--46048141-a36f-43c4-a932-bb5bf63aaafa-0'\u001b[0m,\n",
       "            \u001b[33musage_metadata\u001b[0m=\u001b[1m{\u001b[0m\u001b[32m'input_tokens'\u001b[0m: \u001b[1;36m82\u001b[0m, \u001b[32m'output_tokens'\u001b[0m: \u001b[1;36m123\u001b[0m, \u001b[32m'total_tokens'\u001b[0m: \u001b[1;36m205\u001b[0m\u001b[1m}\u001b[0m\n",
       "        \u001b[1m)\u001b[0m\n",
       "    \u001b[1m]\u001b[0m\n",
       "\u001b[1m}\u001b[0m\n"
      ]
     },
     "metadata": {},
     "output_type": "display_data"
    }
   ],
   "source": [
    "## invocation \n",
    "from rich import print\n",
    "print(graph_builder.invoke({\"messages\":\"hi, my name is krish and i like cricket\"}))"
   ]
  },
  {
   "cell_type": "markdown",
   "id": "08782446",
   "metadata": {},
   "source": [
    "#### Streaming the responses \n"
   ]
  },
  {
   "cell_type": "code",
   "execution_count": 69,
   "id": "1c02bed1",
   "metadata": {},
   "outputs": [
    {
     "data": {
      "text/plain": [
       "<generator object Pregel.stream at 0x11511e120>"
      ]
     },
     "execution_count": 69,
     "metadata": {},
     "output_type": "execute_result"
    }
   ],
   "source": [
    "graph_builder.stream({\"messages\":\"hello my name is abhijit\"})"
   ]
  },
  {
   "cell_type": "code",
   "execution_count": 72,
   "id": "0ac4e603",
   "metadata": {},
   "outputs": [
    {
     "data": {
      "text/html": [
       "<pre style=\"white-space:pre;overflow-x:auto;line-height:normal;font-family:Menlo,'DejaVu Sans Mono',consolas,'Courier New',monospace\"><span style=\"font-weight: bold\">{</span>\n",
       "    <span style=\"color: #008000; text-decoration-color: #008000\">'SuperBot'</span>: <span style=\"font-weight: bold\">{</span>\n",
       "        <span style=\"color: #008000; text-decoration-color: #008000\">'messages'</span>: <span style=\"font-weight: bold\">[</span>\n",
       "            <span style=\"color: #800080; text-decoration-color: #800080; font-weight: bold\">AIMessage</span><span style=\"font-weight: bold\">(</span>\n",
       "                <span style=\"color: #808000; text-decoration-color: #808000\">content</span>=<span style=\"color: #008000; text-decoration-color: #008000\">'Hello, Abhijit! Nice to meet you. How can I help you today?'</span>,\n",
       "                <span style=\"color: #808000; text-decoration-color: #808000\">additional_kwargs</span>=<span style=\"font-weight: bold\">{</span>\n",
       "                    <span style=\"color: #008000; text-decoration-color: #008000\">'reasoning_content'</span>: <span style=\"color: #008000; text-decoration-color: #008000\">'We need to respond. The user says \"hello my name is abhijit\". Probably </span>\n",
       "<span style=\"color: #008000; text-decoration-color: #008000\">greet them. Use friendly tone. No policy issues.'</span>\n",
       "                <span style=\"font-weight: bold\">}</span>,\n",
       "                <span style=\"color: #808000; text-decoration-color: #808000\">response_metadata</span>=<span style=\"font-weight: bold\">{</span>\n",
       "                    <span style=\"color: #008000; text-decoration-color: #008000\">'token_usage'</span>: <span style=\"font-weight: bold\">{</span>\n",
       "                        <span style=\"color: #008000; text-decoration-color: #008000\">'completion_tokens'</span>: <span style=\"color: #008080; text-decoration-color: #008080; font-weight: bold\">58</span>,\n",
       "                        <span style=\"color: #008000; text-decoration-color: #008000\">'prompt_tokens'</span>: <span style=\"color: #008080; text-decoration-color: #008080; font-weight: bold\">78</span>,\n",
       "                        <span style=\"color: #008000; text-decoration-color: #008000\">'total_tokens'</span>: <span style=\"color: #008080; text-decoration-color: #008080; font-weight: bold\">136</span>,\n",
       "                        <span style=\"color: #008000; text-decoration-color: #008000\">'completion_time'</span>: <span style=\"color: #008080; text-decoration-color: #008080; font-weight: bold\">0.123544823</span>,\n",
       "                        <span style=\"color: #008000; text-decoration-color: #008000\">'prompt_time'</span>: <span style=\"color: #008080; text-decoration-color: #008080; font-weight: bold\">0.005193011</span>,\n",
       "                        <span style=\"color: #008000; text-decoration-color: #008000\">'queue_time'</span>: <span style=\"color: #008080; text-decoration-color: #008080; font-weight: bold\">2.067481214</span>,\n",
       "                        <span style=\"color: #008000; text-decoration-color: #008000\">'total_time'</span>: <span style=\"color: #008080; text-decoration-color: #008080; font-weight: bold\">0.128737834</span>\n",
       "                    <span style=\"font-weight: bold\">}</span>,\n",
       "                    <span style=\"color: #008000; text-decoration-color: #008000\">'model_name'</span>: <span style=\"color: #008000; text-decoration-color: #008000\">'openai/gpt-oss-120b'</span>,\n",
       "                    <span style=\"color: #008000; text-decoration-color: #008000\">'system_fingerprint'</span>: <span style=\"color: #008000; text-decoration-color: #008000\">'fp_213abb2467'</span>,\n",
       "                    <span style=\"color: #008000; text-decoration-color: #008000\">'service_tier'</span>: <span style=\"color: #008000; text-decoration-color: #008000\">'on_demand'</span>,\n",
       "                    <span style=\"color: #008000; text-decoration-color: #008000\">'finish_reason'</span>: <span style=\"color: #008000; text-decoration-color: #008000\">'stop'</span>,\n",
       "                    <span style=\"color: #008000; text-decoration-color: #008000\">'logprobs'</span>: <span style=\"color: #800080; text-decoration-color: #800080; font-style: italic\">None</span>\n",
       "                <span style=\"font-weight: bold\">}</span>,\n",
       "                <span style=\"color: #808000; text-decoration-color: #808000\">id</span>=<span style=\"color: #008000; text-decoration-color: #008000\">'run--5e7ac740-8dc0-42a6-9f93-73b85d2d2d7f-0'</span>,\n",
       "                <span style=\"color: #808000; text-decoration-color: #808000\">usage_metadata</span>=<span style=\"font-weight: bold\">{</span><span style=\"color: #008000; text-decoration-color: #008000\">'input_tokens'</span>: <span style=\"color: #008080; text-decoration-color: #008080; font-weight: bold\">78</span>, <span style=\"color: #008000; text-decoration-color: #008000\">'output_tokens'</span>: <span style=\"color: #008080; text-decoration-color: #008080; font-weight: bold\">58</span>, <span style=\"color: #008000; text-decoration-color: #008000\">'total_tokens'</span>: <span style=\"color: #008080; text-decoration-color: #008080; font-weight: bold\">136</span><span style=\"font-weight: bold\">}</span>\n",
       "            <span style=\"font-weight: bold\">)</span>\n",
       "        <span style=\"font-weight: bold\">]</span>\n",
       "    <span style=\"font-weight: bold\">}</span>\n",
       "<span style=\"font-weight: bold\">}</span>\n",
       "</pre>\n"
      ],
      "text/plain": [
       "\u001b[1m{\u001b[0m\n",
       "    \u001b[32m'SuperBot'\u001b[0m: \u001b[1m{\u001b[0m\n",
       "        \u001b[32m'messages'\u001b[0m: \u001b[1m[\u001b[0m\n",
       "            \u001b[1;35mAIMessage\u001b[0m\u001b[1m(\u001b[0m\n",
       "                \u001b[33mcontent\u001b[0m=\u001b[32m'Hello, Abhijit! Nice to meet you. How can I help you today?'\u001b[0m,\n",
       "                \u001b[33madditional_kwargs\u001b[0m=\u001b[1m{\u001b[0m\n",
       "                    \u001b[32m'reasoning_content'\u001b[0m: \u001b[32m'We need to respond. The user says \"hello my name is abhijit\". Probably \u001b[0m\n",
       "\u001b[32mgreet them. Use friendly tone. No policy issues.'\u001b[0m\n",
       "                \u001b[1m}\u001b[0m,\n",
       "                \u001b[33mresponse_metadata\u001b[0m=\u001b[1m{\u001b[0m\n",
       "                    \u001b[32m'token_usage'\u001b[0m: \u001b[1m{\u001b[0m\n",
       "                        \u001b[32m'completion_tokens'\u001b[0m: \u001b[1;36m58\u001b[0m,\n",
       "                        \u001b[32m'prompt_tokens'\u001b[0m: \u001b[1;36m78\u001b[0m,\n",
       "                        \u001b[32m'total_tokens'\u001b[0m: \u001b[1;36m136\u001b[0m,\n",
       "                        \u001b[32m'completion_time'\u001b[0m: \u001b[1;36m0.123544823\u001b[0m,\n",
       "                        \u001b[32m'prompt_time'\u001b[0m: \u001b[1;36m0.005193011\u001b[0m,\n",
       "                        \u001b[32m'queue_time'\u001b[0m: \u001b[1;36m2.067481214\u001b[0m,\n",
       "                        \u001b[32m'total_time'\u001b[0m: \u001b[1;36m0.128737834\u001b[0m\n",
       "                    \u001b[1m}\u001b[0m,\n",
       "                    \u001b[32m'model_name'\u001b[0m: \u001b[32m'openai/gpt-oss-120b'\u001b[0m,\n",
       "                    \u001b[32m'system_fingerprint'\u001b[0m: \u001b[32m'fp_213abb2467'\u001b[0m,\n",
       "                    \u001b[32m'service_tier'\u001b[0m: \u001b[32m'on_demand'\u001b[0m,\n",
       "                    \u001b[32m'finish_reason'\u001b[0m: \u001b[32m'stop'\u001b[0m,\n",
       "                    \u001b[32m'logprobs'\u001b[0m: \u001b[3;35mNone\u001b[0m\n",
       "                \u001b[1m}\u001b[0m,\n",
       "                \u001b[33mid\u001b[0m=\u001b[32m'run--5e7ac740-8dc0-42a6-9f93-73b85d2d2d7f-0'\u001b[0m,\n",
       "                \u001b[33musage_metadata\u001b[0m=\u001b[1m{\u001b[0m\u001b[32m'input_tokens'\u001b[0m: \u001b[1;36m78\u001b[0m, \u001b[32m'output_tokens'\u001b[0m: \u001b[1;36m58\u001b[0m, \u001b[32m'total_tokens'\u001b[0m: \u001b[1;36m136\u001b[0m\u001b[1m}\u001b[0m\n",
       "            \u001b[1m)\u001b[0m\n",
       "        \u001b[1m]\u001b[0m\n",
       "    \u001b[1m}\u001b[0m\n",
       "\u001b[1m}\u001b[0m\n"
      ]
     },
     "metadata": {},
     "output_type": "display_data"
    }
   ],
   "source": [
    "for event in graph_builder.stream({\"messages\":\"hello my name is abhijit\"},stream_mode=\"updates\"):\n",
    "    print(event)"
   ]
  },
  {
   "cell_type": "code",
   "execution_count": null,
   "id": "c3d75b2a",
   "metadata": {},
   "outputs": [],
   "source": []
  }
 ],
 "metadata": {
  "kernelspec": {
   "display_name": "Python 3",
   "language": "python",
   "name": "python3"
  },
  "language_info": {
   "codemirror_mode": {
    "name": "ipython",
    "version": 3
   },
   "file_extension": ".py",
   "mimetype": "text/x-python",
   "name": "python",
   "nbconvert_exporter": "python",
   "pygments_lexer": "ipython3",
   "version": "3.12.0"
  }
 },
 "nbformat": 4,
 "nbformat_minor": 5
}
