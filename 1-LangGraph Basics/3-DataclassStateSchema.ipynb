{
 "cells": [
  {
   "cell_type": "markdown",
   "id": "db04f43d",
   "metadata": {},
   "source": [
    "### State schema with dataClass \n",
    "\n",
    "- when we define a langGraph stateGraph , we use a state schema.\n",
    "\n",
    "- The state schema represents the structure and types of data that our graph will use.\n",
    "\n",
    "- all nodes are expected to communicate with that schema.\n",
    "\n",
    "- langGraph offers flexibility in how you define your state schema, accommodation various python types and validation approaches ! "
   ]
  },
  {
   "cell_type": "code",
   "execution_count": 1,
   "id": "6347953c",
   "metadata": {},
   "outputs": [],
   "source": [
    "from typing_extensions import TypedDict \n",
    "from typing import Literal  "
   ]
  },
  {
   "cell_type": "code",
   "execution_count": null,
   "id": "b369c066",
   "metadata": {},
   "outputs": [],
   "source": [
    "class TypeDictState(TypedDict):\n",
    "    name:str\n",
    "    game:Literal['cricket','badminton']\n",
    "    "
   ]
  },
  {
   "cell_type": "code",
   "execution_count": 24,
   "id": "bd080896",
   "metadata": {},
   "outputs": [],
   "source": [
    "# this are 3 nodes\n",
    "\n",
    "def play_game(state:TypeDictState):\n",
    "    print(\"---Play Game  node has been called--\")\n",
    "    return {\"name\":state['name']+\" want to play \"}\n",
    "\n",
    "def cricket(state:TypeDictState):\n",
    "    print(\"--- Cricket node has been called ---\")\n",
    "    return {\"name\":state['name']+ \" cricket.\",\"game\":\"cricket\"}\n",
    "\n",
    "def badminton(state:TypeDictState):\n",
    "    print(\"--- badminton node has been called ---\")\n",
    "    return {\"name\":state['name']+ \" badminton.\",\"game\":\"badminton\"}\n"
   ]
  },
  {
   "cell_type": "code",
   "execution_count": 25,
   "id": "7ed9a189",
   "metadata": {},
   "outputs": [],
   "source": [
    "import random\n",
    "def decide_play(state:TypeDictState)-> Literal['cricket','badminton']:\n",
    "    if random.random() <0.5:\n",
    "        return \"cricket\"\n",
    "    else :\n",
    "        return \"badminton\"\n"
   ]
  },
  {
   "cell_type": "code",
   "execution_count": 26,
   "id": "db22cde2",
   "metadata": {},
   "outputs": [],
   "source": [
    "from langgraph.graph import StateGraph , START ,END\n",
    "import random\n",
    "\n"
   ]
  },
  {
   "cell_type": "code",
   "execution_count": 27,
   "id": "89e8f223",
   "metadata": {},
   "outputs": [
    {
     "data": {
      "text/plain": [
       "<langgraph.graph.state.StateGraph at 0x11056fc80>"
      ]
     },
     "execution_count": 27,
     "metadata": {},
     "output_type": "execute_result"
    }
   ],
   "source": [
    "graph=StateGraph(TypeDictState)\n",
    "\n",
    "graph.add_node(\"PlayGame\",play_game) # (<node name >, <node function>)\n",
    "graph.add_node(\"cricket\",cricket)\n",
    "graph.add_node(\"badminton\",badminton)\n",
    "\n",
    "graph.add_edge(START,\"PlayGame\")\n",
    "graph.add_conditional_edges(\"PlayGame\",decide_play)\n",
    "graph.add_edge('cricket',END)\n",
    "graph.add_edge('badminton',END)"
   ]
  },
  {
   "cell_type": "code",
   "execution_count": 28,
   "id": "7d48bc2f",
   "metadata": {},
   "outputs": [],
   "source": [
    "graph_png=graph.compile()"
   ]
  },
  {
   "cell_type": "code",
   "execution_count": 29,
   "id": "19fa376a",
   "metadata": {},
   "outputs": [
    {
     "data": {
      "image/png": "[encoded data removed]",
      "text/plain": [
       "<IPython.core.display.Image object>"
      ]
     },
     "metadata": {},
     "output_type": "display_data"
    }
   ],
   "source": [
    "from IPython.display import Image, display\n",
    "display(Image(graph_png.get_graph().draw_mermaid_png()))"
   ]
  },
  {
   "cell_type": "code",
   "execution_count": null,
   "id": "a69a42f1",
   "metadata": {},
   "outputs": [
    {
     "name": "stdout",
     "output_type": "stream",
     "text": [
      "---Play Game  node has been called--\n",
      "--- Cricket node has been called ---\n",
      "0 ---> {'name': 'i am Abhijit  want to play  cricket.', 'game': 'cricket'}\n",
      "\n",
      "---Play Game  node has been called--\n",
      "--- badminton node has been called ---\n",
      "1 ---> {'name': 'i am Abhijit  want to play  badminton.', 'game': 'badminton'}\n",
      "\n",
      "---Play Game  node has been called--\n",
      "--- Cricket node has been called ---\n",
      "2 ---> {'name': 'i am Abhijit  want to play  cricket.', 'game': 'cricket'}\n",
      "\n",
      "---Play Game  node has been called--\n",
      "--- badminton node has been called ---\n",
      "3 ---> {'name': 'i am Abhijit  want to play  badminton.', 'game': 'badminton'}\n",
      "\n",
      "---Play Game  node has been called--\n",
      "--- Cricket node has been called ---\n",
      "4 ---> {'name': 'i am Abhijit  want to play  cricket.', 'game': 'cricket'}\n",
      "\n",
      "---Play Game  node has been called--\n",
      "--- Cricket node has been called ---\n",
      "5 ---> {'name': 'i am Abhijit  want to play  cricket.', 'game': 'cricket'}\n",
      "\n",
      "---Play Game  node has been called--\n",
      "--- badminton node has been called ---\n",
      "6 ---> {'name': 'i am Abhijit  want to play  badminton.', 'game': 'badminton'}\n",
      "\n",
      "---Play Game  node has been called--\n",
      "--- Cricket node has been called ---\n",
      "7 ---> {'name': 'i am Abhijit  want to play  cricket.', 'game': 'cricket'}\n",
      "\n",
      "---Play Game  node has been called--\n",
      "--- badminton node has been called ---\n",
      "8 ---> {'name': 'i am Abhijit  want to play  badminton.', 'game': 'badminton'}\n",
      "\n",
      "---Play Game  node has been called--\n",
      "--- Cricket node has been called ---\n",
      "9 ---> {'name': 'i am Abhijit  want to play  cricket.', 'game': 'cricket'}\n",
      "\n"
     ]
    }
   ],
   "source": [
    "for i in range(10):\n",
    "    print(f\"{i} ---> {graph_png.invoke({\"name\":\"i am Abhijit \",\"game\":\"cricket\"})}\\n\")"
   ]
  },
  {
   "cell_type": "markdown",
   "id": "3c8ed920",
   "metadata": {},
   "source": [
    "### TypedDict\n",
    "\n",
    "- we can use the TypedDict class from python's typing module.\n",
    "- it allows you to specify keys and their corresponding value types.\n",
    "- but , note that these are type hints.\n",
    "- they can be used by static type checkers ( like mypy ) or IDEs to catch potential type-related errors before the code is run\n",
    "- But they are not enforced at runtime!"
   ]
  },
  {
   "cell_type": "code",
   "execution_count": null,
   "id": "5b7ac438",
   "metadata": {},
   "outputs": [],
   "source": [
    "### pydantic (python data validation library)"
   ]
  },
  {
   "cell_type": "markdown",
   "id": "83186a05",
   "metadata": {},
   "source": [
    "### Dataclasses \n",
    "\n",
    "Python's dataclasses provide another way to define structured data.\n",
    "\n",
    "Dataclasses offer a concise syntax for creating classes that are primarily used to store data."
   ]
  },
  {
   "cell_type": "code",
   "execution_count": 39,
   "id": "5dbc4c87",
   "metadata": {},
   "outputs": [],
   "source": [
    "### DataClasses\n",
    "\n",
    "from dataclasses import dataclass\n",
    "\n",
    "@dataclass\n",
    "class DataclassState:\n",
    "    name:str\n",
    "    game:Literal[\"cricket\",\"badminton\"]"
   ]
  },
  {
   "cell_type": "code",
   "execution_count": 40,
   "id": "f1b37125",
   "metadata": {},
   "outputs": [],
   "source": [
    "# this are 3 nodes\n",
    "\n",
    "def play_game(state:DataclassState):\n",
    "    print(\"---Play Game  node has been called--\")\n",
    "    return {\"name\":state.name+\" want to play \"}\n",
    "\n",
    "def cricket(state:DataclassState):\n",
    "    print(\"--- Cricket node has been called ---\")\n",
    "    return {\"name\":state.name+ \" cricket.\",\"game\":\"cricket\"}\n",
    "\n",
    "def badminton(state:DataclassState):\n",
    "    print(\"--- badminton node has been called ---\")\n",
    "    return {\"name\":state.name+ \" badminton.\",\"game\":\"badminton\"}\n"
   ]
  },
  {
   "cell_type": "code",
   "execution_count": 41,
   "id": "535f9f43",
   "metadata": {},
   "outputs": [],
   "source": [
    "def decide_play(state:DataclassState)-> Literal['cricket','badminton']:\n",
    "    if random.random() <0.5:\n",
    "        return \"cricket\"\n",
    "    else :\n",
    "        return \"badminton\""
   ]
  },
  {
   "cell_type": "code",
   "execution_count": 42,
   "id": "866f712a",
   "metadata": {},
   "outputs": [
    {
     "data": {
      "text/plain": [
       "<langgraph.graph.state.StateGraph at 0x130094a10>"
      ]
     },
     "execution_count": 42,
     "metadata": {},
     "output_type": "execute_result"
    }
   ],
   "source": [
    "graph=StateGraph(DataclassState)\n",
    "\n",
    "graph.add_node(\"PlayGame\",play_game) # (<node name >, <node function>)\n",
    "graph.add_node(\"cricket\",cricket)\n",
    "graph.add_node(\"badminton\",badminton)\n",
    "\n",
    "graph.add_edge(START,\"PlayGame\")\n",
    "graph.add_conditional_edges(\"PlayGame\",decide_play)\n",
    "graph.add_edge('cricket',END)\n",
    "graph.add_edge('badminton',END)"
   ]
  },
  {
   "cell_type": "code",
   "execution_count": 43,
   "id": "f9cd4b8e",
   "metadata": {},
   "outputs": [],
   "source": [
    "graph_png=graph.compile()"
   ]
  },
  {
   "cell_type": "code",
   "execution_count": 44,
   "id": "67671501",
   "metadata": {},
   "outputs": [
    {
     "data": {
      "image/png": "[encoded data removed]",
      "text/plain": [
       "<IPython.core.display.Image object>"
      ]
     },
     "metadata": {},
     "output_type": "display_data"
    }
   ],
   "source": [
    "from IPython.display import Image, display\n",
    "display(Image(graph_png.get_graph().draw_mermaid_png()))"
   ]
  },
  {
   "cell_type": "code",
   "execution_count": 47,
   "id": "077e1650",
   "metadata": {},
   "outputs": [
    {
     "name": "stdout",
     "output_type": "stream",
     "text": [
      "---Play Game  node has been called--\n",
      "--- badminton node has been called ---\n"
     ]
    },
    {
     "data": {
      "text/plain": [
       "{'name': 'abhijit want to play  badminton.', 'game': 'badminton'}"
      ]
     },
     "execution_count": 47,
     "metadata": {},
     "output_type": "execute_result"
    }
   ],
   "source": [
    "graph_png.invoke(DataclassState(name=\"abhijit\",game=\"cricket\"))"
   ]
  },
  {
   "cell_type": "code",
   "execution_count": 50,
   "id": "6d4be93f",
   "metadata": {},
   "outputs": [
    {
     "name": "stdout",
     "output_type": "stream",
     "text": [
      "---Play Game  node has been called--\n",
      "--- Cricket node has been called ---\n"
     ]
    },
    {
     "data": {
      "text/plain": [
       "{'name': '123 want to play  cricket.', 'game': 'cricket'}"
      ]
     },
     "execution_count": 50,
     "metadata": {},
     "output_type": "execute_result"
    }
   ],
   "source": [
    "graph_png.invoke(DataclassState(name=\"123\",game=\"cricket\"))"
   ]
  },
  {
   "cell_type": "code",
   "execution_count": null,
   "id": "d36e0e24",
   "metadata": {},
   "outputs": [],
   "source": []
  }
 ],
 "metadata": {
  "kernelspec": {
   "display_name": "Python 3",
   "language": "python",
   "name": "python3"
  },
  "language_info": {
   "codemirror_mode": {
    "name": "ipython",
    "version": 3
   },
   "file_extension": ".py",
   "mimetype": "text/x-python",
   "name": "python",
   "nbconvert_exporter": "python",
   "pygments_lexer": "ipython3",
   "version": "3.12.0"
  }
 },
 "nbformat": 4,
 "nbformat_minor": 5
}
