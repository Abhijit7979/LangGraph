{
 "cells": [
  {
   "cell_type": "code",
   "execution_count": 2,
   "id": "dd1c3e23",
   "metadata": {},
   "outputs": [],
   "source": [
    "import os \n",
    "from dotenv import load_dotenv\n",
    "load_dotenv()\n",
    "\n",
    "from langchain_openai import ChatOpenAI \n",
    "\n",
    "os.environ[\"OPENAI_API_KEY\"] = os.getenv(\"OPENAI_API_KEY\")\n",
    "\n",
    "llm=ChatOpenAI(model=\"gpt-5\")"
   ]
  },
  {
   "cell_type": "code",
   "execution_count": 3,
   "id": "ce7dd837",
   "metadata": {},
   "outputs": [
    {
     "data": {
      "text/plain": [
       "ChatOpenAI(client=<openai.resources.chat.completions.completions.Completions object at 0x113b80bc0>, async_client=<openai.resources.chat.completions.completions.AsyncCompletions object at 0x1148b06e0>, root_client=<openai.OpenAI object at 0x112885ac0>, root_async_client=<openai.AsyncOpenAI object at 0x113b82720>, model_name='gpt-5', model_kwargs={}, openai_api_key=SecretStr('**********'))"
      ]
     },
     "execution_count": 3,
     "metadata": {},
     "output_type": "execute_result"
    }
   ],
   "source": [
    "llm"
   ]
  },
  {
   "cell_type": "code",
   "execution_count": 4,
   "id": "2eb6708d",
   "metadata": {},
   "outputs": [],
   "source": [
    "result=llm.invoke(\"what is weather in hyderabad today 6th october 2025 ?\")"
   ]
  },
  {
   "cell_type": "code",
   "execution_count": 5,
   "id": "8286fc7f",
   "metadata": {},
   "outputs": [
    {
     "data": {
      "text/html": [
       "<pre style=\"white-space:pre;overflow-x:auto;line-height:normal;font-family:Menlo,'DejaVu Sans Mono',consolas,'Courier New',monospace\">Do you mean Hyderabad, India <span style=\"font-weight: bold\">(</span>Telangana<span style=\"font-weight: bold\">)</span> or Hyderabad, Pakistan <span style=\"font-weight: bold\">(</span>Sindh<span style=\"font-weight: bold\">)</span>?\n",
       "\n",
       "I don’t have live weather access. For today <span style=\"font-weight: bold\">(</span><span style=\"color: #008080; text-decoration-color: #008080; font-weight: bold\">6</span> Oct <span style=\"color: #008080; text-decoration-color: #008080; font-weight: bold\">2025</span><span style=\"font-weight: bold\">)</span>, you can check quickly here:\n",
       "- Hyderabad, India: <span style=\"color: #0000ff; text-decoration-color: #0000ff; text-decoration: underline\">https://weather.com/weather/today/l/17.3850,78.4867</span>\n",
       "- Hyderabad, Pakistan: <span style=\"color: #0000ff; text-decoration-color: #0000ff; text-decoration: underline\">https://weather.com/weather/today/l/25.3960,68.3578</span>\n",
       "\n",
       "Typical early-October conditions:\n",
       "- Hyderabad, India: around <span style=\"color: #008080; text-decoration-color: #008080; font-weight: bold\">30</span>–<span style=\"color: #008080; text-decoration-color: #008080; font-weight: bold\">33</span>°C daytime, <span style=\"color: #008080; text-decoration-color: #008080; font-weight: bold\">20</span>–<span style=\"color: #008080; text-decoration-color: #008080; font-weight: bold\">23</span>°C night, partly cloudy with a small chance of an \n",
       "afternoon/evening shower.\n",
       "- Hyderabad, Pakistan: around <span style=\"color: #008080; text-decoration-color: #008080; font-weight: bold\">35</span>–<span style=\"color: #008080; text-decoration-color: #008080; font-weight: bold\">38</span>°C daytime, <span style=\"color: #008080; text-decoration-color: #008080; font-weight: bold\">22</span>–<span style=\"color: #008080; text-decoration-color: #008080; font-weight: bold\">26</span>°C night, mostly sunny and dry.\n",
       "\n",
       "Tell me which city you mean, and if you want hourly or a <span style=\"color: #008080; text-decoration-color: #008080; font-weight: bold\">7</span>‑day outlook, I can point you to the exact page.\n",
       "</pre>\n"
      ],
      "text/plain": [
       "Do you mean Hyderabad, India \u001b[1m(\u001b[0mTelangana\u001b[1m)\u001b[0m or Hyderabad, Pakistan \u001b[1m(\u001b[0mSindh\u001b[1m)\u001b[0m?\n",
       "\n",
       "I don’t have live weather access. For today \u001b[1m(\u001b[0m\u001b[1;36m6\u001b[0m Oct \u001b[1;36m2025\u001b[0m\u001b[1m)\u001b[0m, you can check quickly here:\n",
       "- Hyderabad, India: \u001b[4;94mhttps://weather.com/weather/today/l/17.3850,78.4867\u001b[0m\n",
       "- Hyderabad, Pakistan: \u001b[4;94mhttps://weather.com/weather/today/l/25.3960,68.3578\u001b[0m\n",
       "\n",
       "Typical early-October conditions:\n",
       "- Hyderabad, India: around \u001b[1;36m30\u001b[0m–\u001b[1;36m33\u001b[0m°C daytime, \u001b[1;36m20\u001b[0m–\u001b[1;36m23\u001b[0m°C night, partly cloudy with a small chance of an \n",
       "afternoon/evening shower.\n",
       "- Hyderabad, Pakistan: around \u001b[1;36m35\u001b[0m–\u001b[1;36m38\u001b[0m°C daytime, \u001b[1;36m22\u001b[0m–\u001b[1;36m26\u001b[0m°C night, mostly sunny and dry.\n",
       "\n",
       "Tell me which city you mean, and if you want hourly or a \u001b[1;36m7\u001b[0m‑day outlook, I can point you to the exact page.\n"
      ]
     },
     "metadata": {},
     "output_type": "display_data"
    }
   ],
   "source": [
    "from rich import print\n",
    "\n",
    "print(result.content)"
   ]
  },
  {
   "cell_type": "code",
   "execution_count": null,
   "id": "261775aa",
   "metadata": {},
   "outputs": [],
   "source": []
  }
 ],
 "metadata": {
  "kernelspec": {
   "display_name": "Python 3",
   "language": "python",
   "name": "python3"
  },
  "language_info": {
   "codemirror_mode": {
    "name": "ipython",
    "version": 3
   },
   "file_extension": ".py",
   "mimetype": "text/x-python",
   "name": "python",
   "nbconvert_exporter": "python",
   "pygments_lexer": "ipython3",
   "version": "3.12.0"
  }
 },
 "nbformat": 4,
 "nbformat_minor": 5
}
