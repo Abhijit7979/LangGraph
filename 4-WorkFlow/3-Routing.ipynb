{
 "cells": [
  {
   "cell_type": "markdown",
   "id": "540e679e",
   "metadata": {},
   "source": [
    "### What is Routing in langGraph? \n",
    "\n",
    "Routing in langGraph refers to the ability to conditionally determine which node to execute next based on the current state or the output of a node. This is typically implemented using: \n",
    "\n",
    "- add_conditional_edges: A method that maps a node's output( or a condition function's result) to different possible next nodes. \n",
    "\n",
    "- state: The workflow's state can store variables that influence routing decisions. \n",
    "\n",
    "- condition functions : functions that evaluate the state or node output to decide the next step.\n",
    "\n",
    "\n",
    "#### Key concepts \n",
    "\n",
    "- Dynamic flow: Unlike a linear sequence, routing lets a graph adapt to intermediate results.\n",
    "\n",
    "- condition logic : you define rules (eg: \"if this ,go here ; if that , go there \").\n",
    "\n",
    "- flexibility: combines well with parallelization or sequential chains for complex workflow.\n",
    "\n"
   ]
  },
  {
   "cell_type": "code",
   "execution_count": 1,
   "id": "78894005",
   "metadata": {},
   "outputs": [],
   "source": [
    "import os \n",
    "from dotenv import load_dotenv\n",
    "\n",
    "load_dotenv()\n",
    "\n",
    "from langchain_groq import ChatGroq \n",
    "from langchain_openai import ChatOpenAI\n",
    "os.environ[\"GROQ_API_KEY\"]=os.getenv(\"GROQ_API\")\n",
    "os.environ[\"OPENAI_API_KEY\"]=os.getenv(\"OPENAI_API_KEY\")\n",
    "\n",
    "llm=ChatGroq(model=\"openai/gpt-oss-120b\")\n",
    "# llm=ChatOpenAI(model=\"gpt-5-2025-08-07\")"
   ]
  },
  {
   "cell_type": "code",
   "execution_count": 3,
   "id": "1304a8eb",
   "metadata": {},
   "outputs": [],
   "source": [
    "from typing_extensions import Literal\n",
    "from typing import TypedDict\n",
    "from pydantic import BaseModel,Field\n",
    "from langchain_core.messages import HumanMessage,SystemMessage\n",
    "\n",
    "\n",
    "# Schema for structured output to use as routing logic.\n",
    "class Route(BaseModel):\n",
    "    step:Literal[\"poem\",\"story\",\"joke\"]=Field(description=\"This next step in the routing process\")\n",
    "\n",
    "## Augment the llm with schema for structured output\n",
    "router=llm.with_structured_output(Route)\n",
    "\n",
    "## state \n",
    "class State(TypedDict):\n",
    "    input:str\n",
    "    decision:str\n",
    "    output:str\n",
    "\n",
    "def llm_call_1(state:State):\n",
    "    \"\"\"write a story\"\"\"\n",
    "    result=llm.invoke(state['input'])\n",
    "    return {\"output\":result.content}\n",
    "\n",
    "def llm_call_2(state:State):\n",
    "    \"\"\"write a joke\"\"\"\n",
    "\n",
    "    print(\"llm call 2 is called\")\n",
    "    result=llm.invoke(state['input'])\n",
    "    return {\"output\":result.content}\n",
    "\n",
    "def llm_call_3(state:State):\n",
    "    \"\"\"write a poem\"\"\"\n",
    "\n",
    "    print(\"llm call 3 is called\")\n",
    "    result=llm.invoke(state['input'])\n",
    "    return {\"output\":result.content}\n",
    "\n",
    "def llm_call_router(state:State):\n",
    "    \"\"\" Route the input to the appropriate node.\"\"\"\n",
    "\n",
    "    decision=router.invoke(\n",
    "\n",
    "        [\n",
    "            SystemMessage(\n",
    "                content=\"Route the input to story , joke or poem based on the users request.\"\n",
    "            ),\n",
    "        \n",
    "        HumanMessage(\n",
    "            content=state['input']\n",
    "        )\n",
    "        ]\n",
    "    )\n",
    "\n",
    "    return {\"decision\":decision.step}\n",
    "\n",
    "\n",
    "## conditional edge function to route to the appropriate node \n",
    "\n",
    "def route_decision(state:State):\n",
    "\n",
    "    # return the node name you want to visit next\n",
    "    if state['decision']=='story':\n",
    "        return \"llm_call_1\"\n",
    "    elif state['decision']==\"joke\":\n",
    "        return \"llm_call_2\"\n",
    "    elif state['decision']=='poem':\n",
    "        return \"llm_call_3\""
   ]
  },
  {
   "cell_type": "code",
   "execution_count": 15,
   "id": "7d11ed33",
   "metadata": {},
   "outputs": [],
   "source": [
    "from langgraph.graph import StateGraph,START,END\n",
    "from IPython.display import display,Image\n",
    "\n",
    "builder=StateGraph(State)\n",
    "\n",
    "builder.add_node(\"llm_call_1\",llm_call_1)\n",
    "builder.add_node(\"llm_call_2\",llm_call_2)\n",
    "builder.add_node(\"llm_call_3\",llm_call_3)\n",
    "builder.add_node(\"llm_call_router\",llm_call_router)\n",
    "\n",
    "# adding edges \n",
    "\n",
    "builder.add_edge(START,\"llm_call_router\")\n",
    "builder.add_conditional_edges(\"llm_call_router\",route_decision,{\"llm_call_1\":\"llm_call_1\",\"llm_call_2\":\"llm_call_2\",\"llm_call_3\":\"llm_call_3\"})\n",
    "builder.add_edge(\"llm_call_1\",END)\n",
    "builder.add_edge(\"llm_call_2\",END)\n",
    "builder.add_edge(\"llm_call_3\",END)\n",
    "\n",
    "graph=builder.compile()"
   ]
  },
  {
   "cell_type": "code",
   "execution_count": 16,
   "id": "f7adc40d",
   "metadata": {},
   "outputs": [
    {
     "data": {
      "image/png": "[encoded data removed]",
      "text/plain": [
       "<IPython.core.display.Image object>"
      ]
     },
     "metadata": {},
     "output_type": "display_data"
    }
   ],
   "source": [
    "display(Image(graph.get_graph().draw_mermaid_png()))"
   ]
  },
  {
   "cell_type": "code",
   "execution_count": null,
   "id": "e367dad8",
   "metadata": {},
   "outputs": [],
   "source": []
  },
  {
   "cell_type": "code",
   "execution_count": null,
   "id": "74e31c29",
   "metadata": {},
   "outputs": [],
   "source": []
  }
 ],
 "metadata": {
  "kernelspec": {
   "display_name": "Python 3",
   "language": "python",
   "name": "python3"
  },
  "language_info": {
   "codemirror_mode": {
    "name": "ipython",
    "version": 3
   },
   "file_extension": ".py",
   "mimetype": "text/x-python",
   "name": "python",
   "nbconvert_exporter": "python",
   "pygments_lexer": "ipython3",
   "version": "3.12.0"
  }
 },
 "nbformat": 4,
 "nbformat_minor": 5
}
