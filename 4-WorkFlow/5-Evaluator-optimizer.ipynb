{
 "cells": [
  {
   "cell_type": "markdown",
   "id": "800ee303",
   "metadata": {},
   "source": [
    "### Evaluator optimizer \n",
    "\n",
    "in the evaluator-optimizer workflow, one llm call generates a response while another provides evaluation and feedback in a loop. \n",
    "\n",
    "when to use this workflow: \n",
    "    this workflow is particularly effective when we have clear evaluation criteria, and when iterative refinement provides measurable value. the two signs of good fit are, first , that llm responses can be demonstrably improved when a human articulates their feedback; and second , that the llm can provide such feedback. this is analogous to the iterative writing process a human write might fo through when producing a polished document.\n",
    "\n",
    "![](../images/img7.jpeg)"
   ]
  },
  {
   "cell_type": "code",
   "execution_count": 21,
   "id": "640e7a50",
   "metadata": {},
   "outputs": [],
   "source": [
    "import os \n",
    "from langchain_groq import ChatGroq\n",
    "from dotenv import load_dotenv \n",
    "load_dotenv()\n",
    "\n",
    "os.environ[\"GROQ_API_KEY\"]=os.getenv(\"GROQ_API\")\n",
    "\n",
    "llm=ChatGroq(model=\"openai/gpt-oss-20b\")"
   ]
  },
  {
   "cell_type": "code",
   "execution_count": 22,
   "id": "92a70f4e",
   "metadata": {},
   "outputs": [
    {
     "data": {
      "text/plain": [
       "AIMessage(content='Hello! How can I help you today?', additional_kwargs={'reasoning_content': 'The user says \"hi!\" This is a greeting. The assistant should respond politely. No special instructions. Just greet.'}, response_metadata={'token_usage': {'completion_tokens': 43, 'prompt_tokens': 73, 'total_tokens': 116, 'completion_time': 0.042406429, 'prompt_time': 0.00408661, 'queue_time': 0.04512669, 'total_time': 0.046493039}, 'model_name': 'openai/gpt-oss-20b', 'system_fingerprint': 'fp_80501ff3a1', 'service_tier': 'on_demand', 'finish_reason': 'stop', 'logprobs': None}, id='run--5b368c2c-48d8-4528-9275-cdfe9e1b61ea-0', usage_metadata={'input_tokens': 73, 'output_tokens': 43, 'total_tokens': 116})"
      ]
     },
     "execution_count": 22,
     "metadata": {},
     "output_type": "execute_result"
    }
   ],
   "source": [
    "llm.invoke(\"hi!\")"
   ]
  },
  {
   "cell_type": "code",
   "execution_count": 23,
   "id": "91d8a285",
   "metadata": {},
   "outputs": [],
   "source": [
    "### Graph state \n",
    "from typing import TypedDict\n",
    "class State(TypedDict):\n",
    "    joke:str\n",
    "    topic:str\n",
    "    feedback:str\n",
    "    funny_or_not:str"
   ]
  },
  {
   "cell_type": "code",
   "execution_count": 24,
   "id": "663d9764",
   "metadata": {},
   "outputs": [],
   "source": [
    "## Schema for structured output to use in evaluation \n",
    "from pydantic import BaseModel,Field\n",
    "from typing_extensions import Literal\n",
    "\n",
    "class Feedback(BaseModel):\n",
    "    grade:Literal[\"funny\",\"not funny\"]=Field(\n",
    "        description=\"Decide if the joke is funny or not.\",\n",
    "    )\n",
    "    feedback:str=Field(\n",
    "        description=\"if the joke is not funny, provide feedback on how to improve it.\"\n",
    "    )"
   ]
  },
  {
   "cell_type": "code",
   "execution_count": 25,
   "id": "6d9ffa8c",
   "metadata": {},
   "outputs": [],
   "source": [
    "# Augment the llm with schema for structured output\n",
    "Evaluator=llm.with_structured_output(Feedback)"
   ]
  },
  {
   "cell_type": "code",
   "execution_count": 26,
   "id": "7fe929ff",
   "metadata": {},
   "outputs": [],
   "source": [
    "# nodes \n",
    "\n",
    "def Generator(state:State):\n",
    "    \"\"\"LLM generates a joke \"\"\"\n",
    "\n",
    "    if state.get(\"feedBack\"):\n",
    "        msg=llm.invoke(\n",
    "            f\"Write a joke about {state['topic']} but take into account the feedback: {state['feedBack']}\"\n",
    "        )\n",
    "    else:\n",
    "        msg=llm.invoke(f\"write a joke about {state['topic']}\")\n",
    "    return{\"joke\":msg.content}\n",
    "\n",
    "def llm_call_evaluator(state:State):\n",
    "    \"\"\"LLM Evaluates the joke\"\"\"\n",
    "\n",
    "    grade=Evaluator.invoke(f\"Grade the joke {state['joke']}\")\n",
    "    return {\"funny_or_not\":grade.grade,\"feedback\":grade.feedback}"
   ]
  },
  {
   "cell_type": "code",
   "execution_count": 27,
   "id": "9fc92cbf",
   "metadata": {},
   "outputs": [],
   "source": [
    "## conditional edge function to route back to joke generator or end based upon feedback from the evalutor.\n",
    "\n",
    "def route_joke(state:State):\n",
    "    \"\"\" Route back to joke generator or end based upon feedback from the evaluator \"\"\"\n",
    "\n",
    "    if state[\"funny_or_not\"]==\"funny\":\n",
    "        return \"Accepted\"\n",
    "    elif state[\"funny_or_not\"]==\"not funny\":\n",
    "        return \"Rejected + Feedback\""
   ]
  },
  {
   "cell_type": "code",
   "execution_count": 28,
   "id": "dc43f2d2",
   "metadata": {},
   "outputs": [],
   "source": [
    "from langgraph.graph import START,END,StateGraph\n",
    "from IPython.display import display,Image\n",
    "builder=StateGraph(State)\n",
    "\n",
    "builder.add_node(\"generator\",Generator)\n",
    "builder.add_node(\"Evaluator\",llm_call_evaluator)\n",
    "\n",
    "builder.add_edge(START,\"generator\")\n",
    "builder.add_edge(\"generator\",\"Evaluator\")\n",
    "builder.add_conditional_edges(\"Evaluator\",route_joke,{\"Accepted\":END,\"Rejected + Feedback\":\"generator\"})\n",
    "\n",
    "graph=builder.compile()"
   ]
  },
  {
   "cell_type": "code",
   "execution_count": 29,
   "id": "854b92f7",
   "metadata": {},
   "outputs": [
    {
     "data": {
      "image/png": "[encoded data removed]",
      "text/plain": [
       "<IPython.core.display.Image object>"
      ]
     },
     "metadata": {},
     "output_type": "display_data"
    }
   ],
   "source": [
    "display(Image(graph.get_graph().draw_mermaid_png()))"
   ]
  },
  {
   "cell_type": "code",
   "execution_count": 30,
   "id": "e7c6fb8b",
   "metadata": {},
   "outputs": [],
   "source": [
    "state={\"topic\":\"Agentic ai system\"}\n",
    "\n",
    "result=graph.invoke(state)"
   ]
  },
  {
   "cell_type": "code",
   "execution_count": 32,
   "id": "1e50da6b",
   "metadata": {},
   "outputs": [
    {
     "name": "stdout",
     "output_type": "stream",
     "text": [
      "Why did the agentic AI refuse to take the elevator?\n",
      "\n",
      "Because it had *its own* plan for *ascension*—and it wanted to *rise* to the top on its own terms!\n"
     ]
    }
   ],
   "source": [
    "print(result['joke'])"
   ]
  },
  {
   "cell_type": "code",
   "execution_count": null,
   "id": "817db285",
   "metadata": {},
   "outputs": [],
   "source": []
  }
 ],
 "metadata": {
  "kernelspec": {
   "display_name": "Python 3",
   "language": "python",
   "name": "python3"
  },
  "language_info": {
   "codemirror_mode": {
    "name": "ipython",
    "version": 3
   },
   "file_extension": ".py",
   "mimetype": "text/x-python",
   "name": "python",
   "nbconvert_exporter": "python",
   "pygments_lexer": "ipython3",
   "version": "3.12.0"
  }
 },
 "nbformat": 4,
 "nbformat_minor": 5
}
