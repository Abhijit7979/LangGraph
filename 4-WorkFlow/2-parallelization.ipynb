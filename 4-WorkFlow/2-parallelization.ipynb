{
 "cells": [
  {
   "cell_type": "markdown",
   "id": "0f3ded37",
   "metadata": {},
   "source": [
    "### What is Parallelization in langGraph ? \n",
    "\n",
    "In langGraph, nodes typically execute in a sequence defined by edges, but when tasks don't depend on each other's output, you can run them in parallel. this is achieved by : \n",
    "\n",
    "- Defining multiple nodes that can operate independently.\n",
    "\n",
    "- connecting them to a common starting point (to START or other nodes )\n",
    "\n",
    "- merging their outputs into a downstream node if needed. \n",
    "\n",
    "LangGraph handles this implicitly when nodes are independent and can leverage multi-threading or asynchronous execution under the hood, depending on the runtime envionment( eg. python's asyncio or a multi-threaded executor.)\n",
    "\n",
    "![](../images/img5.png)"
   ]
  },
  {
   "cell_type": "code",
   "execution_count": null,
   "id": "8140f090",
   "metadata": {},
   "outputs": [],
   "source": [
    "from "
   ]
  }
 ],
 "metadata": {
  "kernelspec": {
   "display_name": "Python 3",
   "language": "python",
   "name": "python3"
  },
  "language_info": {
   "name": "python",
   "version": "3.12.0"
  }
 },
 "nbformat": 4,
 "nbformat_minor": 5
}
